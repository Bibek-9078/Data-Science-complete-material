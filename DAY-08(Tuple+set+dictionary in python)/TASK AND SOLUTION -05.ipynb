{
 "cells": [
  {
   "cell_type": "markdown",
   "id": "b130515b",
   "metadata": {},
   "source": [
    "# TASK AND SOLUTION -05"
   ]
  },
  {
   "cell_type": "markdown",
   "id": "732a1c50",
   "metadata": {},
   "source": [
    "## Q1: Join Tuples if similar initial elementWhile working with Python tuples, we can have a problem in which we need to perform concatenation of records from thesimilarity of initial element. This problem can have applications in data domains such as Data Science.\n",
    "## eg. Input  : test_list = [(5, 6), (5, 7), (5, 8), (6, 10), (7, 13)]   Output : [(5, 6, 7, 8), (6, 10), (7, 13)] "
   ]
  },
  {
   "cell_type": "code",
   "execution_count": 1,
   "id": "19ee663d",
   "metadata": {},
   "outputs": [
    {
     "name": "stdout",
     "output_type": "stream",
     "text": [
      "[(5, 6, 7, 8), (6, 10), (7, 13)]\n"
     ]
    }
   ],
   "source": [
    "test_list = [(5, 6), (5, 7), (5, 8), (6, 10), (7, 13)]\n",
    "unique = []\n",
    "for i in test_list:\n",
    "  unique.append(i[0])\n",
    "unique = set(unique)\n",
    "result = []\n",
    "for i in unique:\n",
    "  result.append([i])\n",
    "  for j in test_list:\n",
    "    if j[0] == i:\n",
    "      result[-1].append(j[1])\n",
    "print(list(map(tuple,result)))"
   ]
  },
  {
   "cell_type": "markdown",
   "id": "df7eaf02",
   "metadata": {},
   "source": [
    "## Q2: Multiply Adjacent elements (both side) and take sum of right and lest side multiplication result.\n",
    "## For eg.The original tuple : (1, 5, 7, 8, 10) Resultant tuple after multiplication : (1*5, 1*5+5*7, 7*5 + 7*8, 8*7 + 8*10, 10*8) -> (5, 40, 91, 136, 80) output-(5, 40, 91, 136, 80)"
   ]
  },
  {
   "cell_type": "code",
   "execution_count": 2,
   "id": "930021e6",
   "metadata": {},
   "outputs": [
    {
     "name": "stdout",
     "output_type": "stream",
     "text": [
      "(5, 40, 91, 136, 80)\n"
     ]
    }
   ],
   "source": [
    "t = (1, 5, 7, 8, 10)\n",
    "L = []\n",
    "L.append(t[0]*t[1])\n",
    "for i in range(1,len(t)-1):\n",
    "  L.append(t[i]*t[i-1] + t[i]*t[i+1])\n",
    "L.append(t[-1]*t[-2])\n",
    "print(tuple(L))"
   ]
  },
  {
   "cell_type": "markdown",
   "id": "09d8d8ef",
   "metadata": {},
   "source": [
    "## 3: Check is tuples are same or not?Two tuples would be same if both tuples have same element at same index t1 = (1,2,3,0) t2 = (0,1,2,3) t1 and t2 are not same"
   ]
  },
  {
   "cell_type": "code",
   "execution_count": 3,
   "id": "b898ae56",
   "metadata": {},
   "outputs": [
    {
     "name": "stdout",
     "output_type": "stream",
     "text": [
      "same\n"
     ]
    }
   ],
   "source": [
    "t1 = (1,2,3,0)\n",
    "t2 = (1,2,3,0)\n",
    "flag = True\n",
    "for i,j in zip(t1,t2):\n",
    "  if i == j:\n",
    "    continue\n",
    "  else:\n",
    "    flag = False\n",
    "    break\n",
    "if flag:\n",
    "  print('same')\n",
    "else:\n",
    "  print('not same')"
   ]
  },
  {
   "cell_type": "markdown",
   "id": "b6b0c45c",
   "metadata": {},
   "source": [
    "## 4:Count no of tuples, list and set from a listlist1 = [{'hi', 'bye'},{'Geeks', 'forGeeks'},('a', 'b'),['hi', 'bye'],['a', 'b']]"
   ]
  },
  {
   "cell_type": "code",
   "execution_count": 4,
   "id": "ccc2ee09",
   "metadata": {},
   "outputs": [
    {
     "name": "stdout",
     "output_type": "stream",
     "text": [
      "Lists-2\n",
      "Sets-2\n",
      "Tuples-1\n"
     ]
    }
   ],
   "source": [
    "L = [{'hi', 'bye'},{'Geeks', 'forGeeks'},('a', 'b'),['hi', 'bye'],['a', 'b']]\n",
    "output = [0,0,0]\n",
    "for i in L:\n",
    "  if type(i) == list:\n",
    "    output[0] = output[0] + 1\n",
    "  elif type(i) == set:\n",
    "    output[1] = output[1] + 1\n",
    "  elif type(i) == tuple:\n",
    "    output[2] = output[2] + 1\n",
    "  else:\n",
    "    pass\n",
    "print('Lists-{}\\nSets-{}\\nTuples-{}'.format(output[0],output[1],output[2]))"
   ]
  },
  {
   "cell_type": "markdown",
   "id": "ae8ad7c0",
   "metadata": {},
   "source": [
    "## 5. Shortlist Students for a Job role"
   ]
  },
  {
   "cell_type": "code",
   "execution_count": 5,
   "id": "c974e7cb",
   "metadata": {},
   "outputs": [
    {
     "name": "stdout",
     "output_type": "stream",
     "text": [
      "enter the number of applicants2\n",
      "Enter details of 1 applicant:\n",
      "enter namevicky\n",
      "enter higher educationmba\n",
      "enter primary skillpython\n",
      "enter year of graduation2021\n",
      "Enter details of 2 applicant:\n",
      "enter namebibek\n",
      "enter higher educationbca\n",
      "enter primary skilljava\n",
      "enter year of graduation2021\n",
      "enter required skilljava\n",
      "enter required higher educationbca\n",
      "enter required year of graduationpython\n",
      "No such candidates\n"
     ]
    }
   ],
   "source": [
    "students = []\n",
    "num = int(input('enter the number of applicants'))\n",
    "for i in range(num):\n",
    "  print('Enter details of',i+1,'applicant:')\n",
    "  name = input('enter name')\n",
    "  h_ed = input('enter higher education')\n",
    "  p_skill = input('enter primary skill')\n",
    "  yog = input('enter year of graduation')\n",
    "\n",
    "  students.append((name,h_ed,p_skill,yog))\n",
    "required_skill = input('enter required skill')\n",
    "required_hed = input('enter required higher education')\n",
    "required_yog = input('enter required year of graduation')\n",
    "\n",
    "flag = False\n",
    "for i in students:\n",
    "  if i[1] == required_hed and i[2] == required_skill and i[3] == required_yog:\n",
    "    print(i)\n",
    "    flag = True\n",
    "\n",
    "if flag == False:\n",
    "  print('No such candidates')"
   ]
  },
  {
   "cell_type": "markdown",
   "id": "0f107aec",
   "metadata": {},
   "source": [
    "# SET"
   ]
  },
  {
   "cell_type": "markdown",
   "id": "3e5ac3af",
   "metadata": {},
   "source": [
    "1. Write a program to find set of common elements in three lists using sets.\n",
    "Input : ar1 = [1, 5, 10, 20, 40, 80]\n",
    "        ar2 = [6, 7, 20, 80, 100]\n",
    "        ar3 = [3, 4, 15, 20, 30, 70, 80, 120]\n",
    "Output : [80, 20]"
   ]
  },
  {
   "cell_type": "code",
   "execution_count": 6,
   "id": "d6a3fd4b",
   "metadata": {},
   "outputs": [
    {
     "name": "stdout",
     "output_type": "stream",
     "text": [
      "[80, 20]\n"
     ]
    }
   ],
   "source": [
    "ar1 = [1, 5, 10, 20, 40, 80]\n",
    "ar2 = [6, 7, 20, 80, 100]\n",
    "ar3 = [3, 4, 15, 20, 30, 70, 80, 120]\n",
    "s1 = set(ar1)\n",
    "s2 = set(ar2)\n",
    "s3 = set(ar3)\n",
    "result = list((s1 & s2) & s3)\n",
    "print(result)"
   ]
  },
  {
   "cell_type": "markdown",
   "id": "370cf7d5",
   "metadata": {},
   "source": [
    "## 2.Write a program to count unique number of vowels using sets in a given string. Lowercase and upercase vowels will be taken as different.\n",
    "## Str1 = \"hands-on data science mentorship progrAm with live classes at affordable fee only on CampusX\"\n",
    "## No of unique vowels-6"
   ]
  },
  {
   "cell_type": "code",
   "execution_count": 7,
   "id": "22a3f31b",
   "metadata": {},
   "outputs": [
    {
     "name": "stdout",
     "output_type": "stream",
     "text": [
      "No of unique vowels- 6\n"
     ]
    }
   ],
   "source": [
    "vowels = set('aeiouAEIOU')\n",
    "s = set(\"hands-on data science mentorship progrAm with live classes at affordable fee only on CampusX\")\n",
    "print('No of unique vowels-',len(s & vowels))"
   ]
  },
  {
   "cell_type": "markdown",
   "id": "acb56449",
   "metadata": {},
   "source": [
    "## 3: Write a program to Check if a given string is binary string of or not.A string is said to be binary if it's consists of only two unique characters. Take string input from user.\n",
    "## Input: str = \"01010101010\"\n",
    "## Output: Yes\n",
    "## Input: str = \"1222211\"\n",
    "## Output: Yes\n",
    "## Input: str = \"Campusx\"\n",
    "## Output: No"
   ]
  },
  {
   "cell_type": "code",
   "execution_count": 8,
   "id": "206cda89",
   "metadata": {},
   "outputs": [
    {
     "name": "stdout",
     "output_type": "stream",
     "text": [
      "not binary\n"
     ]
    }
   ],
   "source": [
    "s = \"010101010103\"\n",
    "if len(set(s)) == 2:\n",
    "  print('binary')\n",
    "else:\n",
    "  print('not binary')"
   ]
  },
  {
   "cell_type": "markdown",
   "id": "a938b6db",
   "metadata": {},
   "source": [
    "Q4: find union of n arrays.\n",
    "Input:\n",
    "[[1, 2, 2, 4, 3, 6],\n",
    " [5, 1, 3, 4],\n",
    " [9, 5, 7, 1],\n",
    " [2, 4, 1, 3]]\n",
    "Output:[1, 2, 3, 4, 5, 6, 7, 9]"
   ]
  },
  {
   "cell_type": "code",
   "execution_count": 9,
   "id": "4fe0bae0",
   "metadata": {},
   "outputs": [
    {
     "name": "stdout",
     "output_type": "stream",
     "text": [
      "{1, 2, 3, 4, 5, 6, 7, 9}\n"
     ]
    }
   ],
   "source": [
    "L = [[1, 2, 2, 4, 3, 6],\n",
    " [5, 1, 3, 4],\n",
    " [9, 5, 7, 1],\n",
    " [2, 4, 1, 3]]\n",
    "s = set()\n",
    "for i in L:\n",
    "  s.update(i)\n",
    "print(s)"
   ]
  },
  {
   "cell_type": "markdown",
   "id": "104eb3cc",
   "metadata": {},
   "source": [
    "## 5.Intersection of two lists. Intersection of two list means we need to take all those elements which are common to both of the initial lists and store them into another list. Only use using list-comprehension.\n",
    "## lst1 = {15, 9, 10, 56, 23, 78, 5, 4, 9}\n",
    "## lst2 = {9, 4, 5, 36, 47, 26, 10, 45, 87}\n",
    "## Output: [9, 10, 4, 5]"
   ]
  },
  {
   "cell_type": "code",
   "execution_count": 10,
   "id": "22d6b09c",
   "metadata": {},
   "outputs": [
    {
     "data": {
      "text/plain": [
       "[4, 5, 9, 10]"
      ]
     },
     "execution_count": 10,
     "metadata": {},
     "output_type": "execute_result"
    }
   ],
   "source": [
    "lst1 = {15, 9, 10, 56, 23, 78, 5, 4, 9}\n",
    "lst2 = {9, 4, 5, 36, 47, 26, 10, 45, 87}\n",
    "[item for item in lst1 if item in lst2]"
   ]
  },
  {
   "cell_type": "markdown",
   "id": "db8115d1",
   "metadata": {},
   "source": [
    "# Dictionary"
   ]
  },
  {
   "cell_type": "markdown",
   "id": "e58c8a98",
   "metadata": {},
   "source": [
    "## 1: Key with maximum unique values.Given a dictionary with values list, extract key whose value has most unique values.\n",
    "## EG:Input:test_dict = {\"CampusX\" : [5, 7, 9, 4, 0], \"is\" : [6, 7, 4, 3, 3], \"Best\" : [9, 9, 6, 5, 5]}Output:CampusX"
   ]
  },
  {
   "cell_type": "code",
   "execution_count": 11,
   "id": "6ed8e051",
   "metadata": {},
   "outputs": [
    {
     "name": "stdout",
     "output_type": "stream",
     "text": [
      "CampusX is the best channel for Data-Science students.\n"
     ]
    }
   ],
   "source": [
    "test_str = 'CampusX best for DS students.'\n",
    "repl_dict = {\"best\" : \"is the best channel\", \"DS\" : \"Data-Science\"}\n",
    "res = []\n",
    "for i in test_str.split():\n",
    "  if i in repl_dict:\n",
    "    res.append(repl_dict[i])\n",
    "  else:\n",
    "    res.append(i)\n",
    "print(\" \".join(res))"
   ]
  },
  {
   "cell_type": "markdown",
   "id": "35ee55b3",
   "metadata": {},
   "source": [
    "## 2.Replace words from Dictionary. Given String, replace it’s words from lookup dictionary.\n",
    "## Input:\n",
    "## test_str = 'CampusX best for DS students.'\n",
    "## repl_dict = {\"best\" : \"is the best channel\", \"DS\" : \"Data-Science\"}\n",
    "## Output:CampusX is the best channel for Data-Science students."
   ]
  },
  {
   "cell_type": "code",
   "execution_count": 12,
   "id": "79b600e3",
   "metadata": {},
   "outputs": [
    {
     "name": "stdout",
     "output_type": "stream",
     "text": [
      "CampusX is the best channel for Data-Science students.\n"
     ]
    }
   ],
   "source": [
    "test_str = 'CampusX best for DS students.'\n",
    "repl_dict = {\"best\" : \"is the best channel\", \"DS\" : \"Data-Science\"}\n",
    "res = []\n",
    "for i in test_str.split():\n",
    "  if i in repl_dict:\n",
    "    res.append(repl_dict[i])\n",
    "  else:\n",
    "    res.append(i)\n",
    "print(\" \".join(res))"
   ]
  },
  {
   "cell_type": "markdown",
   "id": "fadab864",
   "metadata": {},
   "source": [
    "## 3.Convert List to List of dictionaries. Given list values and keys list, convert these values to key value pairs in form of list of dictionaries.\n",
    "## Input:\n",
    "## test_list = [\"DataScience\", 3, \"is\", 8]\n",
    "## key_list = [\"name\", \"id\"]\n",
    "## Output:[{'name': 'DataScience', 'id': 3}, {'name': 'is', 'id': 8}]"
   ]
  },
  {
   "cell_type": "code",
   "execution_count": 13,
   "id": "df5ca5a5",
   "metadata": {},
   "outputs": [
    {
     "name": "stdout",
     "output_type": "stream",
     "text": [
      "[{'name': 'CampusX', 'id': 10}]\n"
     ]
    }
   ],
   "source": [
    "test_list = [\"CampusX\", 10]\n",
    "key_list = [\"name\", \"id\"]\n",
    "n = len(test_list)\n",
    "res = []\n",
    "for i in range(0,n,2):\n",
    "  res.append({key_list[0]: test_list[i],key_list[1]:test_list[i+1]})\n",
    "print(res)"
   ]
  },
  {
   "cell_type": "markdown",
   "id": "bb79871c",
   "metadata": {},
   "source": [
    "## 4.Convert a list of Tuples into Dictionary.\n",
    "## Input:[(\"akash\", 10), (\"gaurav\", 12), (\"anand\", 14), (\"suraj\", 20), (\"akhil\", 25), (\"ashish\", 30)]\n",
    "## Output:{'akash': [10], 'gaurav': [12], 'anand': [14], 'suraj': [20], 'akhil': [25], 'ashish': [30]}"
   ]
  },
  {
   "cell_type": "code",
   "execution_count": 14,
   "id": "8e562ecc",
   "metadata": {},
   "outputs": [
    {
     "name": "stdout",
     "output_type": "stream",
     "text": [
      "{'A': [1], 'B': [2], 'C': [3]}\n"
     ]
    }
   ],
   "source": [
    "L1 = [(\"akash\", 10), (\"gaurav\", 12), (\"anand\", 14), (\"suraj\", 20), (\"akhil\", 25), (\"ashish\", 30)]\n",
    "L = [('A', 1), ('B', 2), ('C', 3)]\n",
    "d = {}\n",
    "for i,j in L:\n",
    "  d[i] = [j]\n",
    "print(d)"
   ]
  },
  {
   "cell_type": "markdown",
   "id": "63234082",
   "metadata": {},
   "source": [
    "## 5 Sort Dictionary key and values List.\n",
    "## Example 1: Input:{'c': [3], 'b': [12, 10], 'a': [19, 4]}   Output:{'a': [4, 19], 'b': [10, 12], 'c': [3]}"
   ]
  },
  {
   "cell_type": "code",
   "execution_count": 15,
   "id": "d5d2ec83",
   "metadata": {},
   "outputs": [
    {
     "name": "stdout",
     "output_type": "stream",
     "text": [
      "{'a': [4, 19], 'b': [10, 12], 'c': [3]}\n"
     ]
    }
   ],
   "source": [
    "d = {'c': [3], 'b': [12, 10], 'a': [19, 4]}\n",
    "res = {}\n",
    "for i in sorted(d):\n",
    "  res[i] = sorted(d[i])\n",
    "print(res)"
   ]
  },
  {
   "cell_type": "code",
   "execution_count": null,
   "id": "25212947",
   "metadata": {},
   "outputs": [],
   "source": []
  }
 ],
 "metadata": {
  "kernelspec": {
   "display_name": "Python 3 (ipykernel)",
   "language": "python",
   "name": "python3"
  },
  "language_info": {
   "codemirror_mode": {
    "name": "ipython",
    "version": 3
   },
   "file_extension": ".py",
   "mimetype": "text/x-python",
   "name": "python",
   "nbconvert_exporter": "python",
   "pygments_lexer": "ipython3",
   "version": "3.9.13"
  }
 },
 "nbformat": 4,
 "nbformat_minor": 5
}
