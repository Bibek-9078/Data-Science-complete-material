{
 "cells": [
  {
   "cell_type": "markdown",
   "id": "4ee47608",
   "metadata": {},
   "source": [
    "# OPERATORS IN PYTHON "
   ]
  },
  {
   "cell_type": "markdown",
   "id": "80d9213b",
   "metadata": {},
   "source": [
    "### Operators are used to perform operation on variable and values.in python has follwing operators. \n",
    "### 1.Arithmetric Operators       2.Relational Operators                3.Logical Operator  4. Bitwise Operators         5.Assignment Operators             6.Membership Operators."
   ]
  },
  {
   "cell_type": "markdown",
   "id": "a433b682",
   "metadata": {},
   "source": [
    "# 1.Arithmetric Operators(+,-,*,/,%,//,**)"
   ]
  },
  {
   "cell_type": "markdown",
   "id": "cf7ee116",
   "metadata": {},
   "source": [
    "### * Arithmetic operators are used to perform mathematical operations like addition, \n",
    "### subtraction, multiplication and division. There are 7 arithmetic operators in Python :\n",
    "### 1.Addition       2.Subtraction              3.Multiplication 4.Division       5.Modulus                   6.Exponentiation              7.Integer division."
   ]
  },
  {
   "cell_type": "code",
   "execution_count": 91,
   "id": "91711068",
   "metadata": {},
   "outputs": [],
   "source": [
    "a=9\n",
    "b=2"
   ]
  },
  {
   "cell_type": "markdown",
   "id": "766da872",
   "metadata": {},
   "source": [
    "### 1.ADDTION:In Python, \"+\" is the addition operator. It is used to add 2 values."
   ]
  },
  {
   "cell_type": "code",
   "execution_count": 2,
   "id": "e93df94e",
   "metadata": {},
   "outputs": [
    {
     "name": "stdout",
     "output_type": "stream",
     "text": [
      "11\n"
     ]
    }
   ],
   "source": [
    "print(a+b)"
   ]
  },
  {
   "cell_type": "markdown",
   "id": "a30c6378",
   "metadata": {},
   "source": [
    "### 2.SUBTRACTION : In Python, \"– \"is the subtraction operator. It is used to subtract the second value from the first value."
   ]
  },
  {
   "cell_type": "code",
   "execution_count": 3,
   "id": "903d6eb7",
   "metadata": {},
   "outputs": [
    {
     "name": "stdout",
     "output_type": "stream",
     "text": [
      "7\n"
     ]
    }
   ],
   "source": [
    "print(a-b)"
   ]
  },
  {
   "cell_type": "markdown",
   "id": "4eb89351",
   "metadata": {},
   "source": [
    "### 3.MULTIPLICATION  : In Python, * is the multiplication operator. It is used to find the product of 2 values."
   ]
  },
  {
   "cell_type": "code",
   "execution_count": 4,
   "id": "ddc96995",
   "metadata": {},
   "outputs": [
    {
     "name": "stdout",
     "output_type": "stream",
     "text": [
      "18\n"
     ]
    }
   ],
   "source": [
    "print(a*b)"
   ]
  },
  {
   "cell_type": "markdown",
   "id": "cd54bf8d",
   "metadata": {},
   "source": [
    "### 4.DIVISION : In Python, \"/\" is the division operator. It is used to find the quotient when first operand is divided by the second."
   ]
  },
  {
   "cell_type": "code",
   "execution_count": 5,
   "id": "50f400bb",
   "metadata": {},
   "outputs": [
    {
     "name": "stdout",
     "output_type": "stream",
     "text": [
      "4.5\n"
     ]
    }
   ],
   "source": [
    "print(a/b)"
   ]
  },
  {
   "cell_type": "markdown",
   "id": "fe33316e",
   "metadata": {},
   "source": [
    "### 5.MODULES  : In Python, \"%\" is the modulus operator. It is used to find the remainder when first operand is divided by the second."
   ]
  },
  {
   "cell_type": "code",
   "execution_count": 6,
   "id": "2cde0040",
   "metadata": {},
   "outputs": [
    {
     "name": "stdout",
     "output_type": "stream",
     "text": [
      "1\n"
     ]
    }
   ],
   "source": [
    "print(a%b) "
   ]
  },
  {
   "cell_type": "markdown",
   "id": "4753350c",
   "metadata": {},
   "source": [
    "### 6.INTEGER DIVISION In Python, \"//\" is used to conduct the floor division. It is used to find the floor of the quotient when first operand is divided by the second."
   ]
  },
  {
   "cell_type": "code",
   "execution_count": 7,
   "id": "60194fb6",
   "metadata": {},
   "outputs": [
    {
     "name": "stdout",
     "output_type": "stream",
     "text": [
      "4\n"
     ]
    }
   ],
   "source": [
    "print(a//b) "
   ]
  },
  {
   "cell_type": "markdown",
   "id": "5e1879a3",
   "metadata": {},
   "source": [
    "### 7.Exponentiation Operator : In Python, \"**\" is the exponentiation operator. It is used to raise the first operand to power of second."
   ]
  },
  {
   "cell_type": "code",
   "execution_count": 8,
   "id": "d80665d3",
   "metadata": {},
   "outputs": [
    {
     "name": "stdout",
     "output_type": "stream",
     "text": [
      "81\n"
     ]
    }
   ],
   "source": [
    "print(a**b)"
   ]
  },
  {
   "cell_type": "markdown",
   "id": "16497ba1",
   "metadata": {},
   "source": [
    "## 2.COMPARISON OR RELACTIONAL OPERATOR (<,>,<=,>=,==,!=):\n",
    "### Comparison operators are used to compare two values."
   ]
  },
  {
   "cell_type": "markdown",
   "id": "3ec67b12",
   "metadata": {},
   "source": [
    "### 1.GRATERTHAN:If the value of left operand is greater than the value of right operand, then condition becomes true."
   ]
  },
  {
   "cell_type": "code",
   "execution_count": 9,
   "id": "0f712775",
   "metadata": {},
   "outputs": [
    {
     "name": "stdout",
     "output_type": "stream",
     "text": [
      "True\n"
     ]
    }
   ],
   "source": [
    "print(a>b)"
   ]
  },
  {
   "cell_type": "markdown",
   "id": "c91e04fe",
   "metadata": {},
   "source": [
    "### 2.LESS THAN:f the value of left operand is less than the value of right operand, then condition becomes true."
   ]
  },
  {
   "cell_type": "code",
   "execution_count": 10,
   "id": "4e9c6241",
   "metadata": {},
   "outputs": [
    {
     "name": "stdout",
     "output_type": "stream",
     "text": [
      "False\n"
     ]
    }
   ],
   "source": [
    "print(a<b)"
   ]
  },
  {
   "cell_type": "markdown",
   "id": "ff8afb85",
   "metadata": {},
   "source": [
    "### 3.GRATERTHAN EQUAL:If the value of left operand is greater than or equal to the value of right operand, then condition becomes true."
   ]
  },
  {
   "cell_type": "code",
   "execution_count": 11,
   "id": "293b79c4",
   "metadata": {},
   "outputs": [
    {
     "name": "stdout",
     "output_type": "stream",
     "text": [
      "True\n"
     ]
    }
   ],
   "source": [
    "print(a>=b) "
   ]
  },
  {
   "cell_type": "markdown",
   "id": "7fc89f26",
   "metadata": {},
   "source": [
    "### 4.LESS THAN EQUAL:If the value of left operand is less than or equal to the value of right operand, then condition becomes true."
   ]
  },
  {
   "cell_type": "code",
   "execution_count": 12,
   "id": "3593cc1d",
   "metadata": {},
   "outputs": [
    {
     "name": "stdout",
     "output_type": "stream",
     "text": [
      "False\n"
     ]
    }
   ],
   "source": [
    "print(a<=b)"
   ]
  },
  {
   "cell_type": "markdown",
   "id": "044a01de",
   "metadata": {},
   "source": [
    "### 5.EQUALL TO:If the values of two operands are equal, then the condition becomes true."
   ]
  },
  {
   "cell_type": "code",
   "execution_count": 13,
   "id": "039c6c05",
   "metadata": {},
   "outputs": [
    {
     "name": "stdout",
     "output_type": "stream",
     "text": [
      "False\n"
     ]
    }
   ],
   "source": [
    "print(a==b)"
   ]
  },
  {
   "cell_type": "markdown",
   "id": "9cc84a64",
   "metadata": {},
   "source": [
    "### 6.NOT EQUALL TO : If values of two operands are not equal, then condition becomes true."
   ]
  },
  {
   "cell_type": "code",
   "execution_count": 14,
   "id": "d8606941",
   "metadata": {},
   "outputs": [
    {
     "name": "stdout",
     "output_type": "stream",
     "text": [
      "True\n"
     ]
    }
   ],
   "source": [
    "print(a!=b)"
   ]
  },
  {
   "cell_type": "markdown",
   "id": "a1a6d63c",
   "metadata": {},
   "source": [
    "## 3.LOGICAL OPERATORS(AND,OR,NOT):\n",
    "### Logical operators are used to combine conditional statements."
   ]
  },
  {
   "cell_type": "code",
   "execution_count": 15,
   "id": "8a190f0f",
   "metadata": {},
   "outputs": [],
   "source": [
    "a=True\n",
    "b=False "
   ]
  },
  {
   "cell_type": "markdown",
   "id": "e439aee4",
   "metadata": {},
   "source": [
    "### 1.OR:Returns True if one of the statements is true."
   ]
  },
  {
   "cell_type": "code",
   "execution_count": 16,
   "id": "9d1e3237",
   "metadata": {},
   "outputs": [
    {
     "name": "stdout",
     "output_type": "stream",
     "text": [
      "True\n"
     ]
    }
   ],
   "source": [
    "print(a or b)"
   ]
  },
  {
   "cell_type": "markdown",
   "id": "a717cfdc",
   "metadata": {},
   "source": [
    "### 2.AND:Returns True if both statements are true."
   ]
  },
  {
   "cell_type": "code",
   "execution_count": 17,
   "id": "99046750",
   "metadata": {},
   "outputs": [
    {
     "name": "stdout",
     "output_type": "stream",
     "text": [
      "False\n"
     ]
    }
   ],
   "source": [
    "print(a and b)"
   ]
  },
  {
   "cell_type": "markdown",
   "id": "e1aa9533",
   "metadata": {},
   "source": [
    "### 3.NOT:Reverse the result, returns False if the result is true."
   ]
  },
  {
   "cell_type": "code",
   "execution_count": 18,
   "id": "a8cc78f6",
   "metadata": {},
   "outputs": [
    {
     "name": "stdout",
     "output_type": "stream",
     "text": [
      "True\n"
     ]
    }
   ],
   "source": [
    "print(not b)"
   ]
  },
  {
   "cell_type": "markdown",
   "id": "ffcbf3f1",
   "metadata": {},
   "source": [
    "##  4.BITWISE OPERATORS:\n",
    "### Bitwise operators are used to compare (binary) numbers."
   ]
  },
  {
   "cell_type": "code",
   "execution_count": 19,
   "id": "a0573db2",
   "metadata": {},
   "outputs": [],
   "source": [
    "X=2\n",
    "Y=3"
   ]
  },
  {
   "cell_type": "markdown",
   "id": "c2a8901d",
   "metadata": {},
   "source": [
    "### 1.Bitwise and:Sets each bit to 1 if both bits are 1."
   ]
  },
  {
   "cell_type": "code",
   "execution_count": 20,
   "id": "ad875daf",
   "metadata": {},
   "outputs": [
    {
     "name": "stdout",
     "output_type": "stream",
     "text": [
      "2\n"
     ]
    }
   ],
   "source": [
    "print(X &Y)"
   ]
  },
  {
   "cell_type": "markdown",
   "id": "d386d08c",
   "metadata": {},
   "source": [
    "### 2.Bitwise or:Sets each bit to 1 if one of two bits is 1."
   ]
  },
  {
   "cell_type": "code",
   "execution_count": 21,
   "id": "70acec69",
   "metadata": {},
   "outputs": [
    {
     "name": "stdout",
     "output_type": "stream",
     "text": [
      "3\n"
     ]
    }
   ],
   "source": [
    "print(X|Y)"
   ]
  },
  {
   "cell_type": "markdown",
   "id": "34dc3c99",
   "metadata": {},
   "source": [
    "### 3.Bitwise xor:Sets each bit to 1 if only one of two bits is 1."
   ]
  },
  {
   "cell_type": "code",
   "execution_count": 22,
   "id": "65706bfe",
   "metadata": {},
   "outputs": [
    {
     "name": "stdout",
     "output_type": "stream",
     "text": [
      "1\n"
     ]
    }
   ],
   "source": [
    "print(X ^Y)"
   ]
  },
  {
   "cell_type": "markdown",
   "id": "23e1b996",
   "metadata": {},
   "source": [
    "### 4.Bitwise right shift :Shift right by pushing copies of the leftmost bit in from the left, and let the rightmost bits fall off."
   ]
  },
  {
   "cell_type": "code",
   "execution_count": 23,
   "id": "b11e21b8",
   "metadata": {},
   "outputs": [
    {
     "name": "stdout",
     "output_type": "stream",
     "text": [
      "0\n"
     ]
    }
   ],
   "source": [
    "print(X>>Y)"
   ]
  },
  {
   "cell_type": "markdown",
   "id": "d7679b75",
   "metadata": {},
   "source": [
    "### 5.Bitwise left shift :Shift left by pushing zeros in from the right and let the leftmost bits fall off."
   ]
  },
  {
   "cell_type": "code",
   "execution_count": 24,
   "id": "5bbce8c8",
   "metadata": {},
   "outputs": [
    {
     "name": "stdout",
     "output_type": "stream",
     "text": [
      "16\n"
     ]
    }
   ],
   "source": [
    "print(X<<Y)"
   ]
  },
  {
   "cell_type": "markdown",
   "id": "fc02c840",
   "metadata": {},
   "source": [
    "### 6.Bitwise not:Inverts all the bits."
   ]
  },
  {
   "cell_type": "code",
   "execution_count": 25,
   "id": "3b6ed41a",
   "metadata": {},
   "outputs": [
    {
     "name": "stdout",
     "output_type": "stream",
     "text": [
      "-3\n"
     ]
    }
   ],
   "source": [
    "print(~X)"
   ]
  },
  {
   "cell_type": "code",
   "execution_count": 26,
   "id": "ef621459",
   "metadata": {},
   "outputs": [
    {
     "name": "stdout",
     "output_type": "stream",
     "text": [
      "-4\n"
     ]
    }
   ],
   "source": [
    "print(~Y)"
   ]
  },
  {
   "cell_type": "markdown",
   "id": "c1a56f7f",
   "metadata": {},
   "source": [
    "## 5.Assignment Operators: Assignment operators are used to assign values to variables."
   ]
  },
  {
   "cell_type": "code",
   "execution_count": 27,
   "id": "df523ce0",
   "metadata": {},
   "outputs": [],
   "source": [
    "a = 2"
   ]
  },
  {
   "cell_type": "code",
   "execution_count": 28,
   "id": "26edf59b",
   "metadata": {},
   "outputs": [
    {
     "name": "stdout",
     "output_type": "stream",
     "text": [
      "2\n"
     ]
    }
   ],
   "source": [
    "print(a)"
   ]
  },
  {
   "cell_type": "code",
   "execution_count": 29,
   "id": "ef0443db",
   "metadata": {},
   "outputs": [],
   "source": [
    "a +=3"
   ]
  },
  {
   "cell_type": "code",
   "execution_count": 30,
   "id": "c5fd1268",
   "metadata": {},
   "outputs": [
    {
     "name": "stdout",
     "output_type": "stream",
     "text": [
      "5\n"
     ]
    }
   ],
   "source": [
    "print(a)"
   ]
  },
  {
   "cell_type": "code",
   "execution_count": 31,
   "id": "3e6f29d3",
   "metadata": {},
   "outputs": [],
   "source": [
    "a -=3"
   ]
  },
  {
   "cell_type": "code",
   "execution_count": 32,
   "id": "e4f4c57c",
   "metadata": {},
   "outputs": [
    {
     "name": "stdout",
     "output_type": "stream",
     "text": [
      "2\n"
     ]
    }
   ],
   "source": [
    "print(a)"
   ]
  },
  {
   "cell_type": "markdown",
   "id": "e5199d60",
   "metadata": {},
   "source": [
    "## 6.IDENTITY OPERATORS:Identity operators are used to compare the objects, not if they are equal, but if they are actually the same object, with the same memory location"
   ]
  },
  {
   "cell_type": "code",
   "execution_count": 33,
   "id": "f3b2d6e5",
   "metadata": {},
   "outputs": [
    {
     "name": "stdout",
     "output_type": "stream",
     "text": [
      "True\n"
     ]
    }
   ],
   "source": [
    "a=3\n",
    "b=3\n",
    "print(a is b)"
   ]
  },
  {
   "cell_type": "code",
   "execution_count": 34,
   "id": "142929e1",
   "metadata": {},
   "outputs": [
    {
     "name": "stdout",
     "output_type": "stream",
     "text": [
      "False\n"
     ]
    }
   ],
   "source": [
    "a=[1,2,3,4]\n",
    "b=[1,2,3,4]\n",
    "print(a is b)"
   ]
  },
  {
   "cell_type": "code",
   "execution_count": 35,
   "id": "ba05da7e",
   "metadata": {},
   "outputs": [
    {
     "name": "stdout",
     "output_type": "stream",
     "text": [
      "True\n"
     ]
    }
   ],
   "source": [
    "a=\"hello\"\n",
    "b=\"hello\"\n",
    "print(a is b)"
   ]
  },
  {
   "cell_type": "code",
   "execution_count": 36,
   "id": "44058308",
   "metadata": {},
   "outputs": [
    {
     "name": "stdout",
     "output_type": "stream",
     "text": [
      "True\n"
     ]
    }
   ],
   "source": [
    "a=\"hello_world\"\n",
    "b=\"hello_world\"\n",
    "print(a is b)"
   ]
  },
  {
   "cell_type": "markdown",
   "id": "a31d5b13",
   "metadata": {},
   "source": [
    "## 7.Membership Operators:"
   ]
  },
  {
   "cell_type": "markdown",
   "id": "89947fb4",
   "metadata": {},
   "source": [
    "###  1.not in: Returns True if a sequence with the specified value is not present in the object"
   ]
  },
  {
   "cell_type": "code",
   "execution_count": 37,
   "id": "af968a1a",
   "metadata": {},
   "outputs": [
    {
     "name": "stdout",
     "output_type": "stream",
     "text": [
      "False\n"
     ]
    }
   ],
   "source": [
    "print('D' not in 'Delhi')"
   ]
  },
  {
   "cell_type": "markdown",
   "id": "a7655036",
   "metadata": {},
   "source": [
    "###  2.in: Returns True if a sequence with the specified value is present in the object"
   ]
  },
  {
   "cell_type": "code",
   "execution_count": 38,
   "id": "a9d62832",
   "metadata": {},
   "outputs": [
    {
     "name": "stdout",
     "output_type": "stream",
     "text": [
      "False\n"
     ]
    }
   ],
   "source": [
    "print(1 in [2,3,4,5,6])"
   ]
  },
  {
   "cell_type": "code",
   "execution_count": 39,
   "id": "c33c523b",
   "metadata": {},
   "outputs": [
    {
     "name": "stdout",
     "output_type": "stream",
     "text": [
      "2\n"
     ]
    }
   ],
   "source": [
    "a=2\n",
    "b=3\n",
    "print(a & b)#"
   ]
  },
  {
   "cell_type": "markdown",
   "id": "b4a3e3e4",
   "metadata": {},
   "source": [
    "# If-else in Python "
   ]
  },
  {
   "cell_type": "markdown",
   "id": "60eaa98c",
   "metadata": {},
   "source": [
    "## IF ELSE\n",
    "### if.............elif..............else  Statement is used for Python decision making\n",
    "\n",
    "###  →IF Statement syntax\n",
    "\n",
    "### if test expression:\n",
    "\n",
    "###    Statement (S)\n",
    "\n",
    "### → The program evalutes the test expression and will excute Statement(s) only if the text expression is true.\n",
    "\n",
    "### -> If the text expression is false, the statement (s) is not excented."
   ]
  },
  {
   "cell_type": "markdown",
   "id": "45e021f4",
   "metadata": {},
   "source": [
    "### if test expression:\n",
    "###    Body of if\n",
    "### else:\n",
    "###    Body of else "
   ]
  },
  {
   "cell_type": "code",
   "execution_count": 40,
   "id": "a7f08d99",
   "metadata": {},
   "outputs": [
    {
     "name": "stdout",
     "output_type": "stream",
     "text": [
      "Enter your email:bibek4panda@gmail.com\n",
      "Enter your password:1234\n",
      "welcome\n"
     ]
    }
   ],
   "source": [
    "email= input(\"Enter your email:\")\n",
    "password= input(\"Enter your password:\")\n",
    "if email==\"bibek4panda@gmail.com\"and password==\"1234\":\n",
    "   print(\"welcome\")\n",
    "else:\n",
    "  print(\"incorrect\")"
   ]
  },
  {
   "cell_type": "markdown",
   "id": "d9f5a40d",
   "metadata": {},
   "source": [
    "# if.............elif..............else  Statement\n",
    "### syntax\n",
    "### if test expression:\n",
    "###    Body of if\n",
    "### elif test expression:\n",
    "###    Body of elif \n",
    "### else:\n",
    "###    Body of else "
   ]
  },
  {
   "cell_type": "code",
   "execution_count": 41,
   "id": "66782ab2",
   "metadata": {},
   "outputs": [
    {
     "name": "stdout",
     "output_type": "stream",
     "text": [
      "Enter your email:bibek4panda@gmail.com\n",
      "Enter your password:1243\n",
      "password incorrect\n",
      "Re enter the password:1234\n",
      "finally correct\n"
     ]
    }
   ],
   "source": [
    "email= input(\"Enter your email:\")\n",
    "password= input(\"Enter your password:\")\n",
    "if email==\"bibek4panda@gmail.com\"and password==\"1234\":\n",
    "   print(\"welcome\")\n",
    "elif email==\"bibek4panda@gmail.com\"and password!=\"1234\":\n",
    "     print(\"password incorrect\")\n",
    "password=input(\"Re enter the password:\")\n",
    "if password==\"1234\":\n",
    "  print(\"finally correct\")\n",
    "else:\n",
    "  print(\"still incorrect\")"
   ]
  },
  {
   "cell_type": "markdown",
   "id": "e365e44f",
   "metadata": {},
   "source": [
    "## Program - Find the sum of a 3 digit number entered by the user"
   ]
  },
  {
   "cell_type": "code",
   "execution_count": 42,
   "id": "e45ab0d7",
   "metadata": {},
   "outputs": [
    {
     "name": "stdout",
     "output_type": "stream",
     "text": [
      "Enter a 3 digit number:999\n",
      "27\n"
     ]
    }
   ],
   "source": [
    "number = int(input('Enter a 3 digit number:'))\n",
    "a = number%10       # 345%10 -> 5\n",
    "number = number//10\n",
    "b = number % 10     # 34%10 -> 4\n",
    "number = number//10\n",
    "c = number % 10     # 3 % 10 -> 3\n",
    "print(a + b + c)"
   ]
  },
  {
   "cell_type": "markdown",
   "id": "d90ce619",
   "metadata": {},
   "source": [
    "## menu driven calculator"
   ]
  },
  {
   "cell_type": "code",
   "execution_count": 43,
   "id": "e2ba0bf9",
   "metadata": {},
   "outputs": [
    {
     "name": "stdout",
     "output_type": "stream",
     "text": [
      "\n",
      "Hi! how can I help you.\n",
      "1. Enter 1 for pin change\n",
      "2. Enter 2 for balance check\n",
      "3. Enter 3 for withdrawl\n",
      "4. Enter 4 for exit\n",
      "1\n",
      "pin change:\n"
     ]
    }
   ],
   "source": [
    "menu = input(\"\"\"\n",
    "Hi! how can I help you.\n",
    "1. Enter 1 for pin change\n",
    "2. Enter 2 for balance check\n",
    "3. Enter 3 for withdrawl\n",
    "4. Enter 4 for exit\n",
    "\"\"\")\n",
    "\n",
    "if menu == '1':\n",
    "  print('pin change:')\n",
    "elif menu == '2':\n",
    "  print('balance:')\n",
    "else:\n",
    "  print('exit')"
   ]
  },
  {
   "cell_type": "markdown",
   "id": "7900c63f",
   "metadata": {},
   "source": [
    "## BUILT IN MODULES "
   ]
  },
  {
   "cell_type": "code",
   "execution_count": 44,
   "id": "5f42d66d",
   "metadata": {},
   "outputs": [],
   "source": [
    "# math\n",
    "import math      # math\n",
    "import random    # random\n",
    "import datetime  # datetime\n",
    "import time "
   ]
  },
  {
   "cell_type": "code",
   "execution_count": 45,
   "id": "ab4b5834",
   "metadata": {},
   "outputs": [
    {
     "name": "stdout",
     "output_type": "stream",
     "text": [
      "39\n"
     ]
    }
   ],
   "source": [
    "print(random.randint(1,100))"
   ]
  },
  {
   "cell_type": "code",
   "execution_count": 46,
   "id": "d0a9f46b",
   "metadata": {},
   "outputs": [
    {
     "name": "stdout",
     "output_type": "stream",
     "text": [
      "2023-03-07 12:24:50.180102\n"
     ]
    }
   ],
   "source": [
    "print(datetime.datetime.now())"
   ]
  },
  {
   "cell_type": "code",
   "execution_count": 47,
   "id": "904e09a2",
   "metadata": {},
   "outputs": [
    {
     "data": {
      "text/plain": [
       "14.0"
      ]
     },
     "execution_count": 47,
     "metadata": {},
     "output_type": "execute_result"
    }
   ],
   "source": [
    "math.sqrt(196)"
   ]
  },
  {
   "cell_type": "code",
   "execution_count": 48,
   "id": "1cac6696",
   "metadata": {},
   "outputs": [
    {
     "name": "stdout",
     "output_type": "stream",
     "text": [
      "3.141592653589793\n"
     ]
    }
   ],
   "source": [
    "print(math.pi)"
   ]
  },
  {
   "cell_type": "code",
   "execution_count": 49,
   "id": "7b9581da",
   "metadata": {},
   "outputs": [
    {
     "name": "stdout",
     "output_type": "stream",
     "text": [
      "2.718281828459045\n"
     ]
    }
   ],
   "source": [
    "print(math.e)"
   ]
  },
  {
   "cell_type": "code",
   "execution_count": 50,
   "id": "ce3916b9",
   "metadata": {},
   "outputs": [
    {
     "name": "stdout",
     "output_type": "stream",
     "text": [
      "120\n"
     ]
    }
   ],
   "source": [
    "print(math.factorial(5))"
   ]
  },
  {
   "cell_type": "code",
   "execution_count": 51,
   "id": "e483c5f7",
   "metadata": {},
   "outputs": [
    {
     "name": "stdout",
     "output_type": "stream",
     "text": [
      "7\n"
     ]
    }
   ],
   "source": [
    "print(math.ceil(6.3))"
   ]
  },
  {
   "cell_type": "code",
   "execution_count": 52,
   "id": "0632a8da",
   "metadata": {},
   "outputs": [
    {
     "name": "stdout",
     "output_type": "stream",
     "text": [
      "6\n"
     ]
    }
   ],
   "source": [
    "print(math.floor(6.9))"
   ]
  },
  {
   "cell_type": "code",
   "execution_count": 53,
   "id": "a4d2c78f",
   "metadata": {},
   "outputs": [
    {
     "name": "stdout",
     "output_type": "stream",
     "text": [
      "10.0\n"
     ]
    }
   ],
   "source": [
    "print(math.sqrt(100))"
   ]
  },
  {
   "cell_type": "code",
   "execution_count": 54,
   "id": "9813060e",
   "metadata": {},
   "outputs": [
    {
     "name": "stdout",
     "output_type": "stream",
     "text": [
      "None\n",
      "[4, 5, 1, 2, 3]\n"
     ]
    }
   ],
   "source": [
    "a = [1,2,3,4,5] \n",
    "print(random.shuffle(a))\n",
    "print(a)"
   ]
  },
  {
   "cell_type": "code",
   "execution_count": 55,
   "id": "a8dbc3dd",
   "metadata": {},
   "outputs": [
    {
     "name": "stdout",
     "output_type": "stream",
     "text": [
      "1678172096.512491\n"
     ]
    }
   ],
   "source": [
    "print(time.time())"
   ]
  },
  {
   "cell_type": "code",
   "execution_count": 56,
   "id": "1965349d",
   "metadata": {},
   "outputs": [
    {
     "name": "stdout",
     "output_type": "stream",
     "text": [
      "Tue Mar  7 12:24:57 2023\n"
     ]
    }
   ],
   "source": [
    "print(time.ctime()) "
   ]
  },
  {
   "cell_type": "code",
   "execution_count": 57,
   "id": "a6ef1609",
   "metadata": {},
   "outputs": [
    {
     "name": "stdout",
     "output_type": "stream",
     "text": [
      "Hello\n"
     ]
    }
   ],
   "source": [
    "print(\"Hello\")"
   ]
  },
  {
   "cell_type": "code",
   "execution_count": 58,
   "id": "73b61299",
   "metadata": {},
   "outputs": [
    {
     "name": "stdout",
     "output_type": "stream",
     "text": [
      "World\n"
     ]
    }
   ],
   "source": [
    "print(\"World\")"
   ]
  },
  {
   "cell_type": "code",
   "execution_count": 59,
   "id": "385ba6f6",
   "metadata": {},
   "outputs": [
    {
     "name": "stdout",
     "output_type": "stream",
     "text": [
      "None\n"
     ]
    }
   ],
   "source": [
    "print(time.sleep(1))"
   ]
  },
  {
   "cell_type": "code",
   "execution_count": 60,
   "id": "0c14a928",
   "metadata": {},
   "outputs": [],
   "source": [
    "import warnings\n",
    "warnings.filterwarnings(\"ignore\")"
   ]
  },
  {
   "cell_type": "markdown",
   "id": "ba812aae",
   "metadata": {},
   "source": [
    "# Loops in Python"
   ]
  },
  {
   "cell_type": "markdown",
   "id": "b576c62b",
   "metadata": {},
   "source": [
    "## While Loop"
   ]
  },
  {
   "cell_type": "markdown",
   "id": "5f5a7c32",
   "metadata": {},
   "source": [
    "###  The While loop in  Python is used to iterative over a block of code  as long as the test expression, (condition) is True\n",
    "### SYNTAX\n",
    "\n",
    "### while test - expression:\n",
    "###    Body of while\n",
    "### → the body of the Loop is enerted only if the test- expressin on evalutates to the true.\n",
    "### → After one iteration, the test expression is checked again.\n",
    "### → this Process continuse untill the test-expression evaluates to false."
   ]
  },
  {
   "cell_type": "code",
   "execution_count": 61,
   "id": "7ca24ffc",
   "metadata": {},
   "outputs": [
    {
     "name": "stdout",
     "output_type": "stream",
     "text": [
      "enter the number:5\n",
      "5 * 1 = 5\n",
      "5 * 2 = 10\n",
      "5 * 3 = 15\n",
      "5 * 4 = 20\n",
      "5 * 5 = 25\n",
      "5 * 6 = 30\n",
      "5 * 7 = 35\n",
      "5 * 8 = 40\n",
      "5 * 9 = 45\n",
      "5 * 10 = 50\n"
     ]
    }
   ],
   "source": [
    "number = int(input('enter the number:'))\n",
    "i = 1\n",
    "while i<11:\n",
    "  print(number,'*',i,'=',number * i)\n",
    "  i += 1"
   ]
  },
  {
   "cell_type": "markdown",
   "id": "40f121c8",
   "metadata": {},
   "source": [
    "###  While Loop with else "
   ]
  },
  {
   "cell_type": "code",
   "execution_count": 62,
   "id": "a96a8b3c",
   "metadata": {},
   "outputs": [
    {
     "name": "stdout",
     "output_type": "stream",
     "text": [
      "1\n",
      "2\n",
      "limit crossed\n"
     ]
    }
   ],
   "source": [
    "x = 1\n",
    "while x < 3:\n",
    "  print(x)\n",
    "  x += 1\n",
    "else:\n",
    "  print('limit crossed')"
   ]
  },
  {
   "cell_type": "markdown",
   "id": "9ace7ea7",
   "metadata": {},
   "source": [
    "### Guessing game generate a random integer between 1 and 100"
   ]
  },
  {
   "cell_type": "code",
   "execution_count": 63,
   "id": "fdc1597a",
   "metadata": {},
   "outputs": [
    {
     "name": "stdout",
     "output_type": "stream",
     "text": [
      "guess karo22\n",
      "galat!guess lower\n",
      "guess karo15\n",
      "galat!guess higher\n",
      "guess karo18\n",
      "galat!guess lower\n",
      "guess karo16\n",
      "galat!guess higher\n",
      "guess karo17\n",
      "correct guess\n",
      "attempts 5\n"
     ]
    }
   ],
   "source": [
    "import random\n",
    "jackpot = random.randint(1,100)\n",
    "guess = int(input('guess karo'))\n",
    "counter = 1\n",
    "while guess != jackpot:\n",
    "  if guess < jackpot:\n",
    "    print('galat!guess higher')\n",
    "  else:\n",
    "    print('galat!guess lower')\n",
    "\n",
    "  guess = int(input('guess karo'))\n",
    "  counter += 1\n",
    "else:\n",
    "  print('correct guess')\n",
    "  print('attempts',counter)"
   ]
  },
  {
   "cell_type": "markdown",
   "id": "1589c8e3",
   "metadata": {},
   "source": [
    "# For loop"
   ]
  },
  {
   "cell_type": "code",
   "execution_count": 64,
   "id": "d169c370",
   "metadata": {},
   "outputs": [
    {
     "name": "stdout",
     "output_type": "stream",
     "text": [
      "1\n",
      "2\n",
      "3\n",
      "4\n",
      "5\n"
     ]
    }
   ],
   "source": [
    "for i in {1,2,3,4,5}:\n",
    "  print(i)"
   ]
  },
  {
   "cell_type": "markdown",
   "id": "03ce9595",
   "metadata": {},
   "source": [
    "### Program - The current population of a town is 10000. The population of the town is increasing at the rate of 10% per year.You have to write a program to find out the population at the end of each of the last 10 years."
   ]
  },
  {
   "cell_type": "code",
   "execution_count": 65,
   "id": "005892b1",
   "metadata": {},
   "outputs": [
    {
     "name": "stdout",
     "output_type": "stream",
     "text": [
      "10 10000\n",
      "9 9090.90909090909\n",
      "8 8264.462809917353\n",
      "7 7513.148009015775\n",
      "6 6830.134553650703\n",
      "5 6209.213230591548\n",
      "4 5644.739300537771\n",
      "3 5131.5811823070635\n",
      "2 4665.07380209733\n",
      "1 4240.976183724845\n"
     ]
    }
   ],
   "source": [
    "curr_pop = 10000\n",
    "for i in range(10,0,-1):\n",
    "  print(i,curr_pop)\n",
    "  curr_pop = curr_pop/1.1"
   ]
  },
  {
   "cell_type": "markdown",
   "id": "f1260936",
   "metadata": {},
   "source": [
    "### Sequence sum  1/1! + 2/2! + 3/3! + ..."
   ]
  },
  {
   "cell_type": "code",
   "execution_count": 66,
   "id": "9ea37044",
   "metadata": {},
   "outputs": [
    {
     "name": "stdout",
     "output_type": "stream",
     "text": [
      "enter n:5\n",
      "2.708333333333333\n"
     ]
    }
   ],
   "source": [
    "n = int(input('enter n:'))\n",
    "result = 0\n",
    "fact = 1\n",
    "for i in range(1,n+1):\n",
    "  fact = fact * i\n",
    "  result = result + i/fact\n",
    "print(result)"
   ]
  },
  {
   "cell_type": "markdown",
   "id": "cd3dd2fe",
   "metadata": {},
   "source": [
    "# Nested Loops"
   ]
  },
  {
   "cell_type": "code",
   "execution_count": 67,
   "id": "01441347",
   "metadata": {},
   "outputs": [
    {
     "name": "stdout",
     "output_type": "stream",
     "text": [
      "1 1\n",
      "1 2\n",
      "1 3\n",
      "1 4\n",
      "2 1\n",
      "2 2\n",
      "2 3\n",
      "2 4\n",
      "3 1\n",
      "3 2\n",
      "3 3\n",
      "3 4\n",
      "4 1\n",
      "4 2\n",
      "4 3\n",
      "4 4\n"
     ]
    }
   ],
   "source": [
    "# Examples -> unique pairs\n",
    "for i in range(1,5):\n",
    "  for j in range(1,5):\n",
    "    print(i,j)"
   ]
  },
  {
   "cell_type": "markdown",
   "id": "ede61f79",
   "metadata": {},
   "source": [
    "### Pattern 1\n",
    "### *\n",
    "### **\n",
    "### ***"
   ]
  },
  {
   "cell_type": "code",
   "execution_count": 68,
   "id": "cda56a5b",
   "metadata": {},
   "outputs": [
    {
     "name": "stdout",
     "output_type": "stream",
     "text": [
      "enter number of rows9\n",
      "*\n",
      "**\n",
      "***\n",
      "****\n",
      "*****\n",
      "******\n",
      "*******\n",
      "********\n",
      "*********\n"
     ]
    }
   ],
   "source": [
    "rows = int(input('enter number of rows'))\n",
    "for i in range(1,rows+1):\n",
    "  for j in range(1,i+1):\n",
    "    print('*',end='')\n",
    "  print()"
   ]
  },
  {
   "cell_type": "markdown",
   "id": "673d90e1",
   "metadata": {},
   "source": [
    "# Loop Control Statement"
   ]
  },
  {
   "cell_type": "markdown",
   "id": "c9fcdb5e",
   "metadata": {},
   "source": [
    "## Break"
   ]
  },
  {
   "cell_type": "code",
   "execution_count": 69,
   "id": "90fae6e3",
   "metadata": {},
   "outputs": [
    {
     "name": "stdout",
     "output_type": "stream",
     "text": [
      "1\n",
      "2\n",
      "3\n",
      "4\n"
     ]
    }
   ],
   "source": [
    "for i in range(1,10):\n",
    "  if i == 5:\n",
    "    break\n",
    "  print(i)"
   ]
  },
  {
   "cell_type": "code",
   "execution_count": 70,
   "id": "2e0b28f1",
   "metadata": {},
   "outputs": [
    {
     "name": "stdout",
     "output_type": "stream",
     "text": [
      "enter lower range:9\n",
      "enter upper range:99\n",
      "11\n",
      "13\n",
      "17\n",
      "19\n",
      "23\n",
      "29\n",
      "31\n",
      "37\n",
      "41\n",
      "43\n",
      "47\n",
      "53\n",
      "59\n",
      "61\n",
      "67\n",
      "71\n",
      "73\n",
      "79\n",
      "83\n",
      "89\n",
      "97\n"
     ]
    }
   ],
   "source": [
    "lower = int(input('enter lower range:'))\n",
    "upper = int(input('enter upper range:'))\n",
    "\n",
    "for i in range(lower,upper+1):\n",
    "  for j in range(2,i):\n",
    "    if i%j == 0:\n",
    "      break\n",
    "  else:\n",
    "    print(i)"
   ]
  },
  {
   "cell_type": "markdown",
   "id": "7babc4da",
   "metadata": {},
   "source": [
    "## Continue"
   ]
  },
  {
   "cell_type": "code",
   "execution_count": 71,
   "id": "ef62bee9",
   "metadata": {},
   "outputs": [
    {
     "name": "stdout",
     "output_type": "stream",
     "text": [
      "1\n",
      "2\n",
      "3\n",
      "4\n",
      "6\n",
      "7\n",
      "8\n",
      "9\n"
     ]
    }
   ],
   "source": [
    "for i in range(1,10):\n",
    "  if i == 5:\n",
    "    continue\n",
    "  print(i)"
   ]
  },
  {
   "cell_type": "markdown",
   "id": "8e9456c7",
   "metadata": {},
   "source": [
    "## Pass"
   ]
  },
  {
   "cell_type": "code",
   "execution_count": 72,
   "id": "874e8f81",
   "metadata": {},
   "outputs": [],
   "source": [
    "for i in range(1,10):\n",
    "  pass"
   ]
  },
  {
   "cell_type": "markdown",
   "id": "cd626fd8",
   "metadata": {},
   "source": [
    "## BUILT IN FUNCTION "
   ]
  },
  {
   "cell_type": "markdown",
   "id": "1e920cad",
   "metadata": {},
   "source": [
    "### 1. print:The print() function prints the specified message to the screen, or other standard output device."
   ]
  },
  {
   "cell_type": "code",
   "execution_count": 73,
   "id": "67d78c11",
   "metadata": {},
   "outputs": [
    {
     "name": "stdout",
     "output_type": "stream",
     "text": [
      "Hello world\n"
     ]
    }
   ],
   "source": [
    "print(\"Hello world\")"
   ]
  },
  {
   "cell_type": "markdown",
   "id": "77b9a5fb",
   "metadata": {},
   "source": [
    "### 2. input:The input() function reads a line from the input (usually from the user), converts the line into a string."
   ]
  },
  {
   "cell_type": "code",
   "execution_count": 75,
   "id": "e821a9fa",
   "metadata": {},
   "outputs": [
    {
     "name": "stdout",
     "output_type": "stream",
     "text": [
      "Enter your nameVICKY\n"
     ]
    },
    {
     "data": {
      "text/plain": [
       "'VICKY'"
      ]
     },
     "execution_count": 75,
     "metadata": {},
     "output_type": "execute_result"
    }
   ],
   "source": [
    "input(\"Enter your name\")"
   ]
  },
  {
   "cell_type": "markdown",
   "id": "6e8748f6",
   "metadata": {},
   "source": [
    "### 3. type: returns the type of the objects/data elements stored in any data type "
   ]
  },
  {
   "cell_type": "code",
   "execution_count": 76,
   "id": "46944c28",
   "metadata": {},
   "outputs": [
    {
     "name": "stdout",
     "output_type": "stream",
     "text": [
      "<class 'bool'>\n"
     ]
    }
   ],
   "source": [
    "a = True\n",
    "print(type(a))"
   ]
  },
  {
   "cell_type": "markdown",
   "id": "9da54896",
   "metadata": {},
   "source": [
    "###  4. int:converts the specified value into an integer number."
   ]
  },
  {
   "cell_type": "code",
   "execution_count": 77,
   "id": "81719acf",
   "metadata": {},
   "outputs": [
    {
     "name": "stdout",
     "output_type": "stream",
     "text": [
      "5\n"
     ]
    }
   ],
   "source": [
    "print(int(5.6))"
   ]
  },
  {
   "cell_type": "markdown",
   "id": "90f47e9f",
   "metadata": {},
   "source": [
    "###  5. abs() function is used to return absolute value of a number."
   ]
  },
  {
   "cell_type": "code",
   "execution_count": 78,
   "id": "fc59ad58",
   "metadata": {},
   "outputs": [
    {
     "name": "stdout",
     "output_type": "stream",
     "text": [
      "4\n"
     ]
    }
   ],
   "source": [
    "print(abs(-4)) "
   ]
  },
  {
   "cell_type": "markdown",
   "id": "19acf076",
   "metadata": {},
   "source": [
    "###  6. POW():Returns the value of x to the power of y"
   ]
  },
  {
   "cell_type": "code",
   "execution_count": 79,
   "id": "7f8701c0",
   "metadata": {},
   "outputs": [
    {
     "name": "stdout",
     "output_type": "stream",
     "text": [
      "0.125\n"
     ]
    }
   ],
   "source": [
    "print(pow(2,-3))"
   ]
  },
  {
   "cell_type": "markdown",
   "id": "6617e140",
   "metadata": {},
   "source": [
    "###  7. min() function returns the item with the lowest value, or the item with the lowest value in an iterable."
   ]
  },
  {
   "cell_type": "code",
   "execution_count": 80,
   "id": "2875099f",
   "metadata": {},
   "outputs": [
    {
     "name": "stdout",
     "output_type": "stream",
     "text": [
      "a\n"
     ]
    }
   ],
   "source": [
    "print(min(\"odisha\"))"
   ]
  },
  {
   "cell_type": "markdown",
   "id": "0030b209",
   "metadata": {},
   "source": [
    "###  7  max() function returns the item with the highest value, or the item with the highest value in an iterable."
   ]
  },
  {
   "cell_type": "code",
   "execution_count": 81,
   "id": "866e51f9",
   "metadata": {},
   "outputs": [
    {
     "name": "stdout",
     "output_type": "stream",
     "text": [
      "s\n"
     ]
    }
   ],
   "source": [
    "print(max(\"odisha\"))"
   ]
  },
  {
   "cell_type": "markdown",
   "id": "6227872a",
   "metadata": {},
   "source": [
    "###  8. round() function returns a floating point number that is a rounded version of the specified number."
   ]
  },
  {
   "cell_type": "code",
   "execution_count": 82,
   "id": "895c582a",
   "metadata": {},
   "outputs": [
    {
     "name": "stdout",
     "output_type": "stream",
     "text": [
      "3\n"
     ]
    }
   ],
   "source": [
    "c = 22/7\n",
    "print(round(c))"
   ]
  },
  {
   "cell_type": "markdown",
   "id": "99d7b578",
   "metadata": {},
   "source": [
    "### 9. divmod:Returns the quotient and the remainder when argument1 is divided by argument2"
   ]
  },
  {
   "cell_type": "code",
   "execution_count": 83,
   "id": "780a82cd",
   "metadata": {},
   "outputs": [
    {
     "name": "stdout",
     "output_type": "stream",
     "text": [
      "(2, 1)\n"
     ]
    }
   ],
   "source": [
    "print(divmod(5,2))"
   ]
  },
  {
   "cell_type": "markdown",
   "id": "d07121f6",
   "metadata": {},
   "source": [
    "###  10. bin:Returns the binary version of a number"
   ]
  },
  {
   "cell_type": "code",
   "execution_count": 84,
   "id": "11bd3af0",
   "metadata": {},
   "outputs": [
    {
     "name": "stdout",
     "output_type": "stream",
     "text": [
      "0b100\n"
     ]
    }
   ],
   "source": [
    "print(bin(4))"
   ]
  },
  {
   "cell_type": "markdown",
   "id": "e8a86117",
   "metadata": {},
   "source": [
    "### 10.oct:Converts a number into an octal"
   ]
  },
  {
   "cell_type": "code",
   "execution_count": 85,
   "id": "65ad40e6",
   "metadata": {},
   "outputs": [
    {
     "name": "stdout",
     "output_type": "stream",
     "text": [
      "0o4\n"
     ]
    }
   ],
   "source": [
    "print(oct(4))"
   ]
  },
  {
   "cell_type": "markdown",
   "id": "1c5803ff",
   "metadata": {},
   "source": [
    "###  10.hex:Converts a number into a hexadecimal value"
   ]
  },
  {
   "cell_type": "code",
   "execution_count": 86,
   "id": "1e042bd4",
   "metadata": {},
   "outputs": [
    {
     "name": "stdout",
     "output_type": "stream",
     "text": [
      "0x4\n"
     ]
    }
   ],
   "source": [
    "print(hex(4))"
   ]
  },
  {
   "cell_type": "markdown",
   "id": "b28611d9",
   "metadata": {},
   "source": [
    "###  11. id:Returns the id of an object"
   ]
  },
  {
   "cell_type": "code",
   "execution_count": 87,
   "id": "522b1f34",
   "metadata": {},
   "outputs": [
    {
     "name": "stdout",
     "output_type": "stream",
     "text": [
      "2825006770544\n"
     ]
    }
   ],
   "source": [
    "a = 3\n",
    "print(id(a))"
   ]
  },
  {
   "cell_type": "markdown",
   "id": "bd9708ab",
   "metadata": {},
   "source": [
    "###  12. ord:Convert an integer representing the Unicode of the specified character"
   ]
  },
  {
   "cell_type": "code",
   "execution_count": 88,
   "id": "2686846b",
   "metadata": {},
   "outputs": [
    {
     "data": {
      "text/plain": [
       "65"
      ]
     },
     "execution_count": 88,
     "metadata": {},
     "output_type": "execute_result"
    }
   ],
   "source": [
    "ord('A')"
   ]
  },
  {
   "cell_type": "markdown",
   "id": "d73e0017",
   "metadata": {},
   "source": [
    "###  13. len:Returns the length of an object"
   ]
  },
  {
   "cell_type": "code",
   "execution_count": 89,
   "id": "d311c79a",
   "metadata": {},
   "outputs": [
    {
     "name": "stdout",
     "output_type": "stream",
     "text": [
      "3\n"
     ]
    }
   ],
   "source": [
    "print(len([1,2,3]))"
   ]
  },
  {
   "cell_type": "markdown",
   "id": "feab07b5",
   "metadata": {},
   "source": [
    "### 14.sum:Sums the items of an iterator"
   ]
  },
  {
   "cell_type": "code",
   "execution_count": 90,
   "id": "d91ff1fb",
   "metadata": {},
   "outputs": [
    {
     "name": "stdout",
     "output_type": "stream",
     "text": [
      "15\n"
     ]
    }
   ],
   "source": [
    "print(sum({1,2,3,4,5}))"
   ]
  },
  {
   "cell_type": "code",
   "execution_count": null,
   "id": "48b3c0d3",
   "metadata": {},
   "outputs": [],
   "source": []
  }
 ],
 "metadata": {
  "kernelspec": {
   "display_name": "Python 3 (ipykernel)",
   "language": "python",
   "name": "python3"
  },
  "language_info": {
   "codemirror_mode": {
    "name": "ipython",
    "version": 3
   },
   "file_extension": ".py",
   "mimetype": "text/x-python",
   "name": "python",
   "nbconvert_exporter": "python",
   "pygments_lexer": "ipython3",
   "version": "3.9.13"
  }
 },
 "nbformat": 4,
 "nbformat_minor": 5
}
