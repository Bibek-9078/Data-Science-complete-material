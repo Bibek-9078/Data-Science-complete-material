{
 "cells": [
  {
   "cell_type": "markdown",
   "id": "33af5e8a",
   "metadata": {},
   "source": [
    "# TASK AND SOLUTION (DAY-02)"
   ]
  },
  {
   "cell_type": "markdown",
   "id": "d31e01bb",
   "metadata": {},
   "source": [
    "### 1. Write a program that will give you in hand monthly salary after deduction on CTC - HRA(10%), DA(5%), PF(3%) and taxes deduction as below: Salary(Lakhs) : Tax(%)  Below 5 : 0%       5-10 : 10%       10-20 : 20%        aboove 20 : 30%"
   ]
  },
  {
   "cell_type": "code",
   "execution_count": 1,
   "id": "9c34a0f6",
   "metadata": {},
   "outputs": [
    {
     "name": "stdout",
     "output_type": "stream",
     "text": [
      "Enter your anual CTC:1200000\n",
      "You in hand monthly salary will be- 82000.0\n"
     ]
    }
   ],
   "source": [
    "ctc = int(input('Enter your anual CTC:'))\n",
    "if ctc < 5000000:\n",
    "    salary=ctc*.82\n",
    "elif ctc<1000000:\n",
    "    salary=ctc*.72\n",
    "elif ctc<2000000:\n",
    "    salary=ctc*.62\n",
    "else:\n",
    "    salary=ctc*.52\n",
    "print(\"You in hand monthly salary will be-\", round(salary/12,2))"
   ]
  },
  {
   "cell_type": "markdown",
   "id": "ecc84b7e",
   "metadata": {},
   "source": [
    "### 2. write e a program that take a user input of three angles and will find out whether it can form a triangle or not."
   ]
  },
  {
   "cell_type": "code",
   "execution_count": 2,
   "id": "adcdc7dd",
   "metadata": {},
   "outputs": [
    {
     "name": "stdout",
     "output_type": "stream",
     "text": [
      "Enter the 1st angle:30\n",
      "Enter the 2nd angle:30\n",
      "Enter the 3rd angle:90\n",
      "Does not form a triangle\n"
     ]
    }
   ],
   "source": [
    "first = int(input('Enter the 1st angle:'))\n",
    "second = int(input('Enter the 2nd angle:'))\n",
    "third = int(input('Enter the 3rd angle:'))\n",
    "if (first+second+third) == 180 and first>0 and second>0 and third>0:\n",
    "  print('forms a triangle')\n",
    "else:\n",
    "  print('Does not form a triangle')"
   ]
  },
  {
   "cell_type": "markdown",
   "id": "3b0206cf",
   "metadata": {},
   "source": [
    "### 3.Write a program that will take user input of cost price and selling price and determines whether its a loss or a profit."
   ]
  },
  {
   "cell_type": "code",
   "execution_count": 3,
   "id": "62010f18",
   "metadata": {},
   "outputs": [
    {
     "name": "stdout",
     "output_type": "stream",
     "text": [
      "Enter cost price:120\n",
      "Enter selling price:210\n",
      "Profit\n"
     ]
    }
   ],
   "source": [
    "cost_price = int(input('Enter cost price:'))\n",
    "selling_price = int(input('Enter selling price:'))\n",
    "if cost_price < selling_price:\n",
    "    print('Profit')\n",
    "elif cost_price > selling_price:\n",
    "    print('Loss')\n",
    "else:\n",
    "    print('No Loss No Gain')"
   ]
  },
  {
   "cell_type": "markdown",
   "id": "c4e667d0",
   "metadata": {},
   "source": [
    "### 4.Write a menu-driven program - 1.cm to ft                     2.km to miles          3.USD to INR                                4.exit  Hint    1 cm = 0.032ft    1km = 0.62         1USD = 80 INR"
   ]
  },
  {
   "cell_type": "code",
   "execution_count": 4,
   "id": "6ffc6c2d",
   "metadata": {},
   "outputs": [
    {
     "name": "stdout",
     "output_type": "stream",
     "text": [
      "\n",
      "Hi select an option\n",
      "1. cms to ft\n",
      "2. km to miles\n",
      "3. USD to INR\n",
      "4. Exit\n",
      "1\n",
      "Enter the cm value12\n",
      "ft value is 0.384\n"
     ]
    }
   ],
   "source": [
    "menu = input(\"\"\"\n",
    "Hi select an option\n",
    "1. cms to ft\n",
    "2. km to miles\n",
    "3. USD to INR\n",
    "4. Exit\n",
    "\"\"\")\n",
    "if menu == '1':\n",
    "  cm = float(input('Enter the cm value'))\n",
    "  print('ft value is',0.032*cm)\n",
    "elif menu == '2':\n",
    "  km = float(input('Enter the km value'))\n",
    "  print('miles value is',km*0.62)\n",
    "elif menu == '3':\n",
    "  usd = float(input('Enter usd'))\n",
    "  print('inr',usd*80)\n",
    "else:\n",
    "  exit()"
   ]
  },
  {
   "cell_type": "markdown",
   "id": "94bfdd08",
   "metadata": {},
   "source": [
    "### 5.Display Fibonacci series up to 10 terms.Note: The Fibonacci Sequence is a series of numbers.\n",
    "### The next number is found by adding up the two numbers before it. The first two numbers are 0 and 1. For example, 0, 1, 1, 2, 3, 5, 8, 13, 21. The next number in this series above is 13+21 = 34"
   ]
  },
  {
   "cell_type": "code",
   "execution_count": 5,
   "id": "86cd9cd6",
   "metadata": {},
   "outputs": [
    {
     "name": "stdout",
     "output_type": "stream",
     "text": [
      "0\n",
      "1\n",
      "1\n",
      "2\n",
      "3\n",
      "5\n",
      "8\n",
      "13\n",
      "21\n",
      "34\n"
     ]
    }
   ],
   "source": [
    "num1,num2 = 0,1\n",
    "for i in range(10):\n",
    "  print(num1)\n",
    "  next = num1 + num2\n",
    "  num1 = num2\n",
    "  num2 = next"
   ]
  },
  {
   "cell_type": "markdown",
   "id": "5d277475",
   "metadata": {},
   "source": [
    "### 6.Find the factorial of a given number.Write a program to use the loop to find the factorial of a given number. The factorial (symbol: !) means to multiply all whole numbers from the chosen number down to 1.\n",
    "### For example: calculate the factorial of 5  5! = 5 × 4 × 3 × 2 × 1 = 120   o/p=120"
   ]
  },
  {
   "cell_type": "code",
   "execution_count": 6,
   "id": "b45030be",
   "metadata": {},
   "outputs": [
    {
     "name": "stdout",
     "output_type": "stream",
     "text": [
      "Enter the number:5\n",
      "120\n"
     ]
    }
   ],
   "source": [
    "num = int(input('Enter the number:'))\n",
    "fact = 1\n",
    "for i in range(1,num+1):\n",
    "  fact = fact*i\n",
    "print(fact)"
   ]
  },
  {
   "cell_type": "markdown",
   "id": "38281888",
   "metadata": {},
   "source": [
    "### 7.Reverse a given integer number.  Example: Input: 76542         Output:24567"
   ]
  },
  {
   "cell_type": "code",
   "execution_count": 7,
   "id": "91a8d423",
   "metadata": {},
   "outputs": [
    {
     "name": "stdout",
     "output_type": "stream",
     "text": [
      "Enter the number:123456\n",
      "654321\n"
     ]
    }
   ],
   "source": [
    "number = int(input('Enter the number:'))\n",
    "rev = 0\n",
    "while number>0:\n",
    "  last = number%10\n",
    "  rev = rev*10 + last\n",
    "  number = number//10\n",
    "print(rev)"
   ]
  },
  {
   "cell_type": "markdown",
   "id": "423934af",
   "metadata": {},
   "source": [
    "### 8.Take a user input as integer N. Find out the sum from 1 to N. If any number if divisible by 5, then skip that number.And if the sum is greater than 300, don't need to calculate the sum further more. Print the final result. And don't use for loop to solve this problem."
   ]
  },
  {
   "cell_type": "code",
   "execution_count": 8,
   "id": "d9f8eeae",
   "metadata": {},
   "outputs": [
    {
     "name": "stdout",
     "output_type": "stream",
     "text": [
      "Enter the number:50\n",
      "276\n"
     ]
    }
   ],
   "source": [
    "N = int(input('Enter the number:'))\n",
    "sum = 0\n",
    "i = 1\n",
    "while i < N+1:\n",
    "  if i % 5 == 0:\n",
    "    i+=1\n",
    "    continue\n",
    "\n",
    "  sum += i\n",
    "\n",
    "  if sum > 300:\n",
    "    sum = sum - i\n",
    "    break\n",
    "\n",
    "  i+=1\n",
    "print(sum)"
   ]
  },
  {
   "cell_type": "markdown",
   "id": "4748cc0a",
   "metadata": {},
   "source": [
    "### 9.Write a program that keeps on accepting a number from the user until the user enters Zero. Display the sum and average of all the numbers."
   ]
  },
  {
   "cell_type": "code",
   "execution_count": 9,
   "id": "f3478f48",
   "metadata": {},
   "outputs": [
    {
     "name": "stdout",
     "output_type": "stream",
     "text": [
      "Enter number:1\n",
      "Enter number:2\n",
      "Enter number:3\n",
      "Enter number:4\n",
      "Enter number:5\n",
      "Enter number:6\n",
      "Enter number:7\n",
      "Enter number:0\n",
      "sum 28\n",
      "avg 4.0\n"
     ]
    }
   ],
   "source": [
    "sum = 0\n",
    "count = 0\n",
    "while True:\n",
    "  num = int(input('Enter number:'))\n",
    "  if num == 0:\n",
    "    break\n",
    "  sum = sum + num\n",
    "  count = count + 1\n",
    "print('sum',sum)\n",
    "print('avg',sum/count)"
   ]
  },
  {
   "cell_type": "markdown",
   "id": "030b219d",
   "metadata": {},
   "source": [
    "### 10.Write a program which will find all such numbers which are divisible by 7 but are not a multiple of 5, between 2000 and 3200 (both included). The numbers obtained should be printed in a comma-separated sequence on a single line."
   ]
  },
  {
   "cell_type": "code",
   "execution_count": 10,
   "id": "ac231aaf",
   "metadata": {},
   "outputs": [
    {
     "name": "stdout",
     "output_type": "stream",
     "text": [
      "2002,2009,2016,2023,2037,2044,2051,2058,2072,2079,2086,2093,2107,2114,2121,2128,2142,2149,2156,2163,2177,2184,2191,2198,2212,2219,2226,2233,2247,2254,2261,2268,2282,2289,2296,2303,2317,2324,2331,2338,2352,2359,2366,2373,2387,2394,2401,2408,2422,2429,2436,2443,2457,2464,2471,2478,2492,2499,2506,2513,2527,2534,2541,2548,2562,2569,2576,2583,2597,2604,2611,2618,2632,2639,2646,2653,2667,2674,2681,2688,2702,2709,2716,2723,2737,2744,2751,2758,2772,2779,2786,2793,2807,2814,2821,2828,2842,2849,2856,2863,2877,2884,2891,2898,2912,2919,2926,2933,2947,2954,2961,2968,2982,2989,2996,3003,3017,3024,3031,3038,3052,3059,3066,3073,3087,3094,3101,3108,3122,3129,3136,3143,3157,3164,3171,3178,3192,3199\n"
     ]
    }
   ],
   "source": [
    "L = []\n",
    "for i in range(2000,3201):\n",
    "  if i % 7 == 0 and i % 5 != 0:\n",
    "    L.append(str(i))\n",
    "print(\",\".join(L))"
   ]
  },
  {
   "cell_type": "markdown",
   "id": "cb166634",
   "metadata": {},
   "source": [
    "### 11: A robot moves in a plane starting from the original point (0,0). The robot can move toward UP, DOWN, LEFT and RIGHT  with a given steps.The trace of robot movement is shown as the following:  UP 5   DOWN 3   LEFT 3  RIGHT 2  !"
   ]
  },
  {
   "cell_type": "code",
   "execution_count": 11,
   "id": "3903772f",
   "metadata": {},
   "outputs": [
    {
     "name": "stdout",
     "output_type": "stream",
     "text": [
      "Enter the robot path!\n",
      "new pos [0, 0]\n",
      "0.0\n"
     ]
    }
   ],
   "source": [
    "pos = [0,0]\n",
    "while True:\n",
    "  s = input('Enter the robot path')\n",
    "  if s == '!':\n",
    "    break\n",
    "  direction = s.split()[0]\n",
    "  steps = int(s.split()[1])\n",
    "\n",
    "  if direction == 'UP':\n",
    "    pos[1] = pos[1] + steps\n",
    "  elif direction == 'DOWN':\n",
    "    pos[1] = pos[1] - steps\n",
    "  elif direction == 'LEFT':\n",
    "    pos[0] = pos[0] - steps\n",
    "  elif direction == 'RIGHT':\n",
    "    pos[0] = pos[0] + steps\n",
    "  else:\n",
    "    pass\n",
    "print('new pos',pos)\n",
    "print((pos[0]**2 + pos[1]**2)**0.5)"
   ]
  },
  {
   "cell_type": "markdown",
   "id": "285221ef",
   "metadata": {},
   "source": [
    "### 12.Write a program to print whether a given number is a prime number or not."
   ]
  },
  {
   "cell_type": "code",
   "execution_count": 12,
   "id": "9f59a8b9",
   "metadata": {},
   "outputs": [
    {
     "name": "stdout",
     "output_type": "stream",
     "text": [
      "Enter the num:21\n",
      "Not Prime\n"
     ]
    }
   ],
   "source": [
    "num = int(input('Enter the num:'))\n",
    "\n",
    "flag = True\n",
    "for i in range(2,num):\n",
    "  if num%i == 0:\n",
    "    flag = False\n",
    "    break\n",
    "\n",
    "if flag == True:\n",
    "  print('Prime')\n",
    "else:\n",
    "  print('Not Prime')"
   ]
  },
  {
   "cell_type": "markdown",
   "id": "6b089891",
   "metadata": {},
   "source": [
    "### 13:Print all the Armstrong numbers in a given range. Range will be provided by the user Armstrong number is a number that is equal to the sum of cubes of its digits. For example 0, 1, 153, 370, 371 and 407  are the Armstrong numbers."
   ]
  },
  {
   "cell_type": "code",
   "execution_count": 13,
   "id": "158e4ac4",
   "metadata": {},
   "outputs": [
    {
     "name": "stdout",
     "output_type": "stream",
     "text": [
      "Enter the start of the range: 1\n",
      "Enter the end of the range: 100\n",
      "1\n",
      "2\n",
      "3\n",
      "4\n",
      "5\n",
      "6\n",
      "7\n",
      "8\n",
      "9\n"
     ]
    }
   ],
   "source": [
    "start = int(input(\"Enter the start of the range: \"))\n",
    "end = int(input(\"Enter the end of the range: \"))\n",
    "\n",
    "for num in range(start, end+1):\n",
    "    temp = num\n",
    "    sum = 0\n",
    "    order = len(str(num))\n",
    "    while temp > 0:\n",
    "        digit = temp % 10\n",
    "        sum += digit ** order\n",
    "        temp //= 10\n",
    "    if num == sum:\n",
    "        print(num)"
   ]
  },
  {
   "cell_type": "markdown",
   "id": "92ee3301",
   "metadata": {},
   "source": [
    "### 14. Calculate the angle between the hour hand and minute hand.\n",
    "### Note: There can be two angles between hands; we need to print a minimum of two. Also, we need to print the floor of the final result angle. For example, if the final angle is 10.61, we need to print 10. Input: H = 9 , M = 0 Output: 90"
   ]
  },
  {
   "cell_type": "code",
   "execution_count": 14,
   "id": "fc715828",
   "metadata": {},
   "outputs": [
    {
     "name": "stdout",
     "output_type": "stream",
     "text": [
      "Enter hours hand:9\n",
      "Enter minute hand:0\n",
      "90.0\n"
     ]
    }
   ],
   "source": [
    "h = int(input('Enter hours hand:'))\n",
    "m = int(input('Enter minute hand:'))\n",
    "# validate the input\n",
    "if (h < 0 or m < 0 or h > 12 or m > 60):\n",
    "    print('Wrong input')\n",
    "# Idea is to minute angle - hour agnle from clockwise from 12 hour point\n",
    "# 1 minute in minute angle manke 6 degree. (60 minute -> 360 degree)\n",
    "m_angle = m*6\n",
    "# every hour point yeilds to 30degree-- 12 hours-360degree plus if minute hand moves hour hands move too\n",
    "# Every minute after hour hand take 0.5 degree movement. clockwise\n",
    "h_angle = h*30 + m*0.5\n",
    "# Take abs difference b/w them\n",
    "angle = abs(h_angle - m_angle)\n",
    "if angle>180:\n",
    "    print(360-angle)\n",
    "else:\n",
    "    print(angle)"
   ]
  },
  {
   "cell_type": "markdown",
   "id": "105774d1",
   "metadata": {},
   "source": [
    "### 15.Given two rectangles, find if the given two rectangles overlap or not. A rectangle is denoted by providing the x and y coordinates of two points: the left top corner and the right bottom corner of the rectangle. Two rectangles sharing a side are considered overlapping. (L1 and R1 are the extreme points of the first rectangle and L2 and R2 are the extreme points of the second rectangle).\n",
    "### Note: It may be assumed that the rectangles are parallel to the coordinate axis."
   ]
  },
  {
   "cell_type": "code",
   "execution_count": 15,
   "id": "3660d6e6",
   "metadata": {},
   "outputs": [
    {
     "name": "stdout",
     "output_type": "stream",
     "text": [
      "Enter both Rectangel points coordinates <x y>\n",
      "Enter L1 coordinate value  (Two value space seperated):5 8\n",
      "Enter r1 coordinate value,(Two value space seperated):8 7\n",
      "Enter L2 coordinate value,(Two value space seperated):4 6\n",
      "Enter r2 coordinate value,(Two value space seperated):7 9\n",
      "Don't Overlap\n"
     ]
    }
   ],
   "source": [
    "print(\"Enter both Rectangel points coordinates <x y>\")\n",
    "l1_x, l1_y = list(map(int, input('Enter L1 coordinate value  (Two value space seperated):').split()))\n",
    "r1_x, r1_y = list(map(int, input('Enter r1 coordinate value,(Two value space seperated):').split()))\n",
    "\n",
    "l2_x, l2_y = list(map(int, input('Enter L2 coordinate value,(Two value space seperated):').split()))\n",
    "r2_x, r2_y = list(map(int, input('Enter r2 coordinate value,(Two value space seperated):').split()))\n",
    "\n",
    "# if rectangle has area 0, no overlap\n",
    "if l1_x == r1_x or l1_y == r1_y or r2_x == l2_x or l2_y == r2_y:\n",
    "  print(\"Don't Overlap\")\n",
    "  # If one rectangle is on left side of other\n",
    "elif l1_x > r2_x or l2_x > r1_x:\n",
    "  print(\"Don't Overlap\")\n",
    "\n",
    "# If one rectangle is above other\n",
    "elif r1_y > l2_y or r2_y > l1_y:\n",
    "  print(\"Don't Overlap\")\n",
    "else:\n",
    "  print(\"Overlap\")"
   ]
  },
  {
   "cell_type": "code",
   "execution_count": null,
   "id": "0127a0de",
   "metadata": {},
   "outputs": [],
   "source": []
  }
 ],
 "metadata": {
  "kernelspec": {
   "display_name": "Python 3 (ipykernel)",
   "language": "python",
   "name": "python3"
  },
  "language_info": {
   "codemirror_mode": {
    "name": "ipython",
    "version": 3
   },
   "file_extension": ".py",
   "mimetype": "text/x-python",
   "name": "python",
   "nbconvert_exporter": "python",
   "pygments_lexer": "ipython3",
   "version": "3.9.13"
  }
 },
 "nbformat": 4,
 "nbformat_minor": 5
}
