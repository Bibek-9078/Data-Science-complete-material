{
 "cells": [
  {
   "cell_type": "markdown",
   "id": "37e2dcf8",
   "metadata": {},
   "source": [
    "# file handling"
   ]
  },
  {
   "cell_type": "markdown",
   "id": "9f072769",
   "metadata": {},
   "source": [
    "## case 1 - if the file is not present"
   ]
  },
  {
   "cell_type": "code",
   "execution_count": 1,
   "id": "df01fc62",
   "metadata": {},
   "outputs": [],
   "source": [
    "f = open('sample.txt','w')\n",
    "f.write('Hello world')\n",
    "f.close()"
   ]
  },
  {
   "cell_type": "code",
   "execution_count": 2,
   "id": "c9424ff4",
   "metadata": {},
   "outputs": [
    {
     "ename": "ValueError",
     "evalue": "I/O operation on closed file.",
     "output_type": "error",
     "traceback": [
      "\u001b[1;31m---------------------------------------------------------------------------\u001b[0m",
      "\u001b[1;31mValueError\u001b[0m                                Traceback (most recent call last)",
      "\u001b[1;32m~\\AppData\\Local\\Temp\\ipykernel_15444\\3924455918.py\u001b[0m in \u001b[0;36m<module>\u001b[1;34m\u001b[0m\n\u001b[1;32m----> 1\u001b[1;33m \u001b[0mf\u001b[0m\u001b[1;33m.\u001b[0m\u001b[0mwrite\u001b[0m\u001b[1;33m(\u001b[0m\u001b[1;34m'hello'\u001b[0m\u001b[1;33m)\u001b[0m\u001b[1;31m# since file is closed hence this will not work\u001b[0m\u001b[1;33m\u001b[0m\u001b[1;33m\u001b[0m\u001b[0m\n\u001b[0m",
      "\u001b[1;31mValueError\u001b[0m: I/O operation on closed file."
     ]
    }
   ],
   "source": [
    "f.write('hello')# since file is closed hence this will not work"
   ]
  },
  {
   "cell_type": "markdown",
   "id": "d00d0260",
   "metadata": {},
   "source": [
    "## write multiline strings"
   ]
  },
  {
   "cell_type": "code",
   "execution_count": 3,
   "id": "d77d8dbb",
   "metadata": {},
   "outputs": [],
   "source": [
    "# write multiline strings\n",
    "f = open('sample1.txt','w')\n",
    "f.write('hello world')\n",
    "f.write('\\nhow are you?')\n",
    "f.close()"
   ]
  },
  {
   "cell_type": "markdown",
   "id": "0d7fe6b2",
   "metadata": {},
   "source": [
    "## case 2 - if the file is already present->replace the new content over old content"
   ]
  },
  {
   "cell_type": "code",
   "execution_count": 4,
   "id": "f47600e9",
   "metadata": {},
   "outputs": [],
   "source": [
    "f = open('sample.txt','w')\n",
    "f.write('salman khan')\n",
    "f.close()"
   ]
  },
  {
   "cell_type": "markdown",
   "id": "a7e9ee97",
   "metadata": {},
   "source": [
    "## Problem with w mode->introducing append mode"
   ]
  },
  {
   "cell_type": "code",
   "execution_count": 5,
   "id": "84565c60",
   "metadata": {},
   "outputs": [],
   "source": [
    "f = open('sample1.txt','a')\n",
    "f.write('\\nI am fine')\n",
    "f.close()"
   ]
  },
  {
   "cell_type": "markdown",
   "id": "3410f797",
   "metadata": {},
   "source": [
    "## write lines"
   ]
  },
  {
   "cell_type": "code",
   "execution_count": 6,
   "id": "3440119b",
   "metadata": {},
   "outputs": [],
   "source": [
    "L = ['hello\\n','hi\\n','how are you\\n','I am fine']\n",
    "f = open('sample.txt','w')\n",
    "f.writelines(L)\n",
    "f.close()"
   ]
  },
  {
   "cell_type": "markdown",
   "id": "ec843ef8",
   "metadata": {},
   "source": [
    "## reading from files -> using read()"
   ]
  },
  {
   "cell_type": "code",
   "execution_count": 7,
   "id": "697f0b73",
   "metadata": {},
   "outputs": [
    {
     "name": "stdout",
     "output_type": "stream",
     "text": [
      "hello\n",
      "hi\n",
      "how are you\n",
      "I am fine\n"
     ]
    }
   ],
   "source": [
    "f = open('sample.txt','r')\n",
    "s = f.read()\n",
    "print(s)\n",
    "f.close()"
   ]
  },
  {
   "cell_type": "markdown",
   "id": "009edeb4",
   "metadata": {},
   "source": [
    "## reading upto n chars"
   ]
  },
  {
   "cell_type": "code",
   "execution_count": 8,
   "id": "2d3c2ba6",
   "metadata": {},
   "outputs": [
    {
     "name": "stdout",
     "output_type": "stream",
     "text": [
      "hello\n",
      "hi\n",
      "h\n"
     ]
    }
   ],
   "source": [
    "f = open('sample.txt','r')\n",
    "s = f.read(10)\n",
    "print(s)\n",
    "f.close()"
   ]
  },
  {
   "cell_type": "markdown",
   "id": "36d0479f",
   "metadata": {},
   "source": [
    "## readline() -> to read line by line"
   ]
  },
  {
   "cell_type": "code",
   "execution_count": 9,
   "id": "db8ebe58",
   "metadata": {},
   "outputs": [
    {
     "name": "stdout",
     "output_type": "stream",
     "text": [
      "hello\n",
      "hi\n"
     ]
    }
   ],
   "source": [
    "f = open('sample.txt','r')\n",
    "print(f.readline(),end='')\n",
    "print(f.readline(),end='')\n",
    "f.close()"
   ]
  },
  {
   "cell_type": "markdown",
   "id": "dc92218c",
   "metadata": {},
   "source": [
    "## reading entire using readline"
   ]
  },
  {
   "cell_type": "code",
   "execution_count": 10,
   "id": "3f2b040c",
   "metadata": {},
   "outputs": [
    {
     "name": "stdout",
     "output_type": "stream",
     "text": [
      "hello\n",
      "hi\n",
      "how are you\n",
      "I am fine"
     ]
    }
   ],
   "source": [
    "f = open('sample.txt','r')\n",
    "while True:\n",
    "  data = f.readline()\n",
    "  if data == '':\n",
    "    break\n",
    "  else:\n",
    "    print(data,end='')\n",
    "f.close()"
   ]
  },
  {
   "cell_type": "markdown",
   "id": "da72686e",
   "metadata": {},
   "source": [
    "# Using Context Manager (With)\n",
    "### It's a good idea to close a file after usage as it will free up the resources.\n",
    "### If we dont close it, garbage collector would close it.\n",
    "### with keyword closes the file as soon as the usage is over."
   ]
  },
  {
   "cell_type": "code",
   "execution_count": 11,
   "id": "33341012",
   "metadata": {},
   "outputs": [],
   "source": [
    "with open('sample1.txt','w') as f:\n",
    "  f.write('selmon bhai')"
   ]
  },
  {
   "cell_type": "code",
   "execution_count": 12,
   "id": "789817f2",
   "metadata": {},
   "outputs": [],
   "source": [
    "# try f.read() now"
   ]
  },
  {
   "cell_type": "code",
   "execution_count": 13,
   "id": "47cf9a77",
   "metadata": {},
   "outputs": [
    {
     "name": "stdout",
     "output_type": "stream",
     "text": [
      "hello\n",
      "hi\n",
      "how are you\n",
      "I am fine\n"
     ]
    }
   ],
   "source": [
    "with open('sample.txt','r') as f:\n",
    "  print(f.read())"
   ]
  },
  {
   "cell_type": "markdown",
   "id": "1aadfe11",
   "metadata": {},
   "source": [
    "## moving within a file -> 10 char then 10 char"
   ]
  },
  {
   "cell_type": "code",
   "execution_count": 14,
   "id": "fc36b8fb",
   "metadata": {},
   "outputs": [
    {
     "name": "stdout",
     "output_type": "stream",
     "text": [
      "hello\n",
      "hi\n",
      "h\n",
      "ow are you\n",
      "\n",
      "I am fine\n",
      "\n"
     ]
    }
   ],
   "source": [
    "with open('sample.txt','r') as f:\n",
    "  print(f.read(10))\n",
    "  print(f.read(10))\n",
    "  print(f.read(10))\n",
    "  print(f.read(10))"
   ]
  },
  {
   "cell_type": "markdown",
   "id": "e9865ba5",
   "metadata": {},
   "source": [
    "## benefit? -> to load a big file in memory"
   ]
  },
  {
   "cell_type": "code",
   "execution_count": 15,
   "id": "1fb4ea2a",
   "metadata": {},
   "outputs": [],
   "source": [
    "big_L = ['hello world ' for i in range(1000)]\n",
    "with open('big.txt','w') as f:\n",
    "  f.writelines(big_L)"
   ]
  },
  {
   "cell_type": "code",
   "execution_count": 16,
   "id": "75fe4ebd",
   "metadata": {},
   "outputs": [
    {
     "name": "stdout",
     "output_type": "stream",
     "text": [
      "d hello wo***o world he***d hello wo***o world he***d hello wo***o world he***d hello wo***o world he***d hello wo***o world he***d hello wo***o world he***d hello wo***o world he***d hello wo***o world he***d hello wo***o world he***d hello wo***o world he***d hello wo***o world he***d hello wo***o world he***d hello wo***o world he***d hello wo***o world he***d hello wo***o world he***d hello wo***o world he***d hello wo***o world he***d hello wo***o world he***d hello wo***o world he***d hello wo***o world he***d hello wo***o world he***d hello wo***o world he***d hello wo***o world he***d hello wo***o world he***d hello wo***o world he***d hello wo***o world he***d hello wo***o world he***d hello wo***o world he***d hello wo***o world he***d hello wo***o world he***d hello wo***o world he***d hello wo***o world he***d hello wo***o world he***d hello wo***o world he***d hello wo***o world he***d hello wo***o world he***d hello wo***o world he***d hello wo***o world he***d hello wo***o world he***d hello wo***o world he***d hello wo***o world he***d hello wo***o world he***d hello wo***o world he***d hello wo***o world he***d hello wo***o world he***d hello wo***o world he***d hello wo***o world he***d hello wo***o world he***d hello wo***o world he***d hello wo***o world he***d hello wo***o world he***d hello wo***o world he***d hello wo***o world he***d hello wo***o world he***d hello wo***o world he***d hello wo***o world he***d hello wo***o world he***d hello wo***o world he***d hello wo***o world he***d hello wo***o world he***d hello wo***o world he***d hello wo***o world he***d hello wo***o world he***d hello wo***o world he***d hello wo***o world he***d hello wo***o world he***d hello wo***o world he***d hello wo***o world he***d hello wo***o world he***d hello wo***o world he***d hello wo***o world he***d hello wo***o world he***d hello wo***o world he***d hello wo***o world he***d hello wo***o world he***d hello wo***o world he***d hello wo***o world he***d hello wo***o world he***d hello wo***o world he***d hello wo***o world he***d hello wo***o world he***d hello wo***o world he***d hello wo***o world he***d hello wo***o world he***d hello wo***o world he***d hello wo***o world he***d hello wo***o world he***d hello wo***o world he***d hello wo***o world he***d hello wo***o world he***d hello wo***o world he***d hello wo***o world he***d hello wo***o world he***d hello wo***o world he***d hello wo***o world he***d hello wo***o world he***d hello wo***o world he***d hello wo***o world he***d hello wo***o world he***d hello wo***o world he***d hello wo***o world he***d hello wo***o world he***d hello wo***o world he***d hello wo***o world he***d hello wo***o world he***d hello wo***o world he***d hello wo***o world he***d hello wo***o world he***d hello wo***o world he***d hello wo***o world he***d hello wo***o world he***d hello wo***o world he***d hello wo***o world he***d hello wo***o world he***d hello wo***o world he***d hello wo***o world he***d hello wo***o world he***d hello wo***o world he***d hello wo***o world he***d hello wo***o world he***d hello wo***o world he***d hello wo***o world he***d hello wo***o world he***d hello wo***o world he***d hello wo***o world he***d hello wo***o world he***d hello wo***o world he***d hello wo***o world he***d hello wo***o world he***d hello wo***o world he***d hello wo***o world he***d hello wo***o world he***d hello wo***o world he***d hello wo***o world he***d hello wo***o world he***d hello wo***o world he***d hello wo***o world he***d hello wo***o world he***d hello wo***o world he***d hello wo***o world he***d hello wo***o world he***d hello wo***o world he***d hello wo***o world he***d hello wo***o world he***d hello wo***o world he***d hello wo***o world he***d hello wo***o world he***d hello wo***o world he***d hello wo***o world he***d hello wo***o world he***d hello wo***o world he***d hello wo***o world he***d hello wo***o world he***d hello wo***o world he***d hello wo***o world he***d hello wo***o world he***d hello wo***o world he***d hello wo***o world he***d hello wo***o world he***d hello wo***o world he***d hello wo***o world he***d hello wo***o world he***d hello wo***o world he***d hello wo***o world he***d hello wo***o world he***d hello wo***o world he***d hello wo***o world he***d hello wo***o world he***d hello wo***o world he***d hello wo***o world he***d hello wo***o world he***d hello wo***o world he***d hello wo***o world he***d hello wo***o world he***d hello wo***o world he***d hello wo***o world he***d hello wo***o world he***d hello wo***o world he***d hello wo***o world he***d hello wo***o world he***d hello wo***o world he***d hello wo***o world he***d hello wo***o world he***d hello wo***o world he***d hello wo***o world he***d hello wo***o world he***d hello wo***o world he***d hello wo***o world he***d hello wo***o world he***d hello wo***o world he***d hello wo***o world he***d hello wo***o world he***d hello wo***o world he***d hello wo***o world he***d hello wo***o world he***d hello wo***o world he***d hello wo***o world he***d hello wo***o world he***d hello wo***o world he***d hello wo***o world he***"
     ]
    }
   ],
   "source": [
    "with open('big.txt','r') as f:\n",
    "\n",
    "  chunk_size = 10\n",
    "\n",
    "  while len(f.read(chunk_size)) > 0:\n",
    "    print(f.read(chunk_size),end='***')\n",
    "    f.read(chunk_size)"
   ]
  },
  {
   "cell_type": "markdown",
   "id": "00fa0981",
   "metadata": {},
   "source": [
    "## seek and tell function"
   ]
  },
  {
   "cell_type": "code",
   "execution_count": 17,
   "id": "c3e3d58b",
   "metadata": {},
   "outputs": [
    {
     "name": "stdout",
     "output_type": "stream",
     "text": [
      "are you\n",
      "I \n",
      "26\n",
      "am fine\n",
      "33\n"
     ]
    }
   ],
   "source": [
    "with open('sample.txt','r') as f:\n",
    "  f.seek(15)\n",
    "  print(f.read(10))\n",
    "  print(f.tell())\n",
    "  \n",
    "  print(f.read(10))\n",
    "  print(f.tell())"
   ]
  },
  {
   "cell_type": "markdown",
   "id": "aa8b3c97",
   "metadata": {},
   "source": [
    "## seek during write"
   ]
  },
  {
   "cell_type": "code",
   "execution_count": 18,
   "id": "ea135fc9",
   "metadata": {},
   "outputs": [],
   "source": [
    "with open('sample.txt','w') as f:\n",
    "  f.write('Hello')\n",
    "  f.seek(0)\n",
    "  f.write('Xa')"
   ]
  },
  {
   "cell_type": "markdown",
   "id": "732f4020",
   "metadata": {},
   "source": [
    "Problems with working in text mode\n",
    "can't work with binary files like images\n",
    "not good for other data types like int/float/list/tuples"
   ]
  },
  {
   "cell_type": "code",
   "execution_count": 19,
   "id": "09c071ef",
   "metadata": {},
   "outputs": [
    {
     "ename": "UnicodeDecodeError",
     "evalue": "'charmap' codec can't decode byte 0x8f in position 57: character maps to <undefined>",
     "output_type": "error",
     "traceback": [
      "\u001b[1;31m---------------------------------------------------------------------------\u001b[0m",
      "\u001b[1;31mUnicodeDecodeError\u001b[0m                        Traceback (most recent call last)",
      "\u001b[1;32m~\\AppData\\Local\\Temp\\ipykernel_15444\\1548787639.py\u001b[0m in \u001b[0;36m<module>\u001b[1;34m\u001b[0m\n\u001b[0;32m      1\u001b[0m \u001b[1;31m# working with binary file\u001b[0m\u001b[1;33m\u001b[0m\u001b[1;33m\u001b[0m\u001b[0m\n\u001b[0;32m      2\u001b[0m \u001b[1;32mwith\u001b[0m \u001b[0mopen\u001b[0m\u001b[1;33m(\u001b[0m\u001b[1;34m'screenshot1.png'\u001b[0m\u001b[1;33m,\u001b[0m\u001b[1;34m'r'\u001b[0m\u001b[1;33m)\u001b[0m \u001b[1;32mas\u001b[0m \u001b[0mf\u001b[0m\u001b[1;33m:\u001b[0m\u001b[1;33m\u001b[0m\u001b[1;33m\u001b[0m\u001b[0m\n\u001b[1;32m----> 3\u001b[1;33m   \u001b[0mf\u001b[0m\u001b[1;33m.\u001b[0m\u001b[0mread\u001b[0m\u001b[1;33m(\u001b[0m\u001b[1;33m)\u001b[0m\u001b[1;33m\u001b[0m\u001b[1;33m\u001b[0m\u001b[0m\n\u001b[0m",
      "\u001b[1;32m~\\anaconda3\\lib\\encodings\\cp1252.py\u001b[0m in \u001b[0;36mdecode\u001b[1;34m(self, input, final)\u001b[0m\n\u001b[0;32m     21\u001b[0m \u001b[1;32mclass\u001b[0m \u001b[0mIncrementalDecoder\u001b[0m\u001b[1;33m(\u001b[0m\u001b[0mcodecs\u001b[0m\u001b[1;33m.\u001b[0m\u001b[0mIncrementalDecoder\u001b[0m\u001b[1;33m)\u001b[0m\u001b[1;33m:\u001b[0m\u001b[1;33m\u001b[0m\u001b[1;33m\u001b[0m\u001b[0m\n\u001b[0;32m     22\u001b[0m     \u001b[1;32mdef\u001b[0m \u001b[0mdecode\u001b[0m\u001b[1;33m(\u001b[0m\u001b[0mself\u001b[0m\u001b[1;33m,\u001b[0m \u001b[0minput\u001b[0m\u001b[1;33m,\u001b[0m \u001b[0mfinal\u001b[0m\u001b[1;33m=\u001b[0m\u001b[1;32mFalse\u001b[0m\u001b[1;33m)\u001b[0m\u001b[1;33m:\u001b[0m\u001b[1;33m\u001b[0m\u001b[1;33m\u001b[0m\u001b[0m\n\u001b[1;32m---> 23\u001b[1;33m         \u001b[1;32mreturn\u001b[0m \u001b[0mcodecs\u001b[0m\u001b[1;33m.\u001b[0m\u001b[0mcharmap_decode\u001b[0m\u001b[1;33m(\u001b[0m\u001b[0minput\u001b[0m\u001b[1;33m,\u001b[0m\u001b[0mself\u001b[0m\u001b[1;33m.\u001b[0m\u001b[0merrors\u001b[0m\u001b[1;33m,\u001b[0m\u001b[0mdecoding_table\u001b[0m\u001b[1;33m)\u001b[0m\u001b[1;33m[\u001b[0m\u001b[1;36m0\u001b[0m\u001b[1;33m]\u001b[0m\u001b[1;33m\u001b[0m\u001b[1;33m\u001b[0m\u001b[0m\n\u001b[0m\u001b[0;32m     24\u001b[0m \u001b[1;33m\u001b[0m\u001b[0m\n\u001b[0;32m     25\u001b[0m \u001b[1;32mclass\u001b[0m \u001b[0mStreamWriter\u001b[0m\u001b[1;33m(\u001b[0m\u001b[0mCodec\u001b[0m\u001b[1;33m,\u001b[0m\u001b[0mcodecs\u001b[0m\u001b[1;33m.\u001b[0m\u001b[0mStreamWriter\u001b[0m\u001b[1;33m)\u001b[0m\u001b[1;33m:\u001b[0m\u001b[1;33m\u001b[0m\u001b[1;33m\u001b[0m\u001b[0m\n",
      "\u001b[1;31mUnicodeDecodeError\u001b[0m: 'charmap' codec can't decode byte 0x8f in position 57: character maps to <undefined>"
     ]
    }
   ],
   "source": [
    "# working with binary file\n",
    "with open('screenshot1.png','r') as f:\n",
    "  f.read()"
   ]
  },
  {
   "cell_type": "code",
   "execution_count": 20,
   "id": "eceb2fb4",
   "metadata": {},
   "outputs": [],
   "source": [
    "# working with binary file\n",
    "with open('screenshot1.png','rb') as f:\n",
    "  with open('screenshot_copy.png','wb') as wf:\n",
    "    wf.write(f.read())"
   ]
  },
  {
   "cell_type": "markdown",
   "id": "9523626d",
   "metadata": {},
   "source": [
    "## working with a big binary file"
   ]
  },
  {
   "cell_type": "markdown",
   "id": "580ee420",
   "metadata": {},
   "source": [
    "## working with other data types"
   ]
  },
  {
   "cell_type": "code",
   "execution_count": 21,
   "id": "1854f78f",
   "metadata": {},
   "outputs": [
    {
     "ename": "TypeError",
     "evalue": "write() argument must be str, not int",
     "output_type": "error",
     "traceback": [
      "\u001b[1;31m---------------------------------------------------------------------------\u001b[0m",
      "\u001b[1;31mTypeError\u001b[0m                                 Traceback (most recent call last)",
      "\u001b[1;32m~\\AppData\\Local\\Temp\\ipykernel_15444\\1855061156.py\u001b[0m in \u001b[0;36m<module>\u001b[1;34m\u001b[0m\n\u001b[0;32m      1\u001b[0m \u001b[1;32mwith\u001b[0m \u001b[0mopen\u001b[0m\u001b[1;33m(\u001b[0m\u001b[1;34m'sample.txt'\u001b[0m\u001b[1;33m,\u001b[0m\u001b[1;34m'w'\u001b[0m\u001b[1;33m)\u001b[0m \u001b[1;32mas\u001b[0m \u001b[0mf\u001b[0m\u001b[1;33m:\u001b[0m\u001b[1;33m\u001b[0m\u001b[1;33m\u001b[0m\u001b[0m\n\u001b[1;32m----> 2\u001b[1;33m   \u001b[0mf\u001b[0m\u001b[1;33m.\u001b[0m\u001b[0mwrite\u001b[0m\u001b[1;33m(\u001b[0m\u001b[1;36m5\u001b[0m\u001b[1;33m)\u001b[0m\u001b[1;33m\u001b[0m\u001b[1;33m\u001b[0m\u001b[0m\n\u001b[0m",
      "\u001b[1;31mTypeError\u001b[0m: write() argument must be str, not int"
     ]
    }
   ],
   "source": [
    "with open('sample.txt','w') as f:\n",
    "  f.write(5)"
   ]
  },
  {
   "cell_type": "code",
   "execution_count": 22,
   "id": "e212b179",
   "metadata": {},
   "outputs": [],
   "source": [
    "with open('sample.txt','w') as f:\n",
    "  f.write(\"5\")"
   ]
  },
  {
   "cell_type": "code",
   "execution_count": 23,
   "id": "3b3ee346",
   "metadata": {},
   "outputs": [
    {
     "name": "stdout",
     "output_type": "stream",
     "text": [
      "10\n"
     ]
    }
   ],
   "source": [
    "with open('sample.txt','r') as f:\n",
    "  print(int(f.read()) + 5)"
   ]
  },
  {
   "cell_type": "markdown",
   "id": "ed4002ac",
   "metadata": {},
   "source": [
    "## more complex data"
   ]
  },
  {
   "cell_type": "code",
   "execution_count": 25,
   "id": "127ec834",
   "metadata": {},
   "outputs": [],
   "source": [
    "d = {\n",
    "    'name':'nitish',\n",
    "     'age':33,\n",
    "     'gender':'male'\n",
    "}\n",
    "\n",
    "with open('sample.txt','w') as f:\n",
    "  f.write(str(d))"
   ]
  },
  {
   "cell_type": "code",
   "execution_count": 26,
   "id": "a0a322e3",
   "metadata": {},
   "outputs": [
    {
     "name": "stdout",
     "output_type": "stream",
     "text": [
      "{'name': 'nitish', 'age': 33, 'gender': 'male'}\n"
     ]
    }
   ],
   "source": [
    "with open('sample.txt','r') as f:\n",
    "  print((f.read()))"
   ]
  },
  {
   "cell_type": "code",
   "execution_count": 27,
   "id": "bf737034",
   "metadata": {},
   "outputs": [
    {
     "ename": "ValueError",
     "evalue": "dictionary update sequence element #0 has length 1; 2 is required",
     "output_type": "error",
     "traceback": [
      "\u001b[1;31m---------------------------------------------------------------------------\u001b[0m",
      "\u001b[1;31mValueError\u001b[0m                                Traceback (most recent call last)",
      "\u001b[1;32m~\\AppData\\Local\\Temp\\ipykernel_15444\\2317878920.py\u001b[0m in \u001b[0;36m<module>\u001b[1;34m\u001b[0m\n\u001b[0;32m      1\u001b[0m \u001b[1;32mwith\u001b[0m \u001b[0mopen\u001b[0m\u001b[1;33m(\u001b[0m\u001b[1;34m'sample.txt'\u001b[0m\u001b[1;33m,\u001b[0m\u001b[1;34m'r'\u001b[0m\u001b[1;33m)\u001b[0m \u001b[1;32mas\u001b[0m \u001b[0mf\u001b[0m\u001b[1;33m:\u001b[0m\u001b[1;33m\u001b[0m\u001b[1;33m\u001b[0m\u001b[0m\n\u001b[1;32m----> 2\u001b[1;33m   \u001b[0mprint\u001b[0m\u001b[1;33m(\u001b[0m\u001b[0mdict\u001b[0m\u001b[1;33m(\u001b[0m\u001b[0mf\u001b[0m\u001b[1;33m.\u001b[0m\u001b[0mread\u001b[0m\u001b[1;33m(\u001b[0m\u001b[1;33m)\u001b[0m\u001b[1;33m)\u001b[0m\u001b[1;33m)\u001b[0m\u001b[1;33m\u001b[0m\u001b[1;33m\u001b[0m\u001b[0m\n\u001b[0m",
      "\u001b[1;31mValueError\u001b[0m: dictionary update sequence element #0 has length 1; 2 is required"
     ]
    }
   ],
   "source": [
    "with open('sample.txt','r') as f:\n",
    "  print(dict(f.read()))"
   ]
  },
  {
   "cell_type": "code",
   "execution_count": null,
   "id": "4310f368",
   "metadata": {},
   "outputs": [],
   "source": []
  },
  {
   "cell_type": "markdown",
   "id": "1950c603",
   "metadata": {},
   "source": [
    "## serialization using json module"
   ]
  },
  {
   "cell_type": "markdown",
   "id": "b57c280b",
   "metadata": {},
   "source": [
    "## list"
   ]
  },
  {
   "cell_type": "code",
   "execution_count": 28,
   "id": "61984a6e",
   "metadata": {},
   "outputs": [],
   "source": [
    "import json\n",
    "L = [1,2,3,4]\n",
    "with open('demo.json','w') as f:\n",
    "  json.dump(L,f)"
   ]
  },
  {
   "cell_type": "markdown",
   "id": "cb139930",
   "metadata": {},
   "source": [
    "## dict"
   ]
  },
  {
   "cell_type": "code",
   "execution_count": 29,
   "id": "a963b075",
   "metadata": {},
   "outputs": [],
   "source": [
    "d = {\n",
    "    'name':'nitish',\n",
    "     'age':33,\n",
    "     'gender':'male'\n",
    "}\n",
    "\n",
    "with open('demo.json','w') as f:\n",
    "  json.dump(d,f,indent=4)"
   ]
  },
  {
   "cell_type": "markdown",
   "id": "c92cb1f9",
   "metadata": {},
   "source": [
    "## deserialization"
   ]
  },
  {
   "cell_type": "code",
   "execution_count": 30,
   "id": "dd27d083",
   "metadata": {},
   "outputs": [
    {
     "name": "stdout",
     "output_type": "stream",
     "text": [
      "{'name': 'nitish', 'age': 33, 'gender': 'male'}\n",
      "<class 'dict'>\n"
     ]
    }
   ],
   "source": [
    "import json\n",
    "with open('demo.json','r') as f:\n",
    "  d = json.load(f)\n",
    "  print(d)\n",
    "  print(type(d))"
   ]
  },
  {
   "cell_type": "markdown",
   "id": "abd8e6e8",
   "metadata": {},
   "source": [
    "## serialize and deserialize tuple"
   ]
  },
  {
   "cell_type": "code",
   "execution_count": 31,
   "id": "31791c94",
   "metadata": {},
   "outputs": [],
   "source": [
    "import json\n",
    "t = (1,2,3,4,5)\n",
    "with open('demo.json','w') as f:\n",
    "  json.dump(t,f)"
   ]
  },
  {
   "cell_type": "markdown",
   "id": "0bbbeaf1",
   "metadata": {},
   "source": [
    "## serialize and deserialize a nested dict"
   ]
  },
  {
   "cell_type": "code",
   "execution_count": 32,
   "id": "9513b9a2",
   "metadata": {},
   "outputs": [],
   "source": [
    "d = {\n",
    "    'student':'nitish',\n",
    "     'marks':[23,14,34,45,56]\n",
    "}\n",
    "with open('demo.json','w') as f:\n",
    "  json.dump(d,f)"
   ]
  },
  {
   "cell_type": "markdown",
   "id": "fa8ea29f",
   "metadata": {},
   "source": [
    "## Serializing and Deserializing custom objects"
   ]
  },
  {
   "cell_type": "code",
   "execution_count": 33,
   "id": "355e6e74",
   "metadata": {},
   "outputs": [],
   "source": [
    "class Person:\n",
    "\n",
    "  def __init__(self,fname,lname,age,gender):\n",
    "    self.fname = fname\n",
    "    self.lname = lname\n",
    "    self.age = age\n",
    "    self.gender = gender\n",
    "\n",
    "# format to printed in\n",
    "# -> Nitish Singh age -> 33 gender -> male"
   ]
  },
  {
   "cell_type": "code",
   "execution_count": 34,
   "id": "6ead3302",
   "metadata": {},
   "outputs": [],
   "source": [
    "person = Person('Nitish','Singh',33,'male')"
   ]
  },
  {
   "cell_type": "markdown",
   "id": "21298b3c",
   "metadata": {},
   "source": [
    "## As a string"
   ]
  },
  {
   "cell_type": "code",
   "execution_count": 35,
   "id": "caea8caa",
   "metadata": {},
   "outputs": [],
   "source": [
    "import json\n",
    "def show_object(person):\n",
    "  if isinstance(person,Person):\n",
    "    return \"{} {} age -> {} gender -> {}\".format(person.fname,person.lname,person.age,person.gender)\n",
    "with open('demo.json','w') as f:\n",
    "  json.dump(person,f,default=show_object)"
   ]
  },
  {
   "cell_type": "markdown",
   "id": "197c40ca",
   "metadata": {},
   "source": [
    "## As a dict"
   ]
  },
  {
   "cell_type": "code",
   "execution_count": 36,
   "id": "7668ffd3",
   "metadata": {},
   "outputs": [],
   "source": [
    "import json\n",
    "def show_object(person):\n",
    "  if isinstance(person,Person):\n",
    "    return {'name':person.fname + ' ' + person.lname,'age':person.age,'gender':person.gender}\n",
    "with open('demo.json','w') as f:\n",
    "  json.dump(person,f,default=show_object,indent=4)"
   ]
  },
  {
   "cell_type": "markdown",
   "id": "232ae3fd",
   "metadata": {},
   "source": [
    "## deserializing"
   ]
  },
  {
   "cell_type": "code",
   "execution_count": 37,
   "id": "78ee5ca4",
   "metadata": {},
   "outputs": [
    {
     "name": "stdout",
     "output_type": "stream",
     "text": [
      "{'name': 'Nitish Singh', 'age': 33, 'gender': 'male'}\n",
      "<class 'dict'>\n"
     ]
    }
   ],
   "source": [
    "import json\n",
    "with open('demo.json','r') as f:\n",
    "  d = json.load(f)\n",
    "  print(d)\n",
    "  print(type(d))"
   ]
  },
  {
   "cell_type": "markdown",
   "id": "dd9f3cfd",
   "metadata": {},
   "source": [
    "## Pickling:Pickling is the process whereby a Python object hierarchy is converted into a byte stream, and unpickling is the inverse operation, whereby a byte stream (from a binary file or bytes-like object) is converted back into an object hierarchy."
   ]
  },
  {
   "cell_type": "code",
   "execution_count": 38,
   "id": "4fdf263f",
   "metadata": {},
   "outputs": [],
   "source": [
    "class Person:\n",
    "  def __init__(self,name,age):\n",
    "    self.name = name\n",
    "    self.age = age\n",
    "  def display_info(self):\n",
    "    print('Hi my name is',self.name,'and I am ',self.age,'years old')"
   ]
  },
  {
   "cell_type": "markdown",
   "id": "88d9c2e7",
   "metadata": {},
   "source": [
    "## pickle dump"
   ]
  },
  {
   "cell_type": "code",
   "execution_count": 39,
   "id": "1a537a13",
   "metadata": {},
   "outputs": [],
   "source": [
    "p=Person(\"bibek\",\"24\")"
   ]
  },
  {
   "cell_type": "code",
   "execution_count": 40,
   "id": "2cb1b5e5",
   "metadata": {},
   "outputs": [],
   "source": [
    "import pickle\n",
    "with open('person.pkl','wb') as f:\n",
    "  pickle.dump(p,f)"
   ]
  },
  {
   "cell_type": "markdown",
   "id": "417039be",
   "metadata": {},
   "source": [
    "## pickle load"
   ]
  },
  {
   "cell_type": "code",
   "execution_count": 41,
   "id": "9c4b6100",
   "metadata": {},
   "outputs": [
    {
     "name": "stdout",
     "output_type": "stream",
     "text": [
      "Hi my name is bibek and I am  24 years old\n"
     ]
    }
   ],
   "source": [
    "import pickle\n",
    "with open('person.pkl','rb') as f:\n",
    "  p = pickle.load(f)\n",
    "p.display_info()"
   ]
  },
  {
   "cell_type": "markdown",
   "id": "a1d55e04",
   "metadata": {},
   "source": [
    "Pickle Vs Json\n",
    "Pickle lets the user to store data in binary format. JSON lets the user store data in a human-readable text format."
   ]
  },
  {
   "cell_type": "code",
   "execution_count": null,
   "id": "984e6b11",
   "metadata": {},
   "outputs": [],
   "source": []
  }
 ],
 "metadata": {
  "kernelspec": {
   "display_name": "Python 3 (ipykernel)",
   "language": "python",
   "name": "python3"
  },
  "language_info": {
   "codemirror_mode": {
    "name": "ipython",
    "version": 3
   },
   "file_extension": ".py",
   "mimetype": "text/x-python",
   "name": "python",
   "nbconvert_exporter": "python",
   "pygments_lexer": "ipython3",
   "version": "3.9.13"
  }
 },
 "nbformat": 4,
 "nbformat_minor": 5
}
