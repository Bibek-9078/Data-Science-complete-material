{
 "cells": [
  {
   "cell_type": "markdown",
   "id": "019db687",
   "metadata": {},
   "source": [
    "# Write OOP classes to handle the following scenarios:\n",
    "## 1.A user can create and view 2D coordinates.\n",
    "## 2.A user can find out the distance between 2 coordinates.\n",
    "## 3.A user can find find the distance of a coordinate from origin.\n",
    "## 4.A user can check if a point lies on a given line.\n",
    "## 5.A user can find the distance between a given 2D point and a given line."
   ]
  },
  {
   "cell_type": "code",
   "execution_count": 1,
   "id": "230032ee",
   "metadata": {},
   "outputs": [],
   "source": [
    "class Point:\n",
    "\n",
    "  def __init__(self,x,y):\n",
    "    self.x_cod = x\n",
    "    self.y_cod = y\n",
    "\n",
    "  def __str__(self):\n",
    "    return '<{},{}>'.format(self.x_cod,self.y_cod)\n",
    "\n",
    "  def euclidean_distance(self,other):\n",
    "    return ((self.x_cod - other.x_cod)**2 + (self.y_cod - other.y_cod)**2)**0.5\n",
    "\n",
    "  def distance_from_origin(self):\n",
    "    return (self.x_cod**2 + self.y_cod**2)**0.5\n",
    "    # return self.euclidean_distance(Point(0,0))\n",
    "class Line:\n",
    "\n",
    "  def __init__(self,A,B,C):\n",
    "    self.A = A\n",
    "    self.B = B\n",
    "    self.C = C\n",
    "\n",
    "  def __str__(self):\n",
    "    return '{}x + {}y + {} = 0'.format(self.A,self.B,self.C)\n",
    "\n",
    "  def point_on_line(line,point):\n",
    "    if line.A*point.x_cod + line.B*point.y_cod + line.C == 0:\n",
    "      return \"lies on the line\"\n",
    "    else:\n",
    "      return \"does not lie on the line\"\n",
    "\n",
    "  def shortest_distance(line,point):\n",
    "    return abs(line.A*point.x_cod + line.B*point.y_cod + line.C)/(line.A**2 + line.B**2)**0.5"
   ]
  },
  {
   "cell_type": "code",
   "execution_count": 2,
   "id": "0171915b",
   "metadata": {},
   "outputs": [
    {
     "name": "stdout",
     "output_type": "stream",
     "text": [
      "1x + 1y + -2 = 0\n",
      "<1,10>\n"
     ]
    },
    {
     "data": {
      "text/plain": [
       "6.363961030678928"
      ]
     },
     "execution_count": 2,
     "metadata": {},
     "output_type": "execute_result"
    }
   ],
   "source": [
    "l1 = Line(1,1,-2)\n",
    "p1 = Point(1,10)\n",
    "print(l1)\n",
    "print(p1)\n",
    "\n",
    "l1.shortest_distance(p1)"
   ]
  },
  {
   "cell_type": "markdown",
   "id": "30b611b0",
   "metadata": {},
   "source": [
    "## How objects access attributes"
   ]
  },
  {
   "cell_type": "code",
   "execution_count": 7,
   "id": "35e8121e",
   "metadata": {},
   "outputs": [],
   "source": [
    "class Person:\n",
    "\n",
    "  def __init__(self,name_input,country_input):\n",
    "    self.name = name_input\n",
    "    self.country = country_input\n",
    "\n",
    "  def greet(self):\n",
    "    if self.country == 'india':\n",
    "      print('Wellcome',self.name)\n",
    "    else:\n",
    "      print('Hello',self.name)"
   ]
  },
  {
   "cell_type": "code",
   "execution_count": 8,
   "id": "af4d334f",
   "metadata": {},
   "outputs": [],
   "source": [
    "p = Person('VICKY','india')          # how to access attributes"
   ]
  },
  {
   "cell_type": "code",
   "execution_count": 9,
   "id": "fd9b9d5a",
   "metadata": {},
   "outputs": [
    {
     "data": {
      "text/plain": [
       "'VICKY'"
      ]
     },
     "execution_count": 9,
     "metadata": {},
     "output_type": "execute_result"
    }
   ],
   "source": [
    "p.name"
   ]
  },
  {
   "cell_type": "code",
   "execution_count": 10,
   "id": "8677c239",
   "metadata": {},
   "outputs": [
    {
     "name": "stdout",
     "output_type": "stream",
     "text": [
      "Wellcome VICKY\n"
     ]
    }
   ],
   "source": [
    "p.greet()                           # how to access methods"
   ]
  },
  {
   "cell_type": "code",
   "execution_count": 11,
   "id": "f267db7d",
   "metadata": {},
   "outputs": [
    {
     "ename": "AttributeError",
     "evalue": "'Person' object has no attribute 'gender'",
     "output_type": "error",
     "traceback": [
      "\u001b[1;31m---------------------------------------------------------------------------\u001b[0m",
      "\u001b[1;31mAttributeError\u001b[0m                            Traceback (most recent call last)",
      "\u001b[1;32m~\\AppData\\Local\\Temp\\ipykernel_11344\\4288628511.py\u001b[0m in \u001b[0;36m<module>\u001b[1;34m\u001b[0m\n\u001b[0;32m      1\u001b[0m \u001b[1;31m# what if i try to access non-existent attributes\u001b[0m\u001b[1;33m\u001b[0m\u001b[1;33m\u001b[0m\u001b[0m\n\u001b[1;32m----> 2\u001b[1;33m \u001b[0mp\u001b[0m\u001b[1;33m.\u001b[0m\u001b[0mgender\u001b[0m\u001b[1;33m\u001b[0m\u001b[1;33m\u001b[0m\u001b[0m\n\u001b[0m",
      "\u001b[1;31mAttributeError\u001b[0m: 'Person' object has no attribute 'gender'"
     ]
    }
   ],
   "source": [
    "p.gender                           # what if i try to access non-existent attributes"
   ]
  },
  {
   "cell_type": "markdown",
   "id": "5991883a",
   "metadata": {},
   "source": [
    "## Attribute creation from outside of the class"
   ]
  },
  {
   "cell_type": "code",
   "execution_count": 12,
   "id": "6118c0bf",
   "metadata": {},
   "outputs": [],
   "source": [
    "p.gender = 'male'"
   ]
  },
  {
   "cell_type": "code",
   "execution_count": 13,
   "id": "9e06b3ca",
   "metadata": {},
   "outputs": [
    {
     "data": {
      "text/plain": [
       "'male'"
      ]
     },
     "execution_count": 13,
     "metadata": {},
     "output_type": "execute_result"
    }
   ],
   "source": [
    "p.gender"
   ]
  },
  {
   "cell_type": "markdown",
   "id": "093477c3",
   "metadata": {},
   "source": [
    "## Reference Variables\n",
    "## 1.Reference variables hold the objects\n",
    "## 2.We can create objects without reference variable as well\n",
    "## 3.An object can have multiple reference variables\n",
    "## 4.Assigning a new reference variable to an existing object does not create a new object"
   ]
  },
  {
   "cell_type": "code",
   "execution_count": 4,
   "id": "767f530e",
   "metadata": {},
   "outputs": [],
   "source": [
    "# object without a reference\n",
    "class Person:\n",
    "\n",
    "  def __init__(self):\n",
    "    self.name = 'nitish'\n",
    "    self.gender = 'male'\n",
    "\n",
    "p = Person()\n",
    "q = p"
   ]
  },
  {
   "cell_type": "code",
   "execution_count": 15,
   "id": "0dda3633",
   "metadata": {},
   "outputs": [
    {
     "name": "stdout",
     "output_type": "stream",
     "text": [
      "2019795894912\n",
      "2019795894912\n"
     ]
    }
   ],
   "source": [
    "# Multiple ref\n",
    "print(id(p))\n",
    "print(id(q))"
   ]
  },
  {
   "cell_type": "markdown",
   "id": "a3e98204",
   "metadata": {},
   "source": [
    "## change attribute value with the help of 2nd object"
   ]
  },
  {
   "cell_type": "code",
   "execution_count": 5,
   "id": "3bcb045b",
   "metadata": {},
   "outputs": [
    {
     "name": "stdout",
     "output_type": "stream",
     "text": [
      "nitish\n",
      "nitish\n",
      "ankit\n",
      "ankit\n"
     ]
    }
   ],
   "source": [
    "print(p.name)\n",
    "print(q.name)\n",
    "q.name = 'ankit'\n",
    "print(q.name)\n",
    "print(p.name)"
   ]
  },
  {
   "cell_type": "markdown",
   "id": "4eebed4a",
   "metadata": {},
   "source": [
    "## Pass by reference"
   ]
  },
  {
   "cell_type": "code",
   "execution_count": 16,
   "id": "e7d7efc0",
   "metadata": {},
   "outputs": [
    {
     "name": "stdout",
     "output_type": "stream",
     "text": [
      "Hi my name is nitish and I am a male\n",
      "ankit\n",
      "male\n"
     ]
    }
   ],
   "source": [
    "class Person:\n",
    "\n",
    "  def __init__(self,name,gender):\n",
    "    self.name = name\n",
    "    self.gender = gender\n",
    "\n",
    "# outside the class -> function\n",
    "def greet(person):\n",
    "  print('Hi my name is',person.name,'and I am a',person.gender)\n",
    "  p1 = Person('ankit','male')\n",
    "  return p1\n",
    "\n",
    "p = Person('bibek','male')\n",
    "x = greet(p)\n",
    "print(x.name)\n",
    "print(x.gender)"
   ]
  },
  {
   "cell_type": "code",
   "execution_count": 6,
   "id": "ffc78eb6",
   "metadata": {},
   "outputs": [
    {
     "name": "stdout",
     "output_type": "stream",
     "text": [
      "2088121360288\n",
      "2088121360288\n",
      "ankit\n",
      "ankit\n"
     ]
    }
   ],
   "source": [
    "class Person:\n",
    "\n",
    "  def __init__(self,name,gender):\n",
    "    self.name = name\n",
    "    self.gender = gender\n",
    "\n",
    "# outside the class -> function\n",
    "def greet(person):\n",
    "  print(id(person))\n",
    "  person.name = 'ankit'\n",
    "  print(person.name)\n",
    "\n",
    "p = Person('nitish','male')\n",
    "print(id(p))\n",
    "greet(p)\n",
    "print(p.name)"
   ]
  },
  {
   "cell_type": "code",
   "execution_count": 7,
   "id": "e6f34f96",
   "metadata": {},
   "outputs": [
    {
     "name": "stdout",
     "output_type": "stream",
     "text": [
      "2088121345360\n",
      "2088121345360\n"
     ]
    }
   ],
   "source": [
    "class Person:\n",
    "\n",
    "  def __init__(self,name,gender):\n",
    "    self.name = name\n",
    "    self.gender = gender\n",
    "\n",
    "# outside the class -> function\n",
    "def greet(person):\n",
    "  person.name = 'ankit'\n",
    "  return person\n",
    "\n",
    "p = Person('nitish','male')\n",
    "print(id(p))\n",
    "p1 = greet(p)\n",
    "print(id(p1))"
   ]
  },
  {
   "cell_type": "markdown",
   "id": "180d206c",
   "metadata": {},
   "source": [
    "## Encapsulation"
   ]
  },
  {
   "cell_type": "code",
   "execution_count": 8,
   "id": "6c3fee67",
   "metadata": {},
   "outputs": [],
   "source": [
    "class Person:\n",
    "  def __init__(self,name_input,country_input):\n",
    "    self.name = name_input\n",
    "    self.country = country_input\n",
    "p1 = Person('nitish','india')\n",
    "p2 = Person('steve','australia')"
   ]
  },
  {
   "cell_type": "code",
   "execution_count": 9,
   "id": "86ce86e6",
   "metadata": {},
   "outputs": [
    {
     "data": {
      "text/plain": [
       "'steve'"
      ]
     },
     "execution_count": 9,
     "metadata": {},
     "output_type": "execute_result"
    }
   ],
   "source": [
    "p2.name"
   ]
  },
  {
   "cell_type": "markdown",
   "id": "f06c969e",
   "metadata": {},
   "source": [
    "## Collection of objects"
   ]
  },
  {
   "cell_type": "code",
   "execution_count": 16,
   "id": "4eeb4e0e",
   "metadata": {},
   "outputs": [
    {
     "name": "stdout",
     "output_type": "stream",
     "text": [
      "nitish male\n",
      "ankit male\n",
      "ankita female\n"
     ]
    }
   ],
   "source": [
    "class Person:\n",
    "\n",
    "  def __init__(self,name,gender):\n",
    "    self.name = name\n",
    "    self.gender = gender\n",
    "\n",
    "p1 = Person('nitish','male')\n",
    "p2 = Person('ankit','male')\n",
    "p3 = Person('ankita','female')\n",
    "\n",
    "L = [p1,p2,p3]\n",
    "\n",
    "for i in L:\n",
    "  print(i.name,i.gender)"
   ]
  },
  {
   "cell_type": "code",
   "execution_count": 17,
   "id": "d71196bb",
   "metadata": {},
   "outputs": [
    {
     "name": "stdout",
     "output_type": "stream",
     "text": [
      "male\n",
      "male\n",
      "female\n"
     ]
    }
   ],
   "source": [
    "# dict of objects\n",
    "# list of objects\n",
    "class Person:\n",
    "\n",
    "  def __init__(self,name,gender):\n",
    "    self.name = name\n",
    "    self.gender = gender\n",
    "\n",
    "p1 = Person('nitish','male')\n",
    "p2 = Person('ankit','male')\n",
    "p3 = Person('ankita','female')\n",
    "\n",
    "d = {'p1':p1,'p2':p2,'p3':p3}\n",
    "\n",
    "for i in d:\n",
    "  print(d[i].gender)"
   ]
  },
  {
   "cell_type": "markdown",
   "id": "f57c6c22",
   "metadata": {},
   "source": [
    "# Static Variables Vs Instance variables"
   ]
  },
  {
   "cell_type": "code",
   "execution_count": 18,
   "id": "ea070382",
   "metadata": {},
   "outputs": [],
   "source": [
    "class Atm:\n",
    "\n",
    "  __counter = 1\n",
    "\n",
    "  # constructor(special function)->superpower -> \n",
    "  def __init__(self):\n",
    "    print(id(self))\n",
    "    self.pin = ''\n",
    "    self.__balance = 0\n",
    "    self.cid = Atm.__counter\n",
    "    Atm.__counter = Atm.__counter + 1\n",
    "    #self.menu()\n",
    "\n",
    "  # utility functions\n",
    "  @staticmethod\n",
    "  def get_counter():\n",
    "    return Atm.__counter\n",
    "\n",
    "\n",
    "  def get_balance(self):\n",
    "    return self.__balance\n",
    "\n",
    "  def set_balance(self,new_value):\n",
    "    if type(new_value) == int:\n",
    "      self.__balance = new_value\n",
    "    else:\n",
    "      print('beta bahot maarenge')\n",
    "\n",
    "  def __menu(self):\n",
    "    user_input = input(\"\"\"\n",
    "    Hi how can I help you?\n",
    "    1. Press 1 to create pin\n",
    "    2. Press 2 to change pin\n",
    "    3. Press 3 to check balance\n",
    "    4. Press 4 to withdraw\n",
    "    5. Anything else to exit\n",
    "    \"\"\")\n",
    "\n",
    "    if user_input == '1':\n",
    "      self.create_pin()\n",
    "    elif user_input == '2':\n",
    "      self.change_pin()\n",
    "    elif user_input == '3':\n",
    "      self.check_balance()\n",
    "    elif user_input == '4':\n",
    "      self.withdraw()\n",
    "    else:\n",
    "      exit()\n",
    "\n",
    "  def create_pin(self):\n",
    "    user_pin = input('enter your pin')\n",
    "    self.pin = user_pin\n",
    "\n",
    "    user_balance = int(input('enter balance'))\n",
    "    self.__balance = user_balance\n",
    "\n",
    "    print('pin created successfully')\n",
    "\n",
    "  def change_pin(self):\n",
    "    old_pin = input('enter old pin')\n",
    "\n",
    "    if old_pin == self.pin:\n",
    "      # let him change the pin\n",
    "      new_pin = input('enter new pin')\n",
    "      self.pin = new_pin\n",
    "      print('pin change successful')\n",
    "    else:\n",
    "      print('nai karne de sakta re baba')\n",
    "\n",
    "  def check_balance(self):\n",
    "    user_pin = input('enter your pin')\n",
    "    if user_pin == self.pin:\n",
    "      print('your balance is ',self.__balance)\n",
    "    else:\n",
    "      print('chal nikal yahan se')\n",
    "\n",
    "  def withdraw(self):\n",
    "    user_pin = input('enter the pin')\n",
    "    if user_pin == self.pin:\n",
    "      # allow to withdraw\n",
    "      amount = int(input('enter the amount'))\n",
    "      if amount <= self.__balance:\n",
    "        self.__balance = self.__balance - amount\n",
    "        print('withdrawl successful.balance is',self.__balance)\n",
    "      else:\n",
    "        print('abe garib')\n",
    "    else:\n",
    "      print('sale chor')"
   ]
  },
  {
   "cell_type": "code",
   "execution_count": 19,
   "id": "cba8bc8c",
   "metadata": {},
   "outputs": [
    {
     "name": "stdout",
     "output_type": "stream",
     "text": [
      "2088121020368\n"
     ]
    }
   ],
   "source": [
    "c1 = Atm()"
   ]
  },
  {
   "cell_type": "code",
   "execution_count": 20,
   "id": "59a7f0dc",
   "metadata": {},
   "outputs": [
    {
     "data": {
      "text/plain": [
       "2"
      ]
     },
     "execution_count": 20,
     "metadata": {},
     "output_type": "execute_result"
    }
   ],
   "source": [
    "Atm.get_counter()"
   ]
  },
  {
   "cell_type": "code",
   "execution_count": 21,
   "id": "6198063f",
   "metadata": {},
   "outputs": [
    {
     "name": "stdout",
     "output_type": "stream",
     "text": [
      "2088122204016\n"
     ]
    }
   ],
   "source": [
    "c3 = Atm()"
   ]
  },
  {
   "cell_type": "code",
   "execution_count": 22,
   "id": "24fdc7a7",
   "metadata": {},
   "outputs": [
    {
     "data": {
      "text/plain": [
       "2"
      ]
     },
     "execution_count": 22,
     "metadata": {},
     "output_type": "execute_result"
    }
   ],
   "source": [
    "c3.cid"
   ]
  },
  {
   "cell_type": "code",
   "execution_count": 23,
   "id": "288551db",
   "metadata": {},
   "outputs": [
    {
     "ename": "AttributeError",
     "evalue": "type object 'Atm' has no attribute 'counter'",
     "output_type": "error",
     "traceback": [
      "\u001b[1;31m---------------------------------------------------------------------------\u001b[0m",
      "\u001b[1;31mAttributeError\u001b[0m                            Traceback (most recent call last)",
      "\u001b[1;32m~\\AppData\\Local\\Temp\\ipykernel_780\\2466974913.py\u001b[0m in \u001b[0;36m<module>\u001b[1;34m\u001b[0m\n\u001b[1;32m----> 1\u001b[1;33m \u001b[0mAtm\u001b[0m\u001b[1;33m.\u001b[0m\u001b[0mcounter\u001b[0m\u001b[1;33m\u001b[0m\u001b[1;33m\u001b[0m\u001b[0m\n\u001b[0m",
      "\u001b[1;31mAttributeError\u001b[0m: type object 'Atm' has no attribute 'counter'"
     ]
    }
   ],
   "source": [
    "Atm.counter"
   ]
  },
  {
   "cell_type": "markdown",
   "id": "733ddc3d",
   "metadata": {},
   "source": [
    "# Static methods"
   ]
  },
  {
   "cell_type": "markdown",
   "id": "731cc85c",
   "metadata": {},
   "source": [
    "## Points to remember about static\n",
    "## 1.Static attributes are created at class level.\n",
    "## 2.Static attributes are accessed using ClassName.\n",
    "## 3.Static attributes are object independent. We can access them without creating instance (object) of the class in which they are defined.\n",
    "## 4.The value stored in static attribute is shared between all instances(objects) of the class in which the static attribute is defined."
   ]
  },
  {
   "cell_type": "code",
   "execution_count": null,
   "id": "ae028116",
   "metadata": {},
   "outputs": [],
   "source": [
    "class Lion:\n",
    "  __water_source=\"well in the circus\"\n",
    "\n",
    "  def __init__(self,name, gender):\n",
    "      self.__name=name\n",
    "      self.__gender=gender\n",
    "\n",
    "  def drinks_water(self):\n",
    "      print(self.__name,\n",
    "      \"drinks water from the\",Lion.__water_source)\n",
    "\n",
    "  @staticmethod\n",
    "  def get_water_source():\n",
    "      return Lion.__water_source\n",
    "\n",
    "simba=Lion(\"Simba\",\"Male\")\n",
    "simba.drinks_water()\n",
    "print( \"Water source of lions:\",Lion.get_water_source())"
   ]
  },
  {
   "cell_type": "code",
   "execution_count": null,
   "id": "0636d1ea",
   "metadata": {},
   "outputs": [],
   "source": []
  }
 ],
 "metadata": {
  "kernelspec": {
   "display_name": "Python 3 (ipykernel)",
   "language": "python",
   "name": "python3"
  },
  "language_info": {
   "codemirror_mode": {
    "name": "ipython",
    "version": 3
   },
   "file_extension": ".py",
   "mimetype": "text/x-python",
   "name": "python",
   "nbconvert_exporter": "python",
   "pygments_lexer": "ipython3",
   "version": "3.9.13"
  }
 },
 "nbformat": 4,
 "nbformat_minor": 5
}
