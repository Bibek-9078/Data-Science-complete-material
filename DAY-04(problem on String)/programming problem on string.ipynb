{
 "cells": [
  {
   "cell_type": "markdown",
   "id": "ce93f511",
   "metadata": {},
   "source": [
    "## 1.Find the length of a given string without using the len() function"
   ]
  },
  {
   "cell_type": "code",
   "execution_count": 1,
   "id": "e095fd87",
   "metadata": {},
   "outputs": [
    {
     "name": "stdout",
     "output_type": "stream",
     "text": [
      "Enter the string:bibek\n",
      "length of string is: 5\n"
     ]
    }
   ],
   "source": [
    "s = input('Enter the string:')\n",
    "counter = 0\n",
    "for i in s:\n",
    "  counter += 1\n",
    "print('length of string is:',counter)"
   ]
  },
  {
   "cell_type": "markdown",
   "id": "61fbd72f",
   "metadata": {},
   "source": [
    "## 2.Extract username from a given email. "
   ]
  },
  {
   "cell_type": "code",
   "execution_count": 2,
   "id": "395e986a",
   "metadata": {
    "scrolled": true
   },
   "outputs": [
    {
     "name": "stdout",
     "output_type": "stream",
     "text": [
      "Enter the email:bibek4panda@gmail.com\n",
      "bibek4panda\n"
     ]
    }
   ],
   "source": [
    "s = input('Enter the email:')\n",
    "pos = s.index('@')\n",
    "print(s[0:pos])"
   ]
  },
  {
   "cell_type": "markdown",
   "id": "d2cfa59f",
   "metadata": {},
   "source": [
    "## 3.Count the frequency of a particular character in a provided string"
   ]
  },
  {
   "cell_type": "code",
   "execution_count": 3,
   "id": "36a06a29",
   "metadata": {},
   "outputs": [
    {
     "name": "stdout",
     "output_type": "stream",
     "text": [
      "Enter the email:bibek4panda@gmail.com\n",
      "What would like to search for:bibek\n",
      "frequency 0\n"
     ]
    }
   ],
   "source": [
    "s = input('Enter the email:')\n",
    "term = input('What would like to search for:')\n",
    "counter = 0\n",
    "for i in s:\n",
    "  if i == term:\n",
    "    counter += 1\n",
    "print('frequency',counter)"
   ]
  },
  {
   "cell_type": "markdown",
   "id": "1ab31baf",
   "metadata": {},
   "source": [
    "## 4. Write a program which can remove a particular character from a string."
   ]
  },
  {
   "cell_type": "code",
   "execution_count": 4,
   "id": "ba200843",
   "metadata": {},
   "outputs": [
    {
     "name": "stdout",
     "output_type": "stream",
     "text": [
      "Enter the string:bibek\n",
      "what would like to remove:b\n",
      "iek\n"
     ]
    }
   ],
   "source": [
    "s = input('Enter the string:')\n",
    "term = input('what would like to remove:')\n",
    "result = ''\n",
    "for i in s:\n",
    "  if i != term:\n",
    "    result = result + i\n",
    "print(result)"
   ]
  },
  {
   "cell_type": "markdown",
   "id": "6773dd07",
   "metadata": {},
   "source": [
    "## 5.Write a program that can check whether a given string is palindrome or not."
   ]
  },
  {
   "cell_type": "code",
   "execution_count": 5,
   "id": "5ecf9ee2",
   "metadata": {},
   "outputs": [
    {
     "name": "stdout",
     "output_type": "stream",
     "text": [
      "Enter the string:abba\n",
      "The string is Palindrome\n"
     ]
    }
   ],
   "source": [
    "s = input('Enter the string:')\n",
    "flag = True\n",
    "for i in range(0,len(s)//2):\n",
    "  if s[i] != s[len(s) - i -1]:\n",
    "    flag = False\n",
    "    print('The string is not a Palindrome')\n",
    "    break\n",
    "if flag:\n",
    "  print('The string is Palindrome')"
   ]
  },
  {
   "cell_type": "markdown",
   "id": "25f5fe32",
   "metadata": {},
   "source": [
    "## 6.Write a program to count the number of words in a string without split()"
   ]
  },
  {
   "cell_type": "code",
   "execution_count": 6,
   "id": "56142c4b",
   "metadata": {},
   "outputs": [
    {
     "name": "stdout",
     "output_type": "stream",
     "text": [
      "Enter the string:my name is bibek\n",
      "['my', 'name', 'is', 'bibek']\n"
     ]
    }
   ],
   "source": [
    "s = input('Enter the string:')\n",
    "L = []\n",
    "temp = ''\n",
    "for i in s:\n",
    "\n",
    "  if i != ' ':\n",
    "    temp = temp + i\n",
    "  else:\n",
    "    L.append(temp)\n",
    "    temp = ''\n",
    "L.append(temp)\n",
    "print(L)"
   ]
  },
  {
   "cell_type": "markdown",
   "id": "d2cc8a11",
   "metadata": {},
   "source": [
    "## 7.Write a python program to convert a string to title case without using the title()"
   ]
  },
  {
   "cell_type": "code",
   "execution_count": 7,
   "id": "4bb01241",
   "metadata": {},
   "outputs": [
    {
     "name": "stdout",
     "output_type": "stream",
     "text": [
      "Enter the string:hi my namE iS bibek\n",
      "Hi My Name Is Bibek\n"
     ]
    }
   ],
   "source": [
    "s = input('Enter the string:')\n",
    "L = []\n",
    "for i in s.split():\n",
    "  L.append(i[0].upper() + i[1:].lower())\n",
    "print(\" \".join(L))"
   ]
  },
  {
   "cell_type": "markdown",
   "id": "c142765e",
   "metadata": {},
   "source": [
    "## 8.Write a program that can convert an integer to string."
   ]
  },
  {
   "cell_type": "code",
   "execution_count": 8,
   "id": "4bc8d0a6",
   "metadata": {},
   "outputs": [
    {
     "name": "stdout",
     "output_type": "stream",
     "text": [
      "Enter the number:9938290998\n",
      "9938290998\n",
      "<class 'str'>\n"
     ]
    }
   ],
   "source": [
    "number = int(input('Enter the number:'))\n",
    "digits = '0123456789'\n",
    "result = ''\n",
    "while number != 0:\n",
    "  result = digits[number % 10] + result\n",
    "  number = number//10\n",
    "print(result)\n",
    "print(type(result))"
   ]
  },
  {
   "cell_type": "code",
   "execution_count": null,
   "id": "2e57f7c0",
   "metadata": {},
   "outputs": [],
   "source": []
  }
 ],
 "metadata": {
  "kernelspec": {
   "display_name": "Python 3 (ipykernel)",
   "language": "python",
   "name": "python3"
  },
  "language_info": {
   "codemirror_mode": {
    "name": "ipython",
    "version": 3
   },
   "file_extension": ".py",
   "mimetype": "text/x-python",
   "name": "python",
   "nbconvert_exporter": "python",
   "pygments_lexer": "ipython3",
   "version": "3.9.13"
  }
 },
 "nbformat": 4,
 "nbformat_minor": 5
}
