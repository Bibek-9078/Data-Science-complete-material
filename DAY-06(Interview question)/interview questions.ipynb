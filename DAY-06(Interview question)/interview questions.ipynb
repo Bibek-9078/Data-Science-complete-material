{
 "cells": [
  {
   "cell_type": "markdown",
   "id": "0e53fc21",
   "metadata": {},
   "source": [
    "## 1 What is Python? What are the benefits of using Python?"
   ]
  },
  {
   "cell_type": "markdown",
   "id": "7911d7c8",
   "metadata": {},
   "source": [
    "###  Python is a high-level, interpreted, general-purpose programming language. Being a general-purpose language, it can be used to build almost any type of application with the right tools/libraries. Additionally, python supports objects, modules, threads, exception-handling, and automatic memory management which help in modeling real-world problems and building applications to solve these problems."
   ]
  },
  {
   "cell_type": "markdown",
   "id": "7f374066",
   "metadata": {},
   "source": [
    "## Benefits"
   ]
  },
  {
   "cell_type": "markdown",
   "id": "da4f249e",
   "metadata": {},
   "source": [
    "### 1. Python is a general-purpose programming language that has a simple, easy-to-learn syntax that emphasizes readability and therefore reduces the cost of program maintenance. Moreover, the language is capable of scripting, is completely open-source, and supports third-party packages encouraging modularity and code reuse."
   ]
  },
  {
   "cell_type": "markdown",
   "id": "fc09623a",
   "metadata": {},
   "source": [
    "### 2.Its high-level data structures, combined with dynamic typing and dynamic binding, attract a huge community of developers for Rapid Application Development and deployment."
   ]
  },
  {
   "cell_type": "markdown",
   "id": "af381288",
   "metadata": {},
   "source": [
    "## 2.What is a dynamically typed language?"
   ]
  },
  {
   "cell_type": "markdown",
   "id": "20e9d6a9",
   "metadata": {},
   "source": [
    "### Before we understand a dynamically typed language, we should learn about what typing is. Typing refers to type-checking in programming languages. In a strongly-typed language, such as Python, \"1\" + 2 will result in a type error since these languages don't allow for \"type-coercion\" (implicit conversion of data types). On the other hand, a weakly-typed language, such as Javascript, will simply output \"12\" as result."
   ]
  },
  {
   "cell_type": "markdown",
   "id": "f269a8e6",
   "metadata": {},
   "source": [
    "### Type-checking can be done at two stages:\n",
    "### Static - Data Types are checked before execution.\n",
    "### Dynamic - Data Types are checked during execution. Python is an interpreted language, executes each statement line by line and thus type-checking is done on the fly, during execution. Hence, Python is a Dynamically Typed Language."
   ]
  },
  {
   "cell_type": "markdown",
   "id": "8f09b264",
   "metadata": {},
   "source": [
    "## 3. What is an Interpreted language?"
   ]
  },
  {
   "cell_type": "markdown",
   "id": "5cb8005f",
   "metadata": {},
   "source": [
    "### An Interpreted language executes its statements line by line. Languages such as Python, Javascript, R, PHP, and Ruby are prime examples of Interpreted languages. Programs written in an interpreted language runs directly from the source code, with no intermediary compilation step."
   ]
  },
  {
   "cell_type": "markdown",
   "id": "d982d0d6",
   "metadata": {},
   "source": [
    "## 4.What is PEP 8 and why is it important?"
   ]
  },
  {
   "cell_type": "markdown",
   "id": "d7bb643a",
   "metadata": {},
   "source": [
    "### PEP stands for *Python Enhancement Proposal*. A PEP is an official design document providing information to the Python community, or describing a new feature for Python or its processes. PEP 8 is especially important since it documents the style guidelines for Python Code. Apparently contributing to the Python open-source community requires you to follow these style guidelines sincerely and strictly."
   ]
  },
  {
   "cell_type": "markdown",
   "id": "868693c7",
   "metadata": {},
   "source": [
    "## 5. What are the common built-in data types in Python?"
   ]
  },
  {
   "cell_type": "markdown",
   "id": "701a400a",
   "metadata": {},
   "source": [
    "### There are several built-in data types in Python. Although, Python doesn't require data types to be defined explicitly during variable declarations type errors are likely to occur if the knowledge of data types and their compatibility with each other are neglected. Python provides type() and isinstance() functions to check the type of these variables. These data types can be grouped into the following categories-\n",
    "### 1.None Type: None keywork represents the null values in Python. Boolean equality operation can be performed using these NoneType objects.\n",
    "### 2.Numeric Type: There are three distinct numeric types - integers, floating-point numbers and complex numbers. Additionally, booleans are a sub-type of integers.\n",
    "### 3.Sequence Types: According to Python Docs, there are three basic Sequence Types - lists, tuples, and range objects. Sequence types have the in and not in operators defined for their traversing their elements. These operators share the same priority as the comparison operations.\n",
    "### 4.Mapping Types: A mapping object can map hashable values to random objects in Python. Mappings objects are mutable and there is currently only one standard mapping type, the dictionary.\n",
    "### 5.Set Types: Currently, Python has two built-in set types - set and frozenset. set type is mutable and supports methods like add() and remove(). frozenset type is immutable and can't be modified after creation.\n",
    "### 6.Callable Types: Callable types are the types to which function call can be applied. They can be user-defined functions, instance methods, generator functions, and some other built-in functions, methods and classes. Refer to the documentation at docs.python.org for a detailed view of the callable types.\n"
   ]
  },
  {
   "cell_type": "markdown",
   "id": "749e25e1",
   "metadata": {},
   "source": [
    "## 6. Operator Precedence."
   ]
  },
  {
   "cell_type": "markdown",
   "id": "d2a9de83",
   "metadata": {},
   "source": [
    "### The combination of values, variables, operators, and function calls is termed as an expression. The Python interpreter can evaluate a valid expression. The rule of BODMAS"
   ]
  },
  {
   "cell_type": "code",
   "execution_count": 1,
   "id": "04cecdac",
   "metadata": {},
   "outputs": [
    {
     "data": {
      "text/plain": [
       "-2"
      ]
     },
     "execution_count": 1,
     "metadata": {},
     "output_type": "execute_result"
    }
   ],
   "source": [
    "5 - 7"
   ]
  },
  {
   "cell_type": "code",
   "execution_count": 2,
   "id": "815ef05f",
   "metadata": {},
   "outputs": [
    {
     "data": {
      "text/plain": [
       "2"
      ]
     },
     "execution_count": 2,
     "metadata": {},
     "output_type": "execute_result"
    }
   ],
   "source": [
    "10 - 4 * 2"
   ]
  },
  {
   "cell_type": "markdown",
   "id": "be94b44b",
   "metadata": {},
   "source": [
    "### Multiplication has higher precedence than subtraction"
   ]
  },
  {
   "cell_type": "code",
   "execution_count": 3,
   "id": "8d5bf158",
   "metadata": {},
   "outputs": [
    {
     "data": {
      "text/plain": [
       "12"
      ]
     },
     "execution_count": 3,
     "metadata": {},
     "output_type": "execute_result"
    }
   ],
   "source": [
    "(10 - 4) * 2"
   ]
  },
  {
   "cell_type": "markdown",
   "id": "42137fc4",
   "metadata": {},
   "source": [
    "### Parentheses () has higher precedence"
   ]
  },
  {
   "cell_type": "markdown",
   "id": "247c684b",
   "metadata": {},
   "source": [
    "## 7. Explain the ternary operator in Python."
   ]
  },
  {
   "cell_type": "markdown",
   "id": "d40dc8ce",
   "metadata": {},
   "source": [
    "### in Python, but we have this:[on true] if [expression] else [on false]\n",
    "### If the expression is True, the statement under [on true] is executed. Else, that under [on false] is executed."
   ]
  },
  {
   "cell_type": "code",
   "execution_count": 4,
   "id": "13bb5b1b",
   "metadata": {},
   "outputs": [
    {
     "name": "stdout",
     "output_type": "stream",
     "text": [
      "Bye\n"
     ]
    }
   ],
   "source": [
    "# Run this cell to see result.\n",
    "a,b=14,12\n",
    "print(\"Hi\") if a<b else print(\"Bye\")"
   ]
  },
  {
   "cell_type": "markdown",
   "id": "389c2c84",
   "metadata": {},
   "source": [
    "## 8. What Does the ‘is’ Operator Do?"
   ]
  },
  {
   "cell_type": "markdown",
   "id": "6ee71022",
   "metadata": {},
   "source": [
    "### Identity operators In Python, is and is not are used to check if two values are located on the same part of the memory. Two variables that are equal does not imply that they are identical."
   ]
  },
  {
   "cell_type": "code",
   "execution_count": 5,
   "id": "8db77814",
   "metadata": {},
   "outputs": [
    {
     "data": {
      "text/plain": [
       "2434353031472"
      ]
     },
     "execution_count": 5,
     "metadata": {},
     "output_type": "execute_result"
    }
   ],
   "source": [
    "a = 1\n",
    "id(a)"
   ]
  },
  {
   "cell_type": "code",
   "execution_count": 6,
   "id": "1ec7a15d",
   "metadata": {},
   "outputs": [
    {
     "data": {
      "text/plain": [
       "2434353031504"
      ]
     },
     "execution_count": 6,
     "metadata": {},
     "output_type": "execute_result"
    }
   ],
   "source": [
    "a = 2\n",
    "id(a)"
   ]
  },
  {
   "cell_type": "code",
   "execution_count": 7,
   "id": "945644d0",
   "metadata": {},
   "outputs": [
    {
     "data": {
      "text/plain": [
       "True"
      ]
     },
     "execution_count": 7,
     "metadata": {},
     "output_type": "execute_result"
    }
   ],
   "source": [
    "a = 1\n",
    "b = 1\n",
    "a is b"
   ]
  },
  {
   "cell_type": "code",
   "execution_count": 8,
   "id": "cc3fe555",
   "metadata": {},
   "outputs": [
    {
     "data": {
      "text/plain": [
       "2434353031472"
      ]
     },
     "execution_count": 8,
     "metadata": {},
     "output_type": "execute_result"
    }
   ],
   "source": [
    "id(a)"
   ]
  },
  {
   "cell_type": "code",
   "execution_count": 9,
   "id": "35e74dcf",
   "metadata": {},
   "outputs": [
    {
     "data": {
      "text/plain": [
       "2434353031472"
      ]
     },
     "execution_count": 9,
     "metadata": {},
     "output_type": "execute_result"
    }
   ],
   "source": [
    "id(b)"
   ]
  },
  {
   "cell_type": "code",
   "execution_count": 10,
   "id": "adaef924",
   "metadata": {},
   "outputs": [
    {
     "data": {
      "text/plain": [
       "False"
      ]
     },
     "execution_count": 10,
     "metadata": {},
     "output_type": "execute_result"
    }
   ],
   "source": [
    "a = 257\n",
    "b = 257\n",
    "\n",
    "a is b"
   ]
  },
  {
   "cell_type": "code",
   "execution_count": 11,
   "id": "5af1c1d2",
   "metadata": {},
   "outputs": [
    {
     "data": {
      "text/plain": [
       "2434436422192"
      ]
     },
     "execution_count": 11,
     "metadata": {},
     "output_type": "execute_result"
    }
   ],
   "source": [
    "id(a)"
   ]
  },
  {
   "cell_type": "code",
   "execution_count": 12,
   "id": "33f3b171",
   "metadata": {},
   "outputs": [
    {
     "data": {
      "text/plain": [
       "True"
      ]
     },
     "execution_count": 12,
     "metadata": {},
     "output_type": "execute_result"
    }
   ],
   "source": [
    "a == b"
   ]
  },
  {
   "cell_type": "code",
   "execution_count": 13,
   "id": "8337e586",
   "metadata": {},
   "outputs": [
    {
     "data": {
      "text/plain": [
       "2434436422704"
      ]
     },
     "execution_count": 13,
     "metadata": {},
     "output_type": "execute_result"
    }
   ],
   "source": [
    "id(b)"
   ]
  },
  {
   "cell_type": "markdown",
   "id": "6a359f11",
   "metadata": {},
   "source": [
    "## 9.Disadvantages of Python."
   ]
  },
  {
   "cell_type": "markdown",
   "id": "db3ad554",
   "metadata": {},
   "source": [
    "### 1.Speed: Python is an interpreted language and is slow as compared to C/C++ or Java. Unlike C or C++ it’s not closer to hardware because Python is a high-level language. As we all know that compilation and execution help to work normally, but in this case, execution of Python takes place with the help of an interpreter instead of the compiler as we have seen that Python code is executed line by line, which causes it to slow down. Speed is a focal point for the project required by any programmer. On the other hand, it can be seen that it is fast for many web applications too. "
   ]
  },
  {
   "cell_type": "markdown",
   "id": "706e36be",
   "metadata": {},
   "source": [
    "### 2.Mobile Development: However Python is strong in desktop and server platforms, that is it is an excellent server-side language but for mobile development, Python is not a very good language which means it is a weak language for mobile development. It is very rarely used for mobile development. This is the reason very few mobile applications are built in it like Carbonnelle, which is built-in python. "
   ]
  },
  {
   "cell_type": "markdown",
   "id": "359857b9",
   "metadata": {},
   "source": [
    "### 3.Memory Consumption: For any memory intensive tasks Python is not a good choice. That is why it is not used for that purpose. Python’s memory consumption is also high, due to the flexibility of the data types. "
   ]
  },
  {
   "cell_type": "markdown",
   "id": "213b4d84",
   "metadata": {},
   "source": [
    "### 4.Database Access: Python is a robust programming language with minimal stress and worries. But, this language is highly insecure and can be used only at one’s own risk. There are some limitations of Python with database access. In comparison to the popular technologies like JDBC and ODBC, it is found that Python’s database access layer is a bit underdeveloped and primitive. It acts as a major barrier when big enterprises look for a language that ensures smooth interaction of complex legacy data. However, the enterprises that need smooth interaction of complex legacy data, the Python database access layer is not applied. That is, it is less often applied in huge enterprises."
   ]
  },
  {
   "cell_type": "markdown",
   "id": "68951ddb",
   "metadata": {},
   "source": [
    "### 5.Runtime Errors: One of the major drawbacks of this language is that its design has numerous issues. Python programmers face several issues regarding the design of the language. This language requires more testing and also it has errors that only show up at runtime this is because the language is dynamically typed. "
   ]
  },
  {
   "cell_type": "markdown",
   "id": "fbd812f3",
   "metadata": {},
   "source": [
    "### 6.Difficulty in Using Other Languages: The Python lovers become so accustomed to its features and its extensive libraries that they face problem in learning or working on other programming languages. "
   ]
  },
  {
   "cell_type": "markdown",
   "id": "74b4760c",
   "metadata": {},
   "source": [
    "### 7.Simplicity: Python is a simple programming language which is also the biggest disadvantage. It can indeed be a problem. Its syntax is very simple which makes a programmer more of python person and because of which they might feel code of harder language like Java unnecessary. It concludes that with its late-binding dynamic models and extensive libraries, shifting to a new language from Python gets difficult as the user finds it difficult to adjust to its vulnerable nature and taking everything on a light note."
   ]
  },
  {
   "cell_type": "markdown",
   "id": "3070621f",
   "metadata": {},
   "source": [
    "## 10 What is Zen of Python?"
   ]
  },
  {
   "cell_type": "markdown",
   "id": "a1bc3be6",
   "metadata": {},
   "source": [
    "### The Zen of Python is a collection of 19 \"guiding principles\" for writing computer programs that influence the design of the Python programming language.\n",
    "### 1.Beautiful is better than ugly.\n",
    "### 2.Explicit is better than implicit.\n",
    "### 3.Simple is better than complex.\n",
    "### 4.Complex is better than complicated.\n",
    "### 5.Flat is better than nested.\n",
    "### 6.Sparse is better than dense.\n",
    "### 7.Readability counts.\n",
    "### 8.Special cases aren't special enough to break the rules.\n",
    "### 9.Although practicality beats purity.\n",
    "### 10.Errors should never pass silently.\n",
    "### 11.Unless explicitly silenced.\n",
    "### 12.In the face of ambiguity, refuse the temptation to guess.\n",
    "### 13.There should be one-- and preferably only one --obvious way to do it.\n",
    "### 14.Although that way may not be obvious at first unless you're Dutch.\n",
    "### 15.Now is better than never.\n",
    "### 16.Although never is often better than *right* now.\n",
    "### 17.If the implementation is hard to explain, it's a bad idea.\n",
    "### 18.If the implementation is easy to explain, it may be a good idea.\n",
    "### 19.Namespaces are one honking great idea -- let's do more of those!"
   ]
  },
  {
   "cell_type": "markdown",
   "id": "b5b98f0a",
   "metadata": {},
   "source": [
    "## 11 Identity operator (is) vs ==?"
   ]
  },
  {
   "cell_type": "markdown",
   "id": "d4519b98",
   "metadata": {},
   "source": [
    "### Here’s the main difference between python “==” vs “is:”\n",
    "### Identity operators: The “is” and “is not” keywords are called identity operators that compare objects based on their identity. Equality operator: The “==” and “!=” are called equality operators that compare the objects based on their values."
   ]
  },
  {
   "cell_type": "code",
   "execution_count": 14,
   "id": "9076c096",
   "metadata": {},
   "outputs": [
    {
     "name": "stdout",
     "output_type": "stream",
     "text": [
      "id of p 2434436717760\n",
      "Id of s 2434436717760\n",
      "id of q 2434436718208\n",
      "Comapare- s == q True\n",
      "Identity- s is q False\n",
      "Identity- s is p True\n",
      "Comapare- s == p True\n"
     ]
    }
   ],
   "source": [
    "# Here variable s is assigned a list, \n",
    "# and q assigned a list values same as s but on slicing of list a new list is generated\n",
    "s=[1,2,3]\n",
    "p=s\n",
    "# cloning\n",
    "q=s[:]\n",
    "print(\"id of p\", id(p))\n",
    "print(\"Id of s\", id(s))\n",
    "print(\"id of q\", id(q))\n",
    "print(\"Comapare- s == q\", s==q)\n",
    "print(\"Identity- s is q\", s is q)\n",
    "print(\"Identity- s is p\", s is p)\n",
    "print(\"Comapare- s == p\", s==p)"
   ]
  },
  {
   "cell_type": "markdown",
   "id": "958097a7",
   "metadata": {},
   "source": [
    "## 12 What does _ variables represent in Python?"
   ]
  },
  {
   "cell_type": "markdown",
   "id": "ec802cc6",
   "metadata": {},
   "source": [
    "### Underscore _ is considered as \"I don't Care\" or \"Throwaway\" variable in Python\n",
    "### The underscore _ is used for ignoring the specific values. If you don’t need the specific values or the values are not used, just assign the values to underscore.\n",
    "### ** Ignore a value when unpacking\n",
    "### ** Ignore the index"
   ]
  },
  {
   "cell_type": "code",
   "execution_count": 15,
   "id": "bc010638",
   "metadata": {},
   "outputs": [
    {
     "name": "stdout",
     "output_type": "stream",
     "text": [
      "x- 1\n",
      "y- 3\n"
     ]
    }
   ],
   "source": [
    "# Ignore a value when unpacking\n",
    "x, _, y = (1, 2, 3)\n",
    "print(\"x-\",x)\n",
    "print(\"y-\", y)"
   ]
  },
  {
   "cell_type": "code",
   "execution_count": 16,
   "id": "44a48e9d",
   "metadata": {},
   "outputs": [
    {
     "name": "stdout",
     "output_type": "stream",
     "text": [
      "hello\n",
      "hello\n",
      "hello\n",
      "hello\n",
      "hello\n"
     ]
    }
   ],
   "source": [
    "#Ignore the index\n",
    "# Say we want to print hello 5 times, we don't need index value\n",
    "for _ in range(5):\n",
    "    print('hello')"
   ]
  },
  {
   "cell_type": "markdown",
   "id": "23eb3c67",
   "metadata": {},
   "source": [
    "## 13 Modules vs packages vs Library"
   ]
  },
  {
   "cell_type": "markdown",
   "id": "94bbd29e",
   "metadata": {},
   "source": [
    "### Python uses some terms that you may not be familiar with if you’re coming from a different language. Among these are modules, packages, and libraries.\n",
    "\n",
    "### A module is a Python file that’s intended to be imported into scripts or other modules. It often defines members like classes, functions, and variables intended to be used in other files that import it.\n",
    "### A package is a collection of related modules that work together to provide certain functionality. These modules are contained within a folder and can be imported just like any other modules. This folder will often contain a special __init__ file that tells Python it’s a package, potentially containing more modules nested within subfolders\n",
    "\n",
    "### A library is an umbrella term that loosely means “a bundle of code.” These can have tens or even hundreds of individual modules that can provide a wide range of functionality. Matplotlib is a plotting library. The Python Standard Library contains hundreds of modules for performing common tasks, like sending emails or reading JSON data. What’s special about the Standard Library is that it comes bundled with your installation of Python, so you can use its modules without having to download them from anywhere.\n",
    "\n",
    "### These are not strict definitions. Many people feel these terms are somewhat open to interpretation. Script and module are terms that you may hear used interchangeably."
   ]
  },
  {
   "cell_type": "markdown",
   "id": "d3baf208",
   "metadata": {},
   "source": [
    "## 14 Why 0.3 – 0.2 is not equal to 0.1 in Python?"
   ]
  },
  {
   "cell_type": "markdown",
   "id": "08c39551",
   "metadata": {},
   "source": [
    "### The reason behind it is called “precision”, and it’s due to the fact that computers do not compute in Decimal, but in Binary. Computers do not use a base 10 system, they use a base 2 system (also called Binary code)."
   ]
  },
  {
   "cell_type": "code",
   "execution_count": 17,
   "id": "5391df19",
   "metadata": {},
   "outputs": [
    {
     "name": "stdout",
     "output_type": "stream",
     "text": [
      "0.09999999999999998\n",
      "False\n"
     ]
    }
   ],
   "source": [
    "print(0.3 - 0.2)\n",
    "print(0.3 - 0.2 == 0.1)"
   ]
  },
  {
   "cell_type": "markdown",
   "id": "fbf4fd9a",
   "metadata": {},
   "source": [
    "## 15.Python Docstrings"
   ]
  },
  {
   "cell_type": "code",
   "execution_count": 18,
   "id": "4de00abf",
   "metadata": {},
   "outputs": [
    {
     "name": "stdout",
     "output_type": "stream",
     "text": [
      "type(object) -> the object's type\n",
      "type(name, bases, dict, **kwds) -> a new type\n"
     ]
    }
   ],
   "source": [
    "print(type.__doc__)"
   ]
  },
  {
   "cell_type": "code",
   "execution_count": 19,
   "id": "ba665d4f",
   "metadata": {},
   "outputs": [
    {
     "name": "stdout",
     "output_type": "stream",
     "text": [
      "2434436673648\n",
      "2434436682352\n"
     ]
    }
   ],
   "source": [
    "s = 'have'\n",
    "print(id(s))\n",
    "s = s.capitalize()\n",
    "print(id(s))"
   ]
  },
  {
   "cell_type": "code",
   "execution_count": 20,
   "id": "8ccacfd4",
   "metadata": {},
   "outputs": [
    {
     "name": "stdout",
     "output_type": "stream",
     "text": [
      "hello\n",
      "world\n"
     ]
    }
   ],
   "source": [
    "a,b = print('hello'),print('world')"
   ]
  },
  {
   "cell_type": "code",
   "execution_count": 21,
   "id": "948bbca7",
   "metadata": {},
   "outputs": [
    {
     "name": "stdout",
     "output_type": "stream",
     "text": [
      "3 3 3 3 "
     ]
    }
   ],
   "source": [
    "for i in range(1, 5):\n",
    "    i = 3\n",
    "    print(i, end=' ')"
   ]
  },
  {
   "cell_type": "code",
   "execution_count": null,
   "id": "4cc7f7d5",
   "metadata": {},
   "outputs": [],
   "source": []
  }
 ],
 "metadata": {
  "kernelspec": {
   "display_name": "Python 3 (ipykernel)",
   "language": "python",
   "name": "python3"
  },
  "language_info": {
   "codemirror_mode": {
    "name": "ipython",
    "version": 3
   },
   "file_extension": ".py",
   "mimetype": "text/x-python",
   "name": "python",
   "nbconvert_exporter": "python",
   "pygments_lexer": "ipython3",
   "version": "3.9.13"
  }
 },
 "nbformat": 4,
 "nbformat_minor": 5
}
