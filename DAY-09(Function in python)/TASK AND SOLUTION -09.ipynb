{
 "cells": [
  {
   "cell_type": "markdown",
   "id": "2f51055a",
   "metadata": {},
   "source": [
    "# TASK AND SOLUTION -06"
   ]
  },
  {
   "cell_type": "markdown",
   "id": "f74c1b6e",
   "metadata": {},
   "source": [
    "## 1.Write a Python function that takes a list and returns a new list with unique elements of the first list."
   ]
  },
  {
   "cell_type": "code",
   "execution_count": 1,
   "id": "60dde78a",
   "metadata": {},
   "outputs": [
    {
     "data": {
      "text/plain": [
       "[1, 2, 3, 4, 5]"
      ]
     },
     "execution_count": 1,
     "metadata": {},
     "output_type": "execute_result"
    }
   ],
   "source": [
    "def return_unique(L):\n",
    "  res = []\n",
    "  for i in L:\n",
    "    if i not in res:\n",
    "      res.append(i)\n",
    "  return res\n",
    "L = [1,2,3,3,3,3,4,5]\n",
    "return_unique(L)"
   ]
  },
  {
   "cell_type": "markdown",
   "id": "14425343",
   "metadata": {},
   "source": [
    "## 2. Write a Python function that accepts a hyphen-separated sequence of words as parameter and returns the words in a hyphen-separated sequence after sorting them alphabetically."
   ]
  },
  {
   "cell_type": "code",
   "execution_count": 2,
   "id": "87c061ad",
   "metadata": {},
   "outputs": [
    {
     "data": {
      "text/plain": [
       "'black-green-red-white-yellow'"
      ]
     },
     "execution_count": 2,
     "metadata": {},
     "output_type": "execute_result"
    }
   ],
   "source": [
    "def sort_sequence(seq):\n",
    "  temp = []\n",
    "\n",
    "  for i in sorted(seq.split('-')):\n",
    "    temp.append(i)\n",
    "\n",
    "  return \"-\".join(temp)\n",
    "s = 'green-red-yellow-black-white'\n",
    "sort_sequence(s)"
   ]
  },
  {
   "cell_type": "markdown",
   "id": "d22a8a14",
   "metadata": {},
   "source": [
    "## 3.Write a Python function that accepts a string and calculate the number of upper case letters and lower case letters."
   ]
  },
  {
   "cell_type": "code",
   "execution_count": 3,
   "id": "0f13a61f",
   "metadata": {},
   "outputs": [
    {
     "name": "stdout",
     "output_type": "stream",
     "text": [
      "No. of Lower case characters: 47\n",
      "No. of Upper case Characters: 9\n"
     ]
    }
   ],
   "source": [
    "# Write code here\n",
    "\n",
    "def lower_upper(s):\n",
    "  lower_count = 0\n",
    "  upper_count = 0\n",
    "\n",
    "  for i in s:\n",
    "    if i.islower():\n",
    "      lower_count += 1\n",
    "    elif i.isupper():\n",
    "      upper_count += 1\n",
    "    else:\n",
    "      pass\n",
    "\n",
    "  return lower_count,upper_count\n",
    "\n",
    "s = 'CampusX is an Online Mentorship Program fOr EnginEering studentS.'\n",
    "x,y = lower_upper(s)\n",
    "print('No. of Lower case characters:', x)\n",
    "print('No. of Upper case Characters:', y)"
   ]
  },
  {
   "cell_type": "markdown",
   "id": "2638e0f0",
   "metadata": {},
   "source": [
    "## 4.Write a Python program to print the even numbers from a given list.\n",
    "## Sample List : [1, 2, 3, 4, 5, 6, 7, 8, 9] Expected Result : [2, 4, 6, 8]"
   ]
  },
  {
   "cell_type": "code",
   "execution_count": 4,
   "id": "76d1ac90",
   "metadata": {},
   "outputs": [
    {
     "data": {
      "text/plain": [
       "[2, 4, 6]"
      ]
     },
     "execution_count": 4,
     "metadata": {},
     "output_type": "execute_result"
    }
   ],
   "source": [
    "def is_even(L):\n",
    "  res = []\n",
    "  for i in L:\n",
    "    if i % 2 == 0:\n",
    "      res.append(i)\n",
    "  return res\n",
    "is_even([1,2,3,4,5,6,7])"
   ]
  },
  {
   "cell_type": "markdown",
   "id": "1de1fe45",
   "metadata": {},
   "source": [
    "## 5.Write a Python function to check whether a number is perfect or not."
   ]
  },
  {
   "cell_type": "code",
   "execution_count": 5,
   "id": "28409ce4",
   "metadata": {},
   "outputs": [
    {
     "data": {
      "text/plain": [
       "False"
      ]
     },
     "execution_count": 5,
     "metadata": {},
     "output_type": "execute_result"
    }
   ],
   "source": [
    "def perfect_num(num):\n",
    "  sum = 0\n",
    "  for i in range(1,num):\n",
    "    if num % i == 0:\n",
    "      sum += i\n",
    "  return sum == num\n",
    "perfect_num(29)"
   ]
  },
  {
   "cell_type": "markdown",
   "id": "af3aefd2",
   "metadata": {},
   "source": [
    "## 6.Write a Python function to concatenate any no of dictionaries to create a new one."
   ]
  },
  {
   "cell_type": "code",
   "execution_count": 6,
   "id": "c45f6549",
   "metadata": {},
   "outputs": [
    {
     "data": {
      "text/plain": [
       "{1: 10, 2: 20, 3: 30, 4: 40, 5: 50, 6: 60}"
      ]
     },
     "execution_count": 6,
     "metadata": {},
     "output_type": "execute_result"
    }
   ],
   "source": [
    "def merge_dict(*kwargs):\n",
    "  d = {}\n",
    "\n",
    "  for i in kwargs:\n",
    "    d.update(i)\n",
    "\n",
    "  return d\n",
    "dic1={1:10, 2:20}\n",
    "dic2={3:30, 4:40}\n",
    "dic3={5:50,6:60}\n",
    "merge_dict(dic1,dic2,dic3)"
   ]
  },
  {
   "cell_type": "markdown",
   "id": "1d4b2801",
   "metadata": {},
   "source": [
    "## 7. Write a python function that accepts a string as input and returns the word with most occurence."
   ]
  },
  {
   "cell_type": "code",
   "execution_count": 7,
   "id": "8c29199c",
   "metadata": {},
   "outputs": [
    {
     "name": "stdout",
     "output_type": "stream",
     "text": [
      "hello -> 3\n"
     ]
    }
   ],
   "source": [
    "def most_used(s):\n",
    "  d = {}\n",
    "  for i in s.split():\n",
    "    if i in d:\n",
    "      d[i] = d[i] + 1\n",
    "    else:\n",
    "      d[i] = 1\n",
    "  max_val = max(d.values())\n",
    "  for i in d:\n",
    "    if d[i] == max_val:\n",
    "      print(i,'->',d[i])\n",
    "      break\n",
    "most_used('hello hello hello you i am fine thank you')"
   ]
  },
  {
   "cell_type": "markdown",
   "id": "5f39a4b1",
   "metadata": {},
   "source": [
    "## 8.Write a python function that receives a list of integers and prints out a histogram of bin size 10"
   ]
  },
  {
   "cell_type": "code",
   "execution_count": 8,
   "id": "4fce6c5e",
   "metadata": {},
   "outputs": [
    {
     "data": {
      "text/plain": [
       "{'11-20': 2, '21-30': 1, '31-40': 2, '41-50': 3}"
      ]
     },
     "execution_count": 8,
     "metadata": {},
     "output_type": "execute_result"
    }
   ],
   "source": [
    "import math\n",
    "def histogram(L):\n",
    "  min_bin = math.floor(min(L)/10)*10\n",
    "  max_bin = math.ceil(max(L)/10)*10\n",
    "  d={}\n",
    "  for i in range(min_bin,max_bin,10):\n",
    "    count = 0\n",
    "    for j in L:\n",
    "      if i+1<=j<=i+10:\n",
    "        count+=1\n",
    "\n",
    "    d[str(i+1) + '-' + str(i+10)] = count\n",
    "\n",
    "  return d\n",
    "histogram([13,42,15,37,22,39,41,50])"
   ]
  },
  {
   "cell_type": "markdown",
   "id": "96634b41",
   "metadata": {},
   "source": [
    "## 9.Write a python function that accepts a list of 2D co-ordinates and a query point, and then finds the the co-ordinate which is closest in terms of distance from the query point."
   ]
  },
  {
   "cell_type": "code",
   "execution_count": 9,
   "id": "f9eece2b",
   "metadata": {},
   "outputs": [
    {
     "data": {
      "text/plain": [
       "(2, -2)"
      ]
     },
     "execution_count": 9,
     "metadata": {},
     "output_type": "execute_result"
    }
   ],
   "source": [
    "def shortest_dist(points,query):\n",
    "  temp = []\n",
    "  for i in points:\n",
    "    distance = ((i[0] - query[0])**2 + (i[1] - query[1])**2)**0.5\n",
    "    temp.append(distance)\n",
    "\n",
    "  return points[sorted(list(enumerate(temp)),key=lambda x:x[1])[0][0]]\n",
    "points = [(1,4),(2,-2),(13,3),(14,4)]\n",
    "query = (0,0)\n",
    "shortest_dist(points,query)"
   ]
  },
  {
   "cell_type": "markdown",
   "id": "315a3f82",
   "metadata": {},
   "source": [
    "## 10.Write a python program that receives a list of strings and performs bag of word operation on those strings."
   ]
  },
  {
   "cell_type": "code",
   "execution_count": 10,
   "id": "7c202584",
   "metadata": {},
   "outputs": [
    {
     "name": "stdout",
     "output_type": "stream",
     "text": [
      "{'bat', 'sat', 'cat', 'mat', 'pat', 'fat', 'rat'}\n"
     ]
    },
    {
     "data": {
      "text/plain": [
       "[[0, 0, 2, 1, 0, 0, 1], [1, 1, 1, 0, 0, 1, 1], [0, 0, 1, 1, 1, 0, 1]]"
      ]
     },
     "execution_count": 10,
     "metadata": {},
     "output_type": "execute_result"
    }
   ],
   "source": [
    "def bow(L):\n",
    "  vocab = set()\n",
    "  for i in L:\n",
    "    vocab.update(i.split())\n",
    "  result = []\n",
    "  for i in L:\n",
    "    result.append([])\n",
    "    for j in vocab:\n",
    "      result[-1].append(i.count(j))\n",
    "  print(vocab)\n",
    "  return result\n",
    "L = [\n",
    "    'cat mat rat cat',\n",
    "     'sat bat fat cat rat',\n",
    "     'pat cat mat rat'\n",
    "]\n",
    "bow(L)"
   ]
  },
  {
   "cell_type": "markdown",
   "id": "0a8edc26",
   "metadata": {},
   "source": [
    "## 11.Write a Python program to add three given lists using Python map and lambda."
   ]
  },
  {
   "cell_type": "code",
   "execution_count": 11,
   "id": "5a2025c3",
   "metadata": {},
   "outputs": [
    {
     "data": {
      "text/plain": [
       "[12, 15, 18]"
      ]
     },
     "execution_count": 11,
     "metadata": {},
     "output_type": "execute_result"
    }
   ],
   "source": [
    "L1 = [1,2,3]\n",
    "L2 = [4,5,6]\n",
    "L3 = [7,8,9]\n",
    "list(map(lambda x,y,z:x+y+z,L1,L2,L3))"
   ]
  },
  {
   "cell_type": "markdown",
   "id": "2857155b",
   "metadata": {},
   "source": [
    "## 12.Write a Python program to create a list containing the power of said number in bases raised to the corresponding number in the index using Python map."
   ]
  },
  {
   "cell_type": "code",
   "execution_count": 12,
   "id": "e0f46cc1",
   "metadata": {},
   "outputs": [
    {
     "data": {
      "text/plain": [
       "[1, 2, 9, 64, 625, 7776]"
      ]
     },
     "execution_count": 12,
     "metadata": {},
     "output_type": "execute_result"
    }
   ],
   "source": [
    "list1 = [1,2,3,4,5,6]\n",
    "list(map(lambda x,y:x**y,list1,range(len(list1))))"
   ]
  },
  {
   "cell_type": "markdown",
   "id": "3f3aa793",
   "metadata": {},
   "source": [
    "## 13.Using filter() and list() functions and .lower() method filter all the vowels in a given string."
   ]
  },
  {
   "cell_type": "code",
   "execution_count": 13,
   "id": "a36120c8",
   "metadata": {},
   "outputs": [
    {
     "data": {
      "text/plain": [
       "['I', 'A', 'o', 'u', 'i', 'i', 'a', 'e', 'a', 'e', 'i', 'a', 'a']"
      ]
     },
     "execution_count": 13,
     "metadata": {},
     "output_type": "execute_result"
    }
   ],
   "source": [
    "str1=\"FIFA world cup in 2022 will take place in Qatar\"\n",
    "list(filter(lambda x:True if x.lower() in 'aeiou' else False,str1))"
   ]
  },
  {
   "cell_type": "markdown",
   "id": "69203ad8",
   "metadata": {},
   "source": [
    "## 14.Use reduce to convert a 2D list to 1D"
   ]
  },
  {
   "cell_type": "code",
   "execution_count": 14,
   "id": "b9334920",
   "metadata": {},
   "outputs": [
    {
     "data": {
      "text/plain": [
       "[1, 2, 3, 3, 6, 7, 7, 5, 4]"
      ]
     },
     "execution_count": 14,
     "metadata": {},
     "output_type": "execute_result"
    }
   ],
   "source": [
    "ini_list = [[1, 2, 3],\n",
    "            [3, 6, 7],\n",
    "            [7, 5, 4]]\n",
    "import functools\n",
    "functools.reduce(lambda x,y:x+y,ini_list)"
   ]
  },
  {
   "cell_type": "markdown",
   "id": "bf3d3703",
   "metadata": {},
   "source": [
    "## 15.A dictionary contains following information about 5 employees:First name,Last name,Age,Grade(Skilled,Semi-skilled,Highly skilled)Write a program using map/filter/reduce to a list of employees(first name + last name) who are highly skilled"
   ]
  },
  {
   "cell_type": "code",
   "execution_count": 15,
   "id": "1a94185c",
   "metadata": {},
   "outputs": [],
   "source": [
    "employees = [\n",
    "    {\n",
    "        'fname':'Nitish',\n",
    "        'lname':'Singh',\n",
    "        'age' : 33,\n",
    "        'grade':'skilled'\n",
    "    },\n",
    "    {\n",
    "        'fname':'Ankit',\n",
    "        'lname':'Verma',\n",
    "        'age' : 34,\n",
    "        'grade':'semi-skilled'\n",
    "    },\n",
    "    {\n",
    "        'fname':'Neha',\n",
    "        'lname':'Singh',\n",
    "        'age' : 35,\n",
    "        'grade':'highly-skilled'\n",
    "    },\n",
    "    {\n",
    "        'fname':'Anurag',\n",
    "        'lname':'Kumar',\n",
    "        'age' : 30,\n",
    "        'grade':'skilled'\n",
    "    },\n",
    "    {\n",
    "        'fname':'Abhinav',\n",
    "        'lname':'Sharma',\n",
    "        'age' : 37,\n",
    "        'grade':'highly-skilled'\n",
    "    }\n",
    "    \n",
    "]"
   ]
  },
  {
   "cell_type": "code",
   "execution_count": 16,
   "id": "22185897",
   "metadata": {},
   "outputs": [
    {
     "data": {
      "text/plain": [
       "['Neha Singh', 'Abhinav Sharma']"
      ]
     },
     "execution_count": 16,
     "metadata": {},
     "output_type": "execute_result"
    }
   ],
   "source": [
    "list(map(lambda x:x['fname'] + ' ' + x['lname'],list(filter(lambda x:True if x['grade'] == \n",
    "                                                            'highly-skilled' else False,employees))))"
   ]
  },
  {
   "cell_type": "code",
   "execution_count": null,
   "id": "6512ef60",
   "metadata": {},
   "outputs": [],
   "source": []
  }
 ],
 "metadata": {
  "kernelspec": {
   "display_name": "Python 3 (ipykernel)",
   "language": "python",
   "name": "python3"
  },
  "language_info": {
   "codemirror_mode": {
    "name": "ipython",
    "version": 3
   },
   "file_extension": ".py",
   "mimetype": "text/x-python",
   "name": "python",
   "nbconvert_exporter": "python",
   "pygments_lexer": "ipython3",
   "version": "3.9.13"
  }
 },
 "nbformat": 4,
 "nbformat_minor": 5
}
