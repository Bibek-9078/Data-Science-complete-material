{
 "cells": [
  {
   "cell_type": "markdown",
   "id": "b563ce61",
   "metadata": {},
   "source": [
    "# TASK AND SOLUTTION ( DAY-04 )"
   ]
  },
  {
   "cell_type": "markdown",
   "id": "19efcbbf",
   "metadata": {},
   "source": [
    "## 1: Combine two lists index-wise(columns wise) Write a program to add two lists index-wise. Create a new list that contains the 0th index item from both the list, then the 1st index item, and so on till the last element. any leftover items will get added at the end of the new list. Given List: list1 = [\"M\", \"na\", \"i\", \"Kh\"] list2 = [\"y\", \"me\", \"s\", \"an\"] Output:[['M','y'], ['na', me'], ['i', 's'], ['Kh', 'an']]"
   ]
  },
  {
   "cell_type": "code",
   "execution_count": 1,
   "id": "71aacce2",
   "metadata": {},
   "outputs": [
    {
     "data": {
      "text/plain": [
       "[['M', 'y'], ['na', 'me'], ['i', 's'], ['Kh', 'an']]"
      ]
     },
     "execution_count": 1,
     "metadata": {},
     "output_type": "execute_result"
    }
   ],
   "source": [
    "list1 = [\"M\", \"na\", \"i\", \"Kh\"]\n",
    "list2 = [\"y\", \"me\", \"s\", \"an\"]\n",
    "[[i,j] for (i,j) in zip(list1,list2)]"
   ]
  },
  {
   "cell_type": "markdown",
   "id": "e61ae4ec",
   "metadata": {},
   "source": [
    "## 2 Add new item to list after a specified item Write a program to add item 7000 after 6000 in the following Python List ist1 = [10, 20, [300, 400, [5000, 6000], 500], 30, 40]     Output:[10, 20, [300, 400, [5000, 6000, 7000], 500], 30, 40]"
   ]
  },
  {
   "cell_type": "code",
   "execution_count": 2,
   "id": "859e8587",
   "metadata": {},
   "outputs": [
    {
     "data": {
      "text/plain": [
       "[10, 20, [300, 400, [5000, 6000, 7000], 500], 30, 40]"
      ]
     },
     "execution_count": 2,
     "metadata": {},
     "output_type": "execute_result"
    }
   ],
   "source": [
    "list1 = [10, 20, [300, 400, [5000, 6000], 500], 30, 40]\n",
    "list1[2][2].append(7000)\n",
    "list1"
   ]
  },
  {
   "cell_type": "markdown",
   "id": "cbe8fef4",
   "metadata": {},
   "source": [
    "## 3.Update no of items available Suppose you are given a list of candy and another list of same size representing no of items of respective candy.\n",
    "## i.e -candy_list = ['Jelly Belly','Kit Kat','Double Bubble','Milky Way','Three Musketeers']\n",
    "## no_of_items = [10,20,34,74,32] Write a program to show no. of items of each candy type."
   ]
  },
  {
   "cell_type": "code",
   "execution_count": 3,
   "id": "1323928b",
   "metadata": {},
   "outputs": [
    {
     "name": "stdout",
     "output_type": "stream",
     "text": [
      "Jelly Belly - 10\n",
      "Kit Kat - 20\n",
      "Double Bubble - 34\n",
      "Milky Way - 74\n",
      "Three Musketeers - 32\n"
     ]
    }
   ],
   "source": [
    "candy_list = ['Jelly Belly','Kit Kat','Double Bubble','Milky Way','Three Musketeers']\n",
    "no_of_items = [10,20,34,74,32]\n",
    "for (i,j) in zip(candy_list,no_of_items):\n",
    "  print(i,'-',j)"
   ]
  },
  {
   "cell_type": "markdown",
   "id": "2f990d19",
   "metadata": {},
   "source": [
    "## 4.Running Sum on list Write a program to print a list after performing running sum on it.i.e:Input:list1 = [1,2,3,4,5,6]Output:[1,3,6,10,15,21]"
   ]
  },
  {
   "cell_type": "code",
   "execution_count": 4,
   "id": "7fa20ee3",
   "metadata": {},
   "outputs": [
    {
     "name": "stdout",
     "output_type": "stream",
     "text": [
      "[1, 3, 6, 10, 15, 21]\n"
     ]
    }
   ],
   "source": [
    "list1 = [1,2,3,4,5,6]\n",
    "result = []\n",
    "sum = 0\n",
    "for i in list1:\n",
    "  sum = sum + i\n",
    "  result.append(sum)\n",
    "print(result)"
   ]
  },
  {
   "cell_type": "markdown",
   "id": "d1dc84ab",
   "metadata": {},
   "source": [
    "## 5: You are given a list of integers. You are asked to make a list by running through elements of the list by adding all elements greater and itself.  \n",
    "## For 1st element 2  ->>these are greater (4+6+10) values and 2 itself so on adding becomes 22.\n",
    "## For 2nd element 4 ->> greater elements are (6, 10) and 4 itself, so on adding 20 \n",
    "## like wise for all other elememts.[2,4,6,10,1]-->[22,20,16,10,23]"
   ]
  },
  {
   "cell_type": "code",
   "execution_count": 5,
   "id": "bd25910b",
   "metadata": {},
   "outputs": [
    {
     "name": "stdout",
     "output_type": "stream",
     "text": [
      "[22, 20, 16, 10, 23]\n"
     ]
    }
   ],
   "source": [
    "L = [2,4,6,10,1]\n",
    "result = []\n",
    "for i in L:\n",
    "  sum = 0\n",
    "  for j in L:\n",
    "    if i <= j:\n",
    "      sum = sum + j\n",
    "\n",
    "  result.append(sum)\n",
    "print(result)"
   ]
  },
  {
   "cell_type": "markdown",
   "id": "68cedca3",
   "metadata": {},
   "source": [
    "## 6: Find list of common unique items from two list. and show in increasing order Input:num1 = [23,45,67,78,89,34] num2 = [34,89,55,56,39,67]Output:[34, 67, 89]"
   ]
  },
  {
   "cell_type": "code",
   "execution_count": 6,
   "id": "e5d105cc",
   "metadata": {},
   "outputs": [
    {
     "name": "stdout",
     "output_type": "stream",
     "text": [
      "[67, 89, 34]\n"
     ]
    }
   ],
   "source": [
    "num1 = [23,45,67,78,89,34,67]\n",
    "num2 = [34,89,55,56,39,67,67]\n",
    "common = []\n",
    "for i in num1:\n",
    "  if i in num2:\n",
    "    if i not in common:\n",
    "      common.append(i)\n",
    "print(common)"
   ]
  },
  {
   "cell_type": "markdown",
   "id": "09c2b317",
   "metadata": {},
   "source": [
    "## 7: Sort a list of alphanumeric strings based on product value of numeric character in it. If in any string there is no numeric character take it's product value as 1. Input:['1ac21', '23fg', '456', '098d','1','kls'] Output:['456', '23fg', '1ac21', '1', 'kls', '098d']"
   ]
  },
  {
   "cell_type": "code",
   "execution_count": 7,
   "id": "c52aa029",
   "metadata": {},
   "outputs": [
    {
     "name": "stdout",
     "output_type": "stream",
     "text": [
      "['456', '23fg', '1ac21', 'kls', '1', '098d']\n"
     ]
    }
   ],
   "source": [
    "L = ['1ac21', '23fg', '456', '098d', '1', 'kls']\n",
    "prod_value = []\n",
    "\n",
    "for item in L:\n",
    "    product = 1\n",
    "    for char in item:\n",
    "        if char.isdigit():\n",
    "            product *= int(char)\n",
    "    prod_value.append(product)\n",
    "\n",
    "sorted_list = [i[1] for i in sorted(list(zip(prod_value, L)), reverse=True)]\n",
    "\n",
    "print(sorted_list)"
   ]
  },
  {
   "cell_type": "markdown",
   "id": "d95c8505",
   "metadata": {},
   "source": [
    "# 8: Split String of list on K character. Eg:Input:['CampusX is a channel', 'for data-science', 'aspirants.']Output:['CampusX', 'is', 'a', 'channel', 'for', 'data-science', 'aspirants.']"
   ]
  },
  {
   "cell_type": "code",
   "execution_count": 8,
   "id": "ac98ae04",
   "metadata": {},
   "outputs": [
    {
     "name": "stdout",
     "output_type": "stream",
     "text": [
      "['C', 'mpusX is ', ' ch', 'nnel', 'for d', 't', '-science', '', 'spir', 'nts.']\n"
     ]
    }
   ],
   "source": [
    "L = ['CampusX is a channel', 'for data-science', 'aspirants.']\n",
    "inp = 'a'\n",
    "result = []\n",
    "for i in L:\n",
    "  result.extend(i.split(inp))\n",
    "print(result)"
   ]
  },
  {
   "cell_type": "markdown",
   "id": "903d4064",
   "metadata": {},
   "source": [
    "## 9: Convert Character Matrix to single String using string comprehension. Example 1:Input:[['c', 'a', 'm', 'p', 'u', 'x'], ['i', 's'], ['b', 'e', 's', 't'], ['c', 'h', 'a', 'n', 'n', 'e', 'l']] Output:campux is best channel"
   ]
  },
  {
   "cell_type": "code",
   "execution_count": 9,
   "id": "ad492b49",
   "metadata": {},
   "outputs": [
    {
     "name": "stdout",
     "output_type": "stream",
     "text": [
      "campux is best channel\n"
     ]
    }
   ],
   "source": [
    "L = [['c', 'a', 'm', 'p', 'u', 'x'], ['i', 's'], ['b', 'e', 's', 't'], ['c', 'h', 'a', 'n', 'n', 'e', 'l']]\n",
    "print(\" \".join([\"\".join(i) for i in L]))"
   ]
  },
  {
   "cell_type": "markdown",
   "id": "d97c7925",
   "metadata": {},
   "source": [
    "## 10: Add Space between Potential Words.Example:Input:['campusxIs', 'bestFor', 'dataScientist']  Output: ['campusx Is', 'best For', 'data Scientist']"
   ]
  },
  {
   "cell_type": "code",
   "execution_count": 10,
   "id": "9ae9a184",
   "metadata": {},
   "outputs": [
    {
     "name": "stdout",
     "output_type": "stream",
     "text": [
      "['campusx Is', 'best For', 'data Scientist']\n"
     ]
    }
   ],
   "source": [
    "test_list = [\"campusxIs\", \"bestFor\", \"dataScientist\"]\n",
    "res = []\n",
    "for i in test_list:\n",
    "    temp = [[]]\n",
    "    for char in i:\n",
    "        \n",
    "        if char.isupper():\n",
    "            temp.append([])\n",
    "        \n",
    "        temp[-1].append(char)\n",
    "    \n",
    "    temp_string = \"\"\n",
    "    for item in temp:\n",
    "        temp_string = temp_string + \"\".join(item) + \" \"\n",
    "    res.append(temp_string[0:-1])\n",
    "print(res)"
   ]
  },
  {
   "cell_type": "markdown",
   "id": "90d3986a",
   "metadata": {},
   "source": [
    "## 11: Write a program that can perform union operation on 2 lists.\n",
    "## Input:\n",
    "## [1,2,3,4,5,1]\n",
    "## [2,3,5,7,8]\n",
    "## Output:[1,2,3,4,5,7,8]"
   ]
  },
  {
   "cell_type": "code",
   "execution_count": 11,
   "id": "43197457",
   "metadata": {},
   "outputs": [
    {
     "name": "stdout",
     "output_type": "stream",
     "text": [
      "[1, 2, 3, 4, 5, 7, 8]\n"
     ]
    }
   ],
   "source": [
    "L1 = [1,2,3,4,5,1]\n",
    "L2 = [2,3,5,7,8]\n",
    "union = []\n",
    "for i in L1:\n",
    "  if i not in union:\n",
    "    union.append(i)\n",
    "for j in L2:\n",
    "  if j not in union:\n",
    "    union.append(j)\n",
    "print(union)"
   ]
  },
  {
   "cell_type": "markdown",
   "id": "84b7732c",
   "metadata": {},
   "source": [
    "## 12: Write a program that can find the max number of each row of a matrix\n",
    "## Example: Input:[[1,2,3],[4,5,6],[7,8,9]]            Output:[3,6,9]"
   ]
  },
  {
   "cell_type": "code",
   "execution_count": 12,
   "id": "af2eedeb",
   "metadata": {},
   "outputs": [
    {
     "name": "stdout",
     "output_type": "stream",
     "text": [
      "[3, 6, 9]\n"
     ]
    }
   ],
   "source": [
    "L = [[1,2,3],[4,5,6],[7,8,9]]\n",
    "result = []\n",
    "for i in L:\n",
    "  result.append(max(i))\n",
    "print(result)"
   ]
  },
  {
   "cell_type": "markdown",
   "id": "9a44eb7d",
   "metadata": {},
   "source": [
    "## 13: Write a list comprehension to print the following matrix  [[0, 1, 2], [3, 4, 5], [6, 7, 8]]"
   ]
  },
  {
   "cell_type": "code",
   "execution_count": 13,
   "id": "f7337f06",
   "metadata": {},
   "outputs": [
    {
     "data": {
      "text/plain": [
       "[[0, 1, 2], [3, 4, 5], [6, 7, 8]]"
      ]
     },
     "execution_count": 13,
     "metadata": {},
     "output_type": "execute_result"
    }
   ],
   "source": [
    "[[j + 3*i for j in range(0,3)] for i in range(0,3)]"
   ]
  },
  {
   "cell_type": "markdown",
   "id": "ef0f9866",
   "metadata": {},
   "source": [
    "14: Write a list comprehension that can transpose a given matrix\n",
    "matrix = [\n",
    "[1,2,3],\n",
    "[4,5,6],\n",
    "[7,8,9]\n",
    "]\n",
    "[1, 4, 7]\n",
    "[2, 5, 8]\n",
    "[3, 6, 9]"
   ]
  },
  {
   "cell_type": "code",
   "execution_count": 14,
   "id": "8410fb44",
   "metadata": {},
   "outputs": [
    {
     "data": {
      "text/plain": [
       "[[1, 4, 7], [2, 5, 8], [3, 6, 9]]"
      ]
     },
     "execution_count": 14,
     "metadata": {},
     "output_type": "execute_result"
    }
   ],
   "source": [
    "matrix = [\n",
    "[1,2,3],\n",
    "[4,5,6],\n",
    "[7,8,9]\n",
    "]\n",
    "[[row[i] for row in matrix]for i in range(len(matrix))]"
   ]
  },
  {
   "cell_type": "markdown",
   "id": "b42eac8e",
   "metadata": {},
   "source": [
    "## 15: Write a list comprehension that can flatten a nested list. Input:matrix = [[1,2,3],[4,5,6],[7,8,9]]     Output:[1, 2, 3, 4, 5, 6, 7, 8, 9]"
   ]
  },
  {
   "cell_type": "code",
   "execution_count": 15,
   "id": "64fead2d",
   "metadata": {},
   "outputs": [
    {
     "data": {
      "text/plain": [
       "[1, 2, 3, 4, 5, 6, 7, 8, 9]"
      ]
     },
     "execution_count": 15,
     "metadata": {},
     "output_type": "execute_result"
    }
   ],
   "source": [
    "matrix = [\n",
    "[1,2,3],\n",
    "[4,5,6],\n",
    "[7,8,9]\n",
    "]\n",
    "[item for row in matrix for item in row]"
   ]
  },
  {
   "cell_type": "code",
   "execution_count": null,
   "id": "c4eda84f",
   "metadata": {},
   "outputs": [],
   "source": []
  }
 ],
 "metadata": {
  "kernelspec": {
   "display_name": "Python 3 (ipykernel)",
   "language": "python",
   "name": "python3"
  },
  "language_info": {
   "codemirror_mode": {
    "name": "ipython",
    "version": 3
   },
   "file_extension": ".py",
   "mimetype": "text/x-python",
   "name": "python",
   "nbconvert_exporter": "python",
   "pygments_lexer": "ipython3",
   "version": "3.9.13"
  }
 },
 "nbformat": 4,
 "nbformat_minor": 5
}
