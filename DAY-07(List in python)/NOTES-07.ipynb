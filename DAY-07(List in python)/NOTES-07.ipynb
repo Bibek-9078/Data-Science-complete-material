{
 "cells": [
  {
   "cell_type": "markdown",
   "id": "ace8ebd0",
   "metadata": {},
   "source": [
    "# What are Lists\n",
    "## List is a data type where you can store multiple items under 1 name. More technically, lists act like dynamic arrays which means you can add more items on the fly."
   ]
  },
  {
   "cell_type": "markdown",
   "id": "49687d63",
   "metadata": {},
   "source": [
    "#  Array Vs Lists\n",
    "## 1.Fixed Vs Dynamic Size\n",
    "## 2.Convenience -> Hetrogeneous\n",
    "## 3.Speed of Execution\n",
    "## 4.Memory"
   ]
  },
  {
   "cell_type": "markdown",
   "id": "fb53e306",
   "metadata": {},
   "source": [
    "\n",
    "## Characterstics of a List\n",
    "### 1.Ordered\n",
    "### 2.Changeble/Mutable\n",
    "### 3.Hetrogeneous\n",
    "### 4.Can have duplicates\n",
    "### 5.are dynamic\n",
    "### 6.can be nested\n",
    "### 7.items can be accessed\n",
    "### 8.can contain any kind of objects in python"
   ]
  },
  {
   "cell_type": "markdown",
   "id": "5724f101",
   "metadata": {},
   "source": [
    "# Empty list "
   ]
  },
  {
   "cell_type": "code",
   "execution_count": 1,
   "id": "85520fab",
   "metadata": {},
   "outputs": [
    {
     "name": "stdout",
     "output_type": "stream",
     "text": [
      "[]\n"
     ]
    }
   ],
   "source": [
    "print([])"
   ]
  },
  {
   "cell_type": "markdown",
   "id": "e642ac44",
   "metadata": {},
   "source": [
    "## 1D -> Homo list"
   ]
  },
  {
   "cell_type": "code",
   "execution_count": 2,
   "id": "47c71140",
   "metadata": {},
   "outputs": [
    {
     "name": "stdout",
     "output_type": "stream",
     "text": [
      "[1, 2, 3, 4, 5]\n"
     ]
    }
   ],
   "source": [
    "print([1,2,3,4,5])"
   ]
  },
  {
   "cell_type": "markdown",
   "id": "332fb025",
   "metadata": {},
   "source": [
    "## 2D list"
   ]
  },
  {
   "cell_type": "code",
   "execution_count": 3,
   "id": "d14d2fdc",
   "metadata": {},
   "outputs": [
    {
     "name": "stdout",
     "output_type": "stream",
     "text": [
      "[1, 2, 3, [4, 5]]\n"
     ]
    }
   ],
   "source": [
    "print([1,2,3,[4,5]])"
   ]
  },
  {
   "cell_type": "markdown",
   "id": "5884dbb1",
   "metadata": {},
   "source": [
    "## 3D list"
   ]
  },
  {
   "cell_type": "code",
   "execution_count": 4,
   "id": "4b28b308",
   "metadata": {},
   "outputs": [
    {
     "name": "stdout",
     "output_type": "stream",
     "text": [
      "[[[1, 2], [3, 4]], [[5, 6], [7, 8]]]\n"
     ]
    }
   ],
   "source": [
    "print([[[1,2],[3,4]],[[5,6],[7,8]]])"
   ]
  },
  {
   "cell_type": "markdown",
   "id": "f3a10982",
   "metadata": {},
   "source": [
    "## Hetrogenous list"
   ]
  },
  {
   "cell_type": "code",
   "execution_count": 5,
   "id": "8f5a1f46",
   "metadata": {},
   "outputs": [
    {
     "name": "stdout",
     "output_type": "stream",
     "text": [
      "[1, True, 5.6, (5+6j), 'Hello']\n"
     ]
    }
   ],
   "source": [
    "print([1,True,5.6,5+6j,'Hello'])"
   ]
  },
  {
   "cell_type": "markdown",
   "id": "9b43a4e2",
   "metadata": {},
   "source": [
    "## Using Type conversion"
   ]
  },
  {
   "cell_type": "code",
   "execution_count": 6,
   "id": "20355e96",
   "metadata": {},
   "outputs": [
    {
     "name": "stdout",
     "output_type": "stream",
     "text": [
      "['h', 'e', 'l', 'l', 'o']\n"
     ]
    }
   ],
   "source": [
    "print(list('hello'))"
   ]
  },
  {
   "cell_type": "markdown",
   "id": "bb58703d",
   "metadata": {},
   "source": [
    "# Accessing Items from a List"
   ]
  },
  {
   "cell_type": "markdown",
   "id": "19e7a384",
   "metadata": {},
   "source": [
    "## Indexing"
   ]
  },
  {
   "cell_type": "code",
   "execution_count": 7,
   "id": "dcc30ca4",
   "metadata": {},
   "outputs": [],
   "source": [
    "L = [[[1,2],[3,4]],[[5,6],[7,8]]]"
   ]
  },
  {
   "cell_type": "code",
   "execution_count": 8,
   "id": "7d4a7951",
   "metadata": {},
   "outputs": [
    {
     "name": "stdout",
     "output_type": "stream",
     "text": [
      "2\n"
     ]
    }
   ],
   "source": [
    "print(L[0][0][1])#positive"
   ]
  },
  {
   "cell_type": "markdown",
   "id": "3394040e",
   "metadata": {},
   "source": [
    "## Slicing"
   ]
  },
  {
   "cell_type": "code",
   "execution_count": 9,
   "id": "f16616b0",
   "metadata": {},
   "outputs": [
    {
     "name": "stdout",
     "output_type": "stream",
     "text": [
      "[7, 6, 5, 4, 3, 2, 1]\n"
     ]
    }
   ],
   "source": [
    "L = [1,2,3,4,5,6,7]\n",
    "print(L[::-1])"
   ]
  },
  {
   "cell_type": "markdown",
   "id": "67368aa1",
   "metadata": {},
   "source": [
    "# Adding Items to a List"
   ]
  },
  {
   "cell_type": "markdown",
   "id": "946e2da7",
   "metadata": {},
   "source": [
    "## append():In this methord append an element to the end of the list "
   ]
  },
  {
   "cell_type": "code",
   "execution_count": 10,
   "id": "3819d1d2",
   "metadata": {},
   "outputs": [
    {
     "name": "stdout",
     "output_type": "stream",
     "text": [
      "[1, 2, 3, 4, 5, 100]\n"
     ]
    }
   ],
   "source": [
    "L = [1,2,3,4,5]\n",
    "L.append(100)\n",
    "print(L)"
   ]
  },
  {
   "cell_type": "code",
   "execution_count": 11,
   "id": "af99f8f8",
   "metadata": {},
   "outputs": [
    {
     "name": "stdout",
     "output_type": "stream",
     "text": [
      "[1, 2, 3, 4, 5, [6, 7, 8]]\n"
     ]
    }
   ],
   "source": [
    "L = [1,2,3,4,5]\n",
    "L.append([6,7,8])\n",
    "print(L)"
   ]
  },
  {
   "cell_type": "markdown",
   "id": "4cbf37cd",
   "metadata": {},
   "source": [
    "## extend():Add the specified list to the end of the current list "
   ]
  },
  {
   "cell_type": "code",
   "execution_count": 12,
   "id": "743a41b1",
   "metadata": {},
   "outputs": [
    {
     "name": "stdout",
     "output_type": "stream",
     "text": [
      "[1, 2, 3, 4, 5, 6, 7, 8]\n"
     ]
    }
   ],
   "source": [
    "L = [1,2,3,4,5]\n",
    "L.extend([6,7,8])\n",
    "print(L)"
   ]
  },
  {
   "cell_type": "code",
   "execution_count": 13,
   "id": "12adddae",
   "metadata": {},
   "outputs": [
    {
     "name": "stdout",
     "output_type": "stream",
     "text": [
      "[1, 2, 3, 4, 5, 'd', 'e', 'l', 'h', 'i']\n"
     ]
    }
   ],
   "source": [
    "L = [1,2,3,4,5]\n",
    "L.extend('delhi')\n",
    "print(L)"
   ]
  },
  {
   "cell_type": "markdown",
   "id": "6379a802",
   "metadata": {},
   "source": [
    "## insert():it is a methord insert the specified value at the specified position."
   ]
  },
  {
   "cell_type": "code",
   "execution_count": 14,
   "id": "5141e1e5",
   "metadata": {},
   "outputs": [
    {
     "name": "stdout",
     "output_type": "stream",
     "text": [
      "[1, 100, 2, 3, 4, 5]\n"
     ]
    }
   ],
   "source": [
    "# insert():\n",
    "L = [1,2,3,4,5]\n",
    "L.insert(1,100)\n",
    "print(L)"
   ]
  },
  {
   "cell_type": "markdown",
   "id": "0628b8db",
   "metadata": {},
   "source": [
    "# Editing items in a List"
   ]
  },
  {
   "cell_type": "markdown",
   "id": "65daccaa",
   "metadata": {},
   "source": [
    "## editing with indexing"
   ]
  },
  {
   "cell_type": "code",
   "execution_count": 15,
   "id": "d3cd0d0b",
   "metadata": {},
   "outputs": [
    {
     "name": "stdout",
     "output_type": "stream",
     "text": [
      "[1, 2, 3, 4, 500]\n"
     ]
    }
   ],
   "source": [
    "L = [1,2,3,4,5]\n",
    "L[-1] = 500\n",
    "print(L)"
   ]
  },
  {
   "cell_type": "markdown",
   "id": "19d26ed2",
   "metadata": {},
   "source": [
    "## editing with slicing"
   ]
  },
  {
   "cell_type": "code",
   "execution_count": 16,
   "id": "c78a34b4",
   "metadata": {},
   "outputs": [
    {
     "name": "stdout",
     "output_type": "stream",
     "text": [
      "[1, 200, 300, 400, 5]\n"
     ]
    }
   ],
   "source": [
    "L = [1,2,3,4,5]\n",
    "L[1:4] = [200,300,400]\n",
    "print(L)"
   ]
  },
  {
   "cell_type": "markdown",
   "id": "8e09e230",
   "metadata": {},
   "source": [
    "# Deleting items from a List"
   ]
  },
  {
   "cell_type": "markdown",
   "id": "bd44184e",
   "metadata": {},
   "source": [
    "## del: delete the items based on index position."
   ]
  },
  {
   "cell_type": "markdown",
   "id": "399603d6",
   "metadata": {},
   "source": [
    "## del with indexing"
   ]
  },
  {
   "cell_type": "code",
   "execution_count": 17,
   "id": "59ff8f27",
   "metadata": {},
   "outputs": [
    {
     "name": "stdout",
     "output_type": "stream",
     "text": [
      "[1, 2, 3, 4]\n"
     ]
    }
   ],
   "source": [
    "L = [1,2,3,4,5]\n",
    "del L[-1]\n",
    "print(L)"
   ]
  },
  {
   "cell_type": "markdown",
   "id": "185bf38d",
   "metadata": {},
   "source": [
    "## del with slicing"
   ]
  },
  {
   "cell_type": "code",
   "execution_count": 18,
   "id": "cf76d8ef",
   "metadata": {},
   "outputs": [
    {
     "name": "stdout",
     "output_type": "stream",
     "text": [
      "[1, 4, 5]\n"
     ]
    }
   ],
   "source": [
    "L = [1,2,3,4,5]\n",
    "del L[1:3]\n",
    "print(L)"
   ]
  },
  {
   "cell_type": "markdown",
   "id": "7364363e",
   "metadata": {},
   "source": [
    "## remove: it remove first occurance of a given lisst."
   ]
  },
  {
   "cell_type": "code",
   "execution_count": 19,
   "id": "7d65856c",
   "metadata": {},
   "outputs": [
    {
     "name": "stdout",
     "output_type": "stream",
     "text": [
      "[1, 2, 3, 4]\n"
     ]
    }
   ],
   "source": [
    "L = [1,2,3,4,5]\n",
    "L.remove(5)\n",
    "print(L)"
   ]
  },
  {
   "cell_type": "markdown",
   "id": "a7c18ac3",
   "metadata": {},
   "source": [
    "## pop:it always delete last items of a list "
   ]
  },
  {
   "cell_type": "code",
   "execution_count": 20,
   "id": "3f6a7885",
   "metadata": {},
   "outputs": [
    {
     "name": "stdout",
     "output_type": "stream",
     "text": [
      "[1, 2, 3, 4]\n"
     ]
    }
   ],
   "source": [
    "L = [1,2,3,4,5]\n",
    "L.pop()\n",
    "print(L)"
   ]
  },
  {
   "cell_type": "markdown",
   "id": "35e275e0",
   "metadata": {},
   "source": [
    "## clear:it always produce emptyy list"
   ]
  },
  {
   "cell_type": "code",
   "execution_count": 21,
   "id": "e12b928c",
   "metadata": {},
   "outputs": [
    {
     "name": "stdout",
     "output_type": "stream",
     "text": [
      "[]\n"
     ]
    }
   ],
   "source": [
    "L = [1,2,3,4,5]\n",
    "L.clear()\n",
    "print(L)"
   ]
  },
  {
   "cell_type": "markdown",
   "id": "db96c06c",
   "metadata": {},
   "source": [
    "# Operations on Lists"
   ]
  },
  {
   "cell_type": "markdown",
   "id": "3b55fc51",
   "metadata": {},
   "source": [
    "## Arithmetic (+ ,*)"
   ]
  },
  {
   "cell_type": "code",
   "execution_count": 22,
   "id": "b4d30683",
   "metadata": {},
   "outputs": [
    {
     "name": "stdout",
     "output_type": "stream",
     "text": [
      "[1, 2, 3, 4, 5, 6, 7, 8]\n"
     ]
    }
   ],
   "source": [
    "L1 = [1,2,3,4]\n",
    "L2 = [5,6,7,8]\n",
    "print(L1 + L2)# Concatenation/Merge"
   ]
  },
  {
   "cell_type": "code",
   "execution_count": 23,
   "id": "87ed2d47",
   "metadata": {},
   "outputs": [
    {
     "name": "stdout",
     "output_type": "stream",
     "text": [
      "[1, 2, 3, 4, 1, 2, 3, 4, 1, 2, 3, 4]\n"
     ]
    }
   ],
   "source": [
    "print(L1*3)"
   ]
  },
  {
   "cell_type": "code",
   "execution_count": 24,
   "id": "ce80d6f4",
   "metadata": {},
   "outputs": [
    {
     "name": "stdout",
     "output_type": "stream",
     "text": [
      "False\n",
      "True\n"
     ]
    }
   ],
   "source": [
    "L1 = [1,2,3,4,5]\n",
    "L2 = [1,2,3,4,[5,6]]\n",
    "\n",
    "print(5 not in L1)\n",
    "print([5,6] in L2)"
   ]
  },
  {
   "cell_type": "markdown",
   "id": "f919eb41",
   "metadata": {},
   "source": [
    "## Loops"
   ]
  },
  {
   "cell_type": "code",
   "execution_count": 25,
   "id": "335fc087",
   "metadata": {},
   "outputs": [
    {
     "name": "stdout",
     "output_type": "stream",
     "text": [
      "[[1, 2], [3, 4]]\n",
      "[[5, 6], [7, 8]]\n"
     ]
    }
   ],
   "source": [
    "L1 = [1,2,3,4,5]\n",
    "L2 = [1,2,3,4,[5,6]]\n",
    "L3 = [[[1,2],[3,4]],[[5,6],[7,8]]]\n",
    "for i in L3:\n",
    "  print(i)"
   ]
  },
  {
   "cell_type": "markdown",
   "id": "5f927184",
   "metadata": {},
   "source": [
    "# List Functions"
   ]
  },
  {
   "cell_type": "markdown",
   "id": "0b5c0c93",
   "metadata": {},
   "source": [
    "## 1.len/min/max/sorted"
   ]
  },
  {
   "cell_type": "code",
   "execution_count": 26,
   "id": "01679f9e",
   "metadata": {},
   "outputs": [
    {
     "name": "stdout",
     "output_type": "stream",
     "text": [
      "5\n",
      "0\n",
      "7\n",
      "[7, 5, 2, 1, 0]\n"
     ]
    }
   ],
   "source": [
    "# len/min/max/sorted\n",
    "L = [2,1,5,7,0]\n",
    "print(len(L))\n",
    "print(min(L))\n",
    "print(max(L))\n",
    "print(sorted(L,reverse=True))"
   ]
  },
  {
   "cell_type": "markdown",
   "id": "ac4def86",
   "metadata": {},
   "source": [
    "## 2.count "
   ]
  },
  {
   "cell_type": "code",
   "execution_count": 27,
   "id": "8144aec0",
   "metadata": {},
   "outputs": [
    {
     "data": {
      "text/plain": [
       "1"
      ]
     },
     "execution_count": 27,
     "metadata": {},
     "output_type": "execute_result"
    }
   ],
   "source": [
    "L = [1,2,1,3,4,1,5]\n",
    "L.count(5)"
   ]
  },
  {
   "cell_type": "markdown",
   "id": "2459f421",
   "metadata": {},
   "source": [
    "## 3.index"
   ]
  },
  {
   "cell_type": "code",
   "execution_count": 28,
   "id": "7b21b8ea",
   "metadata": {},
   "outputs": [
    {
     "data": {
      "text/plain": [
       "0"
      ]
     },
     "execution_count": 28,
     "metadata": {},
     "output_type": "execute_result"
    }
   ],
   "source": [
    "L = [1,2,1,3,4,1,5]\n",
    "L.index(1)"
   ]
  },
  {
   "cell_type": "markdown",
   "id": "508d9bab",
   "metadata": {},
   "source": [
    "## 4.reverse:permanently reverses the list"
   ]
  },
  {
   "cell_type": "code",
   "execution_count": 29,
   "id": "56e2296a",
   "metadata": {},
   "outputs": [
    {
     "name": "stdout",
     "output_type": "stream",
     "text": [
      "[0, 7, 5, 1, 2]\n"
     ]
    }
   ],
   "source": [
    "L = [2,1,5,7,0]\n",
    "L.reverse()\n",
    "print(L)"
   ]
  },
  {
   "cell_type": "markdown",
   "id": "8d21d011",
   "metadata": {},
   "source": [
    "## 5.sort vs sorted"
   ]
  },
  {
   "cell_type": "code",
   "execution_count": 30,
   "id": "f02d4a95",
   "metadata": {},
   "outputs": [
    {
     "name": "stdout",
     "output_type": "stream",
     "text": [
      "[2, 1, 5, 7, 0]\n",
      "[0, 1, 2, 5, 7]\n",
      "[2, 1, 5, 7, 0]\n",
      "[0, 1, 2, 5, 7]\n"
     ]
    }
   ],
   "source": [
    "L = [2,1,5,7,0]\n",
    "print(L)\n",
    "print(sorted(L))\n",
    "print(L)\n",
    "L.sort()\n",
    "print(L)"
   ]
  },
  {
   "cell_type": "markdown",
   "id": "c556d789",
   "metadata": {},
   "source": [
    "## 6.copy "
   ]
  },
  {
   "cell_type": "code",
   "execution_count": 31,
   "id": "ae268369",
   "metadata": {},
   "outputs": [
    {
     "name": "stdout",
     "output_type": "stream",
     "text": [
      "[2, 1, 5, 7, 0]\n",
      "1670538875072\n"
     ]
    }
   ],
   "source": [
    "L = [2,1,5,7,0]\n",
    "print(L)\n",
    "print(id(L))"
   ]
  },
  {
   "cell_type": "code",
   "execution_count": 32,
   "id": "6eb22f38",
   "metadata": {},
   "outputs": [
    {
     "name": "stdout",
     "output_type": "stream",
     "text": [
      "[2, 1, 5, 7, 0]\n",
      "1670538873600\n"
     ]
    }
   ],
   "source": [
    "L1 = L.copy()\n",
    "print(L1)\n",
    "print(id(L1))"
   ]
  },
  {
   "cell_type": "markdown",
   "id": "e7d16b2d",
   "metadata": {},
   "source": [
    "## List Comprehension provides a concise way of creating lists.\n",
    "## newlist = [expression for item in iterable if condition == True]\n",
    "## Advantages of List Comprehension\n",
    "## 1.More time-efficient and space-efficient than loops.\n",
    "## 2.Require fewer lines of code.\n",
    "## 3.Transforms iterative statement into a formula."
   ]
  },
  {
   "cell_type": "code",
   "execution_count": null,
   "id": "65b34d8e",
   "metadata": {},
   "outputs": [],
   "source": []
  },
  {
   "cell_type": "markdown",
   "id": "99e75fe9",
   "metadata": {},
   "source": [
    "## Add 1 to 10 numbers to a list"
   ]
  },
  {
   "cell_type": "code",
   "execution_count": 33,
   "id": "12cf63b5",
   "metadata": {},
   "outputs": [
    {
     "name": "stdout",
     "output_type": "stream",
     "text": [
      "[1, 2, 3, 4, 5, 6, 7, 8, 9, 10]\n"
     ]
    }
   ],
   "source": [
    "L = [i for i in range(1,11)]\n",
    "print(L)"
   ]
  },
  {
   "cell_type": "markdown",
   "id": "8f162235",
   "metadata": {},
   "source": [
    "## scalar multiplication on a vector"
   ]
  },
  {
   "cell_type": "code",
   "execution_count": 34,
   "id": "79fdba36",
   "metadata": {},
   "outputs": [
    {
     "data": {
      "text/plain": [
       "[-6, -9, -12]"
      ]
     },
     "execution_count": 34,
     "metadata": {},
     "output_type": "execute_result"
    }
   ],
   "source": [
    "v = [2,3,4]\n",
    "s = -3\n",
    "# [-6,-9,-12]\n",
    "[s*i for i in v]"
   ]
  },
  {
   "cell_type": "markdown",
   "id": "0917fd47",
   "metadata": {},
   "source": [
    "## Add squares"
   ]
  },
  {
   "cell_type": "code",
   "execution_count": 35,
   "id": "aaa7a2c3",
   "metadata": {},
   "outputs": [
    {
     "data": {
      "text/plain": [
       "[1, 4, 9, 16, 25]"
      ]
     },
     "execution_count": 35,
     "metadata": {},
     "output_type": "execute_result"
    }
   ],
   "source": [
    "L = [1,2,3,4,5]\n",
    "[i**2 for i in L]"
   ]
  },
  {
   "cell_type": "markdown",
   "id": "8a28a331",
   "metadata": {},
   "source": [
    "## Print all numbers divisible by 5 in the range of 1 to 50"
   ]
  },
  {
   "cell_type": "code",
   "execution_count": 36,
   "id": "ffb0cf27",
   "metadata": {},
   "outputs": [
    {
     "data": {
      "text/plain": [
       "[5, 10, 15, 20, 25, 30, 35, 40, 45, 50]"
      ]
     },
     "execution_count": 36,
     "metadata": {},
     "output_type": "execute_result"
    }
   ],
   "source": [
    "[i for i in range(1,51) if i%5 == 0]"
   ]
  },
  {
   "cell_type": "markdown",
   "id": "8c2e035c",
   "metadata": {},
   "source": [
    "## find languages which start with letter p"
   ]
  },
  {
   "cell_type": "code",
   "execution_count": 37,
   "id": "03eb056f",
   "metadata": {},
   "outputs": [
    {
     "data": {
      "text/plain": [
       "['python', 'php']"
      ]
     },
     "execution_count": 37,
     "metadata": {},
     "output_type": "execute_result"
    }
   ],
   "source": [
    "languages = ['java','python','php','c','javascript']\n",
    "[language for language in languages if language.startswith('p')]"
   ]
  },
  {
   "cell_type": "markdown",
   "id": "582a69af",
   "metadata": {},
   "source": [
    "## Nested if with List Comprehension"
   ]
  },
  {
   "cell_type": "code",
   "execution_count": 38,
   "id": "b8f1963b",
   "metadata": {},
   "outputs": [],
   "source": [
    "basket = ['apple','guava','cherry','banana']\n",
    "my_fruits = ['apple','kiwi','grapes','banana']"
   ]
  },
  {
   "cell_type": "markdown",
   "id": "8f9114e9",
   "metadata": {},
   "source": [
    "## add new list from my_fruits and items if the fruit exists in basket and also starts with 'a'"
   ]
  },
  {
   "cell_type": "code",
   "execution_count": 39,
   "id": "0629633a",
   "metadata": {},
   "outputs": [
    {
     "data": {
      "text/plain": [
       "['apple']"
      ]
     },
     "execution_count": 39,
     "metadata": {},
     "output_type": "execute_result"
    }
   ],
   "source": [
    "[fruit for fruit in my_fruits if fruit in basket if fruit.startswith('a')]"
   ]
  },
  {
   "cell_type": "markdown",
   "id": "f08434b1",
   "metadata": {},
   "source": [
    "## Print a (3,3) matrix using list comprehension -> Nested List comprehension"
   ]
  },
  {
   "cell_type": "code",
   "execution_count": 40,
   "id": "4aacc3a8",
   "metadata": {},
   "outputs": [
    {
     "data": {
      "text/plain": [
       "[[1, 2, 3], [2, 4, 6], [3, 6, 9]]"
      ]
     },
     "execution_count": 40,
     "metadata": {},
     "output_type": "execute_result"
    }
   ],
   "source": [
    "[[i*j for i in range(1,4)] for j in range(1,4)]"
   ]
  },
  {
   "cell_type": "markdown",
   "id": "417673a1",
   "metadata": {},
   "source": [
    "## cartesian products -> List comprehension on 2 lists together"
   ]
  },
  {
   "cell_type": "code",
   "execution_count": 41,
   "id": "c537aa7c",
   "metadata": {},
   "outputs": [
    {
     "data": {
      "text/plain": [
       "[5, 6, 7, 8, 10, 12, 14, 16, 15, 18, 21, 24, 20, 24, 28, 32]"
      ]
     },
     "execution_count": 41,
     "metadata": {},
     "output_type": "execute_result"
    }
   ],
   "source": [
    "L1 = [1,2,3,4]\n",
    "L2 = [5,6,7,8]\n",
    "[i*j for i in L1 for j in L2]"
   ]
  },
  {
   "cell_type": "markdown",
   "id": "a67830ff",
   "metadata": {},
   "source": [
    "## Zip: The zip() function returns a zip object, which is an iterator of tuples where the first item in each passed iteratoris paired together, and then the second item in each passed iterator are paired together.If the passed iterators have different lengths, the iterator with the least items decides the length of the new iterator."
   ]
  },
  {
   "cell_type": "markdown",
   "id": "756398d5",
   "metadata": {},
   "source": [
    "## Write a program to add items of 2 lists indexwise"
   ]
  },
  {
   "cell_type": "code",
   "execution_count": 42,
   "id": "2b5ca43d",
   "metadata": {},
   "outputs": [
    {
     "data": {
      "text/plain": [
       "[0, 0, 0, 0]"
      ]
     },
     "execution_count": 42,
     "metadata": {},
     "output_type": "execute_result"
    }
   ],
   "source": [
    "L1 = [1,2,3,4]\n",
    "L2 = [-1,-2,-3,-4]\n",
    "list(zip(L1,L2)) \n",
    "[i+j for i,j in zip(L1,L2)]"
   ]
  },
  {
   "cell_type": "code",
   "execution_count": 43,
   "id": "702a62cd",
   "metadata": {},
   "outputs": [
    {
     "name": "stdout",
     "output_type": "stream",
     "text": [
      "[1, 2, <built-in function print>, <class 'type'>, <bound method Kernel.raw_input of <ipykernel.ipkernel.IPythonKernel object at 0x00000184F3DBC3A0>>]\n"
     ]
    }
   ],
   "source": [
    "L = [1,2,print,type,input]\n",
    "print(L)"
   ]
  },
  {
   "cell_type": "markdown",
   "id": "0cd22e00",
   "metadata": {},
   "source": [
    "# Disadvantages of Python Lists\n",
    "## Slow\n",
    "## Risky usage\n",
    "## eats up more memory"
   ]
  },
  {
   "cell_type": "code",
   "execution_count": 44,
   "id": "1ebf350e",
   "metadata": {},
   "outputs": [
    {
     "name": "stdout",
     "output_type": "stream",
     "text": [
      "[1, 2, 3]\n",
      "[1, 2, 3]\n",
      "[1, 2, 3, 4]\n",
      "[1, 2, 3]\n"
     ]
    }
   ],
   "source": [
    "a = [1,2,3]\n",
    "b = a.copy()\n",
    "\n",
    "print(a)\n",
    "print(b)\n",
    "\n",
    "a.append(4)\n",
    "print(a)\n",
    "print(b)"
   ]
  },
  {
   "cell_type": "markdown",
   "id": "7576f14a",
   "metadata": {},
   "source": [
    "## # lists are mutable data type"
   ]
  },
  {
   "cell_type": "code",
   "execution_count": null,
   "id": "396b0dc0",
   "metadata": {},
   "outputs": [],
   "source": []
  }
 ],
 "metadata": {
  "kernelspec": {
   "display_name": "Python 3 (ipykernel)",
   "language": "python",
   "name": "python3"
  },
  "language_info": {
   "codemirror_mode": {
    "name": "ipython",
    "version": 3
   },
   "file_extension": ".py",
   "mimetype": "text/x-python",
   "name": "python",
   "nbconvert_exporter": "python",
   "pygments_lexer": "ipython3",
   "version": "3.9.13"
  }
 },
 "nbformat": 4,
 "nbformat_minor": 5
}
