{
 "cells": [
  {
   "cell_type": "code",
   "execution_count": 2,
   "id": "a1a6c4fa",
   "metadata": {},
   "outputs": [],
   "source": [
    "import numpy as np\n",
    "import matplotlib.pyplot as plt"
   ]
  },
  {
   "cell_type": "markdown",
   "id": "ebe9a810",
   "metadata": {},
   "source": [
    "###  1.Create a null vector of size 10 but the fifth value which is 1."
   ]
  },
  {
   "cell_type": "code",
   "execution_count": 3,
   "id": "90487876",
   "metadata": {},
   "outputs": [
    {
     "name": "stdout",
     "output_type": "stream",
     "text": [
      "[nan nan nan nan  1. nan nan nan nan nan]\n"
     ]
    }
   ],
   "source": [
    "a = np.nan * np.empty(10) # Filling the numpy array with NaN values\n",
    "a[4] = 1\n",
    "print(a)"
   ]
  },
  {
   "cell_type": "markdown",
   "id": "ef3f5ff2",
   "metadata": {},
   "source": [
    "### 2.Ask user to input two numbers a, b. Write a program to generate a random array of shape (a, b) and print the array and avg of the array."
   ]
  },
  {
   "cell_type": "code",
   "execution_count": 4,
   "id": "580c2da2",
   "metadata": {},
   "outputs": [
    {
     "name": "stdout",
     "output_type": "stream",
     "text": [
      "Enter two numbers: 2 2\n",
      "[[0.44776523 0.94273616]\n",
      " [0.17931246 0.47012188]]\n",
      "0.5099839301933723\n"
     ]
    }
   ],
   "source": [
    "a,b = map(int, input(\"Enter two numbers: \").split())\n",
    "x = np.random.random((a,b))\n",
    "print(x)\n",
    "print(x.mean())"
   ]
  },
  {
   "cell_type": "markdown",
   "id": "cbaf6deb",
   "metadata": {},
   "source": [
    "### 3.Write a function to create a 2d array with 1 on the border and 0 inside. Take 2-D array shape as (a,b) as parameter to function."
   ]
  },
  {
   "cell_type": "code",
   "execution_count": 5,
   "id": "0778920e",
   "metadata": {},
   "outputs": [
    {
     "data": {
      "text/plain": [
       "array([[1., 1., 1., 1., 1.],\n",
       "       [1., 0., 0., 0., 1.],\n",
       "       [1., 0., 0., 0., 1.],\n",
       "       [1., 1., 1., 1., 1.]])"
      ]
     },
     "execution_count": 5,
     "metadata": {},
     "output_type": "execute_result"
    }
   ],
   "source": [
    "def borderArray(a,b):\n",
    "    x = np.ones((a,b))\n",
    "    x[1:-1, 1:-1] = 0    # Except the border, changing all other elements to 0\n",
    "    return x\n",
    "borderArray(4,5)"
   ]
  },
  {
   "cell_type": "markdown",
   "id": "20c4715b",
   "metadata": {},
   "source": [
    "### 4.Create a vector of size 10 with values ranging from 0 to 1, both excluded."
   ]
  },
  {
   "cell_type": "code",
   "execution_count": 6,
   "id": "236d7de6",
   "metadata": {},
   "outputs": [
    {
     "data": {
      "text/plain": [
       "array([0.09090909, 0.18181818, 0.27272727, 0.36363636, 0.45454545,\n",
       "       0.54545455, 0.63636364, 0.72727273, 0.81818182, 0.90909091])"
      ]
     },
     "execution_count": 6,
     "metadata": {},
     "output_type": "execute_result"
    }
   ],
   "source": [
    "np.linspace(0, 1, 12)[1:-1]"
   ]
  },
  {
   "cell_type": "markdown",
   "id": "d3675d9c",
   "metadata": {},
   "source": [
    "### 5.Can you create a identity mattrix of shape (3,4). If yes write code for it."
   ]
  },
  {
   "cell_type": "code",
   "execution_count": 7,
   "id": "8581761f",
   "metadata": {},
   "outputs": [
    {
     "data": {
      "text/plain": [
       "array([[1., 0., 0., 0.],\n",
       "       [0., 1., 0., 0.],\n",
       "       [0., 0., 1., 0.],\n",
       "       [0., 0., 0., 1.]])"
      ]
     },
     "execution_count": 7,
     "metadata": {},
     "output_type": "execute_result"
    }
   ],
   "source": [
    "# Identity matricx is a square mattrix, means no of rows and columns will always be same.\n",
    "# Here shape given 3,4 so identuty matrix not possible.\n",
    "np.eye(3)#Identy matrix of size 3-- 3X3\n",
    "np.identity(4)#Identy matrix of size 4-- 4X4\n",
    "# eye and identity are same."
   ]
  },
  {
   "cell_type": "markdown",
   "id": "34e3997d",
   "metadata": {},
   "source": [
    "### 6.Create a 5x5 matrix with row values ranging from 0 to 4."
   ]
  },
  {
   "cell_type": "code",
   "execution_count": 8,
   "id": "e7ad9e05",
   "metadata": {},
   "outputs": [
    {
     "name": "stdout",
     "output_type": "stream",
     "text": [
      "[[0. 1. 2. 3. 4.]\n",
      " [0. 1. 2. 3. 4.]\n",
      " [0. 1. 2. 3. 4.]\n",
      " [0. 1. 2. 3. 4.]\n",
      " [0. 1. 2. 3. 4.]]\n"
     ]
    }
   ],
   "source": [
    "z = np.zeros((5,5))\n",
    "z+= np.arange(5)\n",
    "print(z)"
   ]
  },
  {
   "cell_type": "markdown",
   "id": "89ad5537",
   "metadata": {},
   "source": [
    "###  7.Consider a random integer (in range 1 to 100) vector with shape (10,2) representing coordinates, and coordinates of a point as array is given. Create an array of distance of each point in the random vectros from the given point. Distance array should be interger type."
   ]
  },
  {
   "cell_type": "code",
   "execution_count": 9,
   "id": "a07c1fdc",
   "metadata": {},
   "outputs": [
    {
     "data": {
      "text/plain": [
       "array([ 72,  72,  96,  68,  58,  55, 115,  57,  77,  82])"
      ]
     },
     "execution_count": 9,
     "metadata": {},
     "output_type": "execute_result"
    }
   ],
   "source": [
    "a = np.random.randint(1, 100, (10, 2))\n",
    "p = np.array([2,3])\n",
    "np.sqrt(np.sum((a-p)**2, axis=1)).astype(int)"
   ]
  },
  {
   "cell_type": "markdown",
   "id": "4c08fe22",
   "metadata": {},
   "source": [
    "### 8.consider a (6,7,8) shape array, what is the index (x,y,z) of the 100th element?"
   ]
  },
  {
   "cell_type": "code",
   "execution_count": 10,
   "id": "d8e0763e",
   "metadata": {},
   "outputs": [
    {
     "data": {
      "text/plain": [
       "(1, 5, 4)"
      ]
     },
     "execution_count": 10,
     "metadata": {},
     "output_type": "execute_result"
    }
   ],
   "source": [
    "np.unravel_index(100, (6,7,8))"
   ]
  },
  {
   "cell_type": "markdown",
   "id": "41e49ecc",
   "metadata": {},
   "source": [
    "###  9.You are given a space separated list of numbers. Your task is to print a reversed NumPy array with the element type float.\n",
    "#### input Format:A single line of input containing space separated numbers.\n",
    "#### Output Format:Print the reverse NumPy array with type float."
   ]
  },
  {
   "cell_type": "code",
   "execution_count": 12,
   "id": "36d6a127",
   "metadata": {},
   "outputs": [
    {
     "name": "stdout",
     "output_type": "stream",
     "text": [
      "2125266622\n"
     ]
    },
    {
     "data": {
      "text/plain": [
       "array([2.1252666e+09], dtype=float32)"
      ]
     },
     "execution_count": 12,
     "metadata": {},
     "output_type": "execute_result"
    }
   ],
   "source": [
    "a = input().strip().split()\n",
    "np.array(a[::-1], dtype=np.float32)"
   ]
  },
  {
   "cell_type": "markdown",
   "id": "1db09302",
   "metadata": {},
   "source": [
    "###  10.Count the number of elements of a numpy array."
   ]
  },
  {
   "cell_type": "code",
   "execution_count": 13,
   "id": "50606b40",
   "metadata": {},
   "outputs": [
    {
     "data": {
      "text/plain": [
       "6"
      ]
     },
     "execution_count": 13,
     "metadata": {},
     "output_type": "execute_result"
    }
   ],
   "source": [
    "a = np.array([])\n",
    "a = np.array([1, 2])\n",
    "a = np.zeros((2,3))\n",
    "a.size"
   ]
  },
  {
   "cell_type": "markdown",
   "id": "8f975d79",
   "metadata": {},
   "source": [
    "###  11.Create a Python function to calculate the Softmax of the given numpy 1D array. The function only accepts the numpy 1D array, otherwise raise error."
   ]
  },
  {
   "attachments": {
    "soft.png": {
     "image/png": "[encoded data removed]"
    }
   },
   "cell_type": "markdown",
   "id": "9e13a451",
   "metadata": {},
   "source": [
    "![soft.png](attachment:soft.png)"
   ]
  },
  {
   "cell_type": "code",
   "execution_count": 14,
   "id": "9b9d29e7",
   "metadata": {},
   "outputs": [
    {
     "data": {
      "text/plain": [
       "array([2.43733248e-01, 2.56112114e-22, 1.41628283e-17, 7.56266752e-01,\n",
       "       5.05514197e-22, 1.50974911e-22])"
      ]
     },
     "execution_count": 14,
     "metadata": {},
     "output_type": "execute_result"
    }
   ],
   "source": [
    "def softmax(arr):\n",
    "    if type(arr) != np.ndarray:\n",
    "        raise TypeError(\"Requires Numpy Array\")\n",
    "    elif arr.ndim > 1:\n",
    "        raise TypeError(\"Requires 1D Array\")\n",
    "    s = np.sum(np.exp(arr))\n",
    "    return np.exp(arr)/s\n",
    "softmax(np.array([86.03331084, 37.7285648,  48.64908087, 87.16563062, 38.40852563, 37.20006318]))"
   ]
  },
  {
   "cell_type": "markdown",
   "id": "3a442221",
   "metadata": {},
   "source": [
    "###  12.Write a python function that accepts infinite number of numpy arrays and do the vertical stack to them. Then return that new array as result. The function only accepts the numpy array, otherwise raise error."
   ]
  },
  {
   "cell_type": "code",
   "execution_count": 15,
   "id": "d4e088fd",
   "metadata": {},
   "outputs": [
    {
     "name": "stdout",
     "output_type": "stream",
     "text": [
      "a= [[0 1 2 3 4]\n",
      " [5 6 7 8 9]]\n",
      "b= [[1 1 1 1 1]\n",
      " [1 1 1 1 1]]\n",
      "[[0 1 2 3 4]\n",
      " [5 6 7 8 9]\n",
      " [1 1 1 1 1]\n",
      " [1 1 1 1 1]]\n",
      "c= [[0.82677916 0.6439897  0.4191424  0.38687748 0.71048769]\n",
      " [0.36360919 0.90209856 0.98970776 0.04181826 0.54172857]]\n"
     ]
    },
    {
     "data": {
      "text/plain": [
       "array([[0.        , 1.        , 2.        , 3.        , 4.        ],\n",
       "       [5.        , 6.        , 7.        , 8.        , 9.        ],\n",
       "       [1.        , 1.        , 1.        , 1.        , 1.        ],\n",
       "       [1.        , 1.        , 1.        , 1.        , 1.        ],\n",
       "       [0.82677916, 0.6439897 , 0.4191424 , 0.38687748, 0.71048769],\n",
       "       [0.36360919, 0.90209856, 0.98970776, 0.04181826, 0.54172857]])"
      ]
     },
     "execution_count": 15,
     "metadata": {},
     "output_type": "execute_result"
    }
   ],
   "source": [
    "def vertical_stack(*args):\n",
    "    for i in args:\n",
    "        if type(i) != np.ndarray:\n",
    "            raise TypeError(\"Requires Numpy Array\")\n",
    "    return np.vstack(args)\n",
    "\n",
    "a = np.arange(10).reshape(2, -1)\n",
    "print(\"a=\",a)\n",
    "b = np.repeat(1, 10).reshape(2, -1)\n",
    "print(\"b=\",b)\n",
    "print(vertical_stack(a,b))\n",
    "c = np.random.random((2,5))\n",
    "print(\"c=\", c)\n",
    "vertical_stack(a,b,c)"
   ]
  },
  {
   "cell_type": "markdown",
   "id": "c124d807",
   "metadata": {},
   "source": [
    "###  13.Create a python function named date_array that accepts two dates as string format and returns a numpy array of dates between those 2 dates. The function only accept 2 strings, otherwise raise error. The date format should be like this only:2022-12-6. The end date should be included and for simplicity, choose dates from a same year."
   ]
  },
  {
   "cell_type": "code",
   "execution_count": 16,
   "id": "501f1fe3",
   "metadata": {},
   "outputs": [
    {
     "data": {
      "text/plain": [
       "array(['2020-11-25', '2020-11-26', '2020-11-27', '2020-11-28',\n",
       "       '2020-11-29', '2020-11-30'], dtype='datetime64[D]')"
      ]
     },
     "execution_count": 16,
     "metadata": {},
     "output_type": "execute_result"
    }
   ],
   "source": [
    "def date_array(start: str, end: str):\n",
    "    if type(start) != str or type(end) != str:\n",
    "        raise TypeError\n",
    "        \n",
    "    total_days_of_month = {\"01\": 31, \"02\": 28, \"03\": 31, \"04\":30, \"05\": 31, \"06\":30, \"07\":31, \"08\":31, \"09\":30, \"10\": 31, \n",
    "                           \"11\":30, \"12\":31}\n",
    "\n",
    "    end = end.split(\"-\")\n",
    "    end_last = int(end[-1]) + 1\n",
    "    \n",
    "    # If the next day of end falls in the next month, account for that\n",
    "    if total_days_of_month[end[-2]] < end_last:\n",
    "        days_diff = end_last - total_days_of_month[end[-2]]\n",
    "        end[-1] = f'0{days_diff}' if days_diff< 10 else f'{days_diff}'\n",
    "        next_month = int(end[-2]) + 1\n",
    "        end[-2] = f'0{next_month}' if next_month< 10 else f'{next_month}'\n",
    "    else:\n",
    "        end[-1] = f'0{end_last}' if end_last < 10 else f'{end_last}'\n",
    "    end = \"-\".join(end)\n",
    "    return np.arange(start, end, dtype=\"datetime64[D]\")    # Use arange() to generate all dates between start and end \n",
    "date_array(start = '2020-11-25', end = '2020-11-30')"
   ]
  },
  {
   "cell_type": "code",
   "execution_count": null,
   "id": "8ce5ce85",
   "metadata": {},
   "outputs": [],
   "source": []
  },
  {
   "cell_type": "code",
   "execution_count": 17,
   "id": "ad3f3207",
   "metadata": {},
   "outputs": [
    {
     "data": {
      "text/plain": [
       "array([[-0.41745562,  0.2664451 ,  0.33854689, -0.18753638],\n",
       "       [ 0.57374894, -0.25211158, -0.06134913, -0.26028823],\n",
       "       [-0.36576228,  0.58346302, -0.04285597, -0.17484476],\n",
       "       [ 0.2861381 , -0.35802478, -0.2497919 ,  0.32167857],\n",
       "       [-0.06959574,  0.05987134,  0.38842934, -0.37870494]])"
      ]
     },
     "execution_count": 17,
     "metadata": {},
     "output_type": "execute_result"
    }
   ],
   "source": [
    "x = np.random.random((5,4))\n",
    "x - x.mean(axis = 1, keepdims = True)"
   ]
  },
  {
   "cell_type": "markdown",
   "id": "e1b80002",
   "metadata": {},
   "source": [
    "###  15.Swap column-1 of array with column-2 in the array."
   ]
  },
  {
   "cell_type": "code",
   "execution_count": 18,
   "id": "f1b70f8a",
   "metadata": {},
   "outputs": [
    {
     "data": {
      "text/plain": [
       "array([[0, 2, 1],\n",
       "       [3, 5, 4],\n",
       "       [6, 8, 7]])"
      ]
     },
     "execution_count": 18,
     "metadata": {},
     "output_type": "execute_result"
    }
   ],
   "source": [
    "a = np.arange(9).reshape(3,3)\n",
    "a[:, [0, 2, 1]]"
   ]
  },
  {
   "cell_type": "markdown",
   "id": "09d7616a",
   "metadata": {},
   "source": [
    "### 16.Replace odd elements in arrays with -1."
   ]
  },
  {
   "cell_type": "code",
   "execution_count": 19,
   "id": "1c7754a4",
   "metadata": {},
   "outputs": [
    {
     "data": {
      "text/plain": [
       "array([ 0, -1,  2, -1,  4, -1,  6, -1,  8, -1])"
      ]
     },
     "execution_count": 19,
     "metadata": {},
     "output_type": "execute_result"
    }
   ],
   "source": [
    "a = np.arange(10)\n",
    "a[a%2 == 1] = -1\n",
    "a"
   ]
  },
  {
   "cell_type": "markdown",
   "id": "c5c04c40",
   "metadata": {},
   "source": [
    "### Given two arrays of same shape make an array of max out of two arrays. (Numpy way)"
   ]
  },
  {
   "cell_type": "code",
   "execution_count": 20,
   "id": "ae8256d7",
   "metadata": {},
   "outputs": [
    {
     "name": "stdout",
     "output_type": "stream",
     "text": [
      "[6 3 1 7 8]\n"
     ]
    }
   ],
   "source": [
    "a=np.array([6,3,1,5,8])\n",
    "b=np.array([3,2,1,7,2])\n",
    "a[b>a] = b[a<b]\n",
    "print(a)"
   ]
  },
  {
   "cell_type": "markdown",
   "id": "bb21d437",
   "metadata": {},
   "source": [
    "### 18.Answer below asked questions on given array:\n",
    "### Fetch Every alternate column of the array\n",
    "###  Normalise the given array\n",
    "### There are different form of normalisation for this question use below formula."
   ]
  },
  {
   "cell_type": "markdown",
   "id": "da3b65af",
   "metadata": {},
   "source": []
  },
  {
   "cell_type": "code",
   "execution_count": 21,
   "id": "98788804",
   "metadata": {},
   "outputs": [
    {
     "name": "stdout",
     "output_type": "stream",
     "text": [
      "[[9728 5536 6919 7409 5916]\n",
      " [1143 7205  304 6456 5960]\n",
      " [4315 5743 9601 7529 9309]\n",
      " [9447 1444 4936 9216 8946]\n",
      " [5744  778 5546 9313 8136]\n",
      " [6079 8914 5198 8577  829]\n",
      " [1885 7792 6525 8604 4947]\n",
      " [ 507 4535  425   34 1687]]\n"
     ]
    }
   ],
   "source": [
    "arr1=np.random.randint(low=1, high=10000, size=40).reshape(8,5)\n",
    "print(arr1)"
   ]
  },
  {
   "cell_type": "code",
   "execution_count": 22,
   "id": "92fc8a6d",
   "metadata": {},
   "outputs": [
    {
     "data": {
      "text/plain": [
       "array([[9728, 6919, 5916],\n",
       "       [1143,  304, 5960],\n",
       "       [4315, 9601, 9309],\n",
       "       [9447, 4936, 8946],\n",
       "       [5744, 5546, 8136],\n",
       "       [6079, 5198,  829],\n",
       "       [1885, 6525, 4947],\n",
       "       [ 507,  425, 1687]])"
      ]
     },
     "execution_count": 22,
     "metadata": {},
     "output_type": "execute_result"
    }
   ],
   "source": [
    "arr1[:, ::2]"
   ]
  },
  {
   "cell_type": "code",
   "execution_count": 23,
   "id": "a2933983",
   "metadata": {},
   "outputs": [
    {
     "data": {
      "text/plain": [
       "array([[1.        , 0.56756757, 0.71023313, 0.76077986, 0.60676707],\n",
       "       [0.11440066, 0.73973592, 0.02785228, 0.66247163, 0.61130596],\n",
       "       [0.44161337, 0.58892098, 0.98689911, 0.77315865, 0.95677739],\n",
       "       [0.971013  , 0.14545079, 0.50567361, 0.94718383, 0.91933155],\n",
       "       [0.58902414, 0.0767485 , 0.56859913, 0.95719001, 0.83577471],\n",
       "       [0.6235816 , 0.91603053, 0.53270064, 0.88126676, 0.08200949],\n",
       "       [0.19094285, 0.80028884, 0.66958944, 0.88405199, 0.50680834],\n",
       "       [0.04879307, 0.46430782, 0.04033423, 0.        , 0.17051785]])"
      ]
     },
     "execution_count": 23,
     "metadata": {},
     "output_type": "execute_result"
    }
   ],
   "source": [
    "(arr1 - arr1.min())/(arr1.max() - arr1.min())"
   ]
  },
  {
   "cell_type": "markdown",
   "id": "42504775",
   "metadata": {},
   "source": [
    "###  19.Write a function which will accept 2 arguments.\n",
    "### First: A 1D numpy array arr\n",
    "### Second: An integer n {Please make sure n<=len(arr)}\n",
    "### Output: The output should be the nth largest item out of the array"
   ]
  },
  {
   "cell_type": "code",
   "execution_count": null,
   "id": "0724ba53",
   "metadata": {},
   "outputs": [],
   "source": [
    "def nthmax(arr, n):\n",
    "    if n>len(arr):\n",
    "        raise IndexError(\"n is way out of limit\")\n",
    "    arr.sort()\n",
    "    return arr[-n]\n",
    "nthmax(np.array([12,34,40,7,1,0]),2)"
   ]
  },
  {
   "cell_type": "markdown",
   "id": "898f551d",
   "metadata": {},
   "source": [
    "##  20.Create the following pattern without hardcoding. Use only numpy functions and the below input array a.\n",
    "###  Input: a = np.array([1,2,3])\n",
    "### Output: array([1, 1, 1, 2, 2, 2, 3, 3, 3, 1, 2, 3, 1, 2, 3, 1, 2, 3])"
   ]
  },
  {
   "cell_type": "code",
   "execution_count": null,
   "id": "332ea24b",
   "metadata": {},
   "outputs": [],
   "source": [
    "a = np.array([1,2,3])\n",
    "np.hstack([np.repeat(a, 3), np.tile(a, 3)])"
   ]
  }
 ],
 "metadata": {
  "kernelspec": {
   "display_name": "Python 3 (ipykernel)",
   "language": "python",
   "name": "python3"
  },
  "language_info": {
   "codemirror_mode": {
    "name": "ipython",
    "version": 3
   },
   "file_extension": ".py",
   "mimetype": "text/x-python",
   "name": "python",
   "nbconvert_exporter": "python",
   "pygments_lexer": "ipython3",
   "version": "3.9.13"
  }
 },
 "nbformat": 4,
 "nbformat_minor": 5
}
