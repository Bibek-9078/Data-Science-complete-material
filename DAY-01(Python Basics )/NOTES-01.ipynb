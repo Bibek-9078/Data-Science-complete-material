{
 "cells": [
  {
   "cell_type": "markdown",
   "id": "7ba1ca9f",
   "metadata": {},
   "source": [
    "# FUNDMENTAL OF PYTHON (DAY-01)"
   ]
  },
  {
   "cell_type": "markdown",
   "id": "4f0f6098",
   "metadata": {},
   "source": [
    "# INPUT AND OUTPUT\n",
    "### 1.PYTHON INPUT: In python want to take input from the user. \n",
    "### 2.python output: we use the Print () Function  to allow this output data to the Standard output device.\n",
    "### 3.The sep default separatore used into space character. between the values. If defaults into space characters.\n",
    "### 4.After all the values are printed end is Preinted.If defaults into  new line.\n",
    "### 5.The file is the object where the values are printed and its default values SYS.stdout (screen)\n",
    "### NOTE-python is case sensitive language"
   ]
  },
  {
   "cell_type": "code",
   "execution_count": 1,
   "id": "75129baf",
   "metadata": {},
   "outputs": [
    {
     "name": "stdout",
     "output_type": "stream",
     "text": [
      "Hello world\n"
     ]
    }
   ],
   "source": [
    "print(\"Hello world\")"
   ]
  },
  {
   "cell_type": "code",
   "execution_count": 2,
   "id": "244eb3d8",
   "metadata": {},
   "outputs": [
    {
     "name": "stdout",
     "output_type": "stream",
     "text": [
      "bibek\n"
     ]
    }
   ],
   "source": [
    "print(\"bibek\")"
   ]
  },
  {
   "cell_type": "code",
   "execution_count": 3,
   "id": "e9f9dbfd",
   "metadata": {},
   "outputs": [
    {
     "name": "stdout",
     "output_type": "stream",
     "text": [
      "1st program in python\n"
     ]
    }
   ],
   "source": [
    "print(\"1st program in python\")"
   ]
  },
  {
   "cell_type": "code",
   "execution_count": 4,
   "id": "c0c37df8",
   "metadata": {},
   "outputs": [
    {
     "name": "stdout",
     "output_type": "stream",
     "text": [
      "5.9\n"
     ]
    }
   ],
   "source": [
    "print(\"5.9\")"
   ]
  },
  {
   "cell_type": "code",
   "execution_count": 5,
   "id": "f20af81c",
   "metadata": {},
   "outputs": [
    {
     "name": "stdout",
     "output_type": "stream",
     "text": [
      "true\n"
     ]
    }
   ],
   "source": [
    "print(\"true\")"
   ]
  },
  {
   "cell_type": "code",
   "execution_count": 6,
   "id": "1aac2e3c",
   "metadata": {},
   "outputs": [
    {
     "name": "stdout",
     "output_type": "stream",
     "text": [
      "india odisha ganjam\n"
     ]
    }
   ],
   "source": [
    "print(\"india\",\"odisha\",\"ganjam\")"
   ]
  },
  {
   "cell_type": "code",
   "execution_count": 7,
   "id": "795630eb",
   "metadata": {},
   "outputs": [
    {
     "name": "stdout",
     "output_type": "stream",
     "text": [
      "india-odisha-ganjam\n"
     ]
    }
   ],
   "source": [
    "print(\"india\",\"odisha\",\"ganjam\",sep=\"-\")"
   ]
  },
  {
   "cell_type": "code",
   "execution_count": 8,
   "id": "16fcee26",
   "metadata": {},
   "outputs": [
    {
     "name": "stdout",
     "output_type": "stream",
     "text": [
      "Hello world\n"
     ]
    }
   ],
   "source": [
    "print(\"Hello\",end=' ')\n",
    "print(\"world\")"
   ]
  },
  {
   "cell_type": "markdown",
   "id": "0870cde9",
   "metadata": {},
   "source": [
    "## Comments:Comments in Python are the lines in the code that are ignored by the interpreter during the execution of the program."
   ]
  },
  {
   "cell_type": "code",
   "execution_count": 9,
   "id": "099133c0",
   "metadata": {},
   "outputs": [
    {
     "name": "stdout",
     "output_type": "stream",
     "text": [
      "1st program in python\n"
     ]
    }
   ],
   "source": [
    "print(\"1st program in python\") #1st program"
   ]
  },
  {
   "cell_type": "markdown",
   "id": "4601bb6e",
   "metadata": {},
   "source": [
    "## DATA TYPE"
   ]
  },
  {
   "cell_type": "markdown",
   "id": "e836aee8",
   "metadata": {},
   "source": [
    "## Every value in python has a data type. since every thing is an object in python program. Datatype are actually classes and variable are instance (object) of these class. "
   ]
  },
  {
   "cell_type": "markdown",
   "id": "dcc8ccd8",
   "metadata": {},
   "source": [
    "## we can use the type () a variable or a value function Class function  to know the class belongs to and the is instance () to cheeck the objections belong to particulare class. no variables declaration."
   ]
  },
  {
   "cell_type": "markdown",
   "id": "4d962ca9",
   "metadata": {},
   "source": [
    "###  INTEGER"
   ]
  },
  {
   "cell_type": "code",
   "execution_count": 10,
   "id": "92b962a6",
   "metadata": {},
   "outputs": [
    {
     "name": "stdout",
     "output_type": "stream",
     "text": [
      "4\n",
      "inf\n"
     ]
    }
   ],
   "source": [
    "print(4)\n",
    "print(1e309)"
   ]
  },
  {
   "cell_type": "markdown",
   "id": "97a2b5db",
   "metadata": {},
   "source": [
    "### FLOAT"
   ]
  },
  {
   "cell_type": "code",
   "execution_count": 11,
   "id": "b1dfea84",
   "metadata": {},
   "outputs": [
    {
     "name": "stdout",
     "output_type": "stream",
     "text": [
      "4.9\n"
     ]
    }
   ],
   "source": [
    "print(\"4.9\")  "
   ]
  },
  {
   "cell_type": "markdown",
   "id": "f42e5670",
   "metadata": {},
   "source": [
    "###  BOOLEAN"
   ]
  },
  {
   "cell_type": "code",
   "execution_count": 12,
   "id": "d62e80f2",
   "metadata": {},
   "outputs": [
    {
     "name": "stdout",
     "output_type": "stream",
     "text": [
      "True\n",
      "False\n"
     ]
    }
   ],
   "source": [
    "print(True)\n",
    "print(False)"
   ]
  },
  {
   "cell_type": "markdown",
   "id": "a600ecdf",
   "metadata": {},
   "source": [
    "### COMPLEX"
   ]
  },
  {
   "cell_type": "code",
   "execution_count": 13,
   "id": "e16b0e98",
   "metadata": {},
   "outputs": [
    {
     "name": "stdout",
     "output_type": "stream",
     "text": [
      "4+j\n"
     ]
    }
   ],
   "source": [
    "print(\"4+j\") "
   ]
  },
  {
   "cell_type": "markdown",
   "id": "9f6bc78b",
   "metadata": {},
   "source": [
    "### STRING"
   ]
  },
  {
   "cell_type": "code",
   "execution_count": 14,
   "id": "a66fea2b",
   "metadata": {},
   "outputs": [
    {
     "name": "stdout",
     "output_type": "stream",
     "text": [
      "odisha\n",
      "odisha\n",
      "\"odisha\"\n"
     ]
    }
   ],
   "source": [
    "print(\"odisha\")\n",
    "print('odisha')\n",
    "print('\"odisha\"')"
   ]
  },
  {
   "cell_type": "markdown",
   "id": "e2c28332",
   "metadata": {},
   "source": [
    "### LIST"
   ]
  },
  {
   "cell_type": "code",
   "execution_count": 15,
   "id": "1be6a345",
   "metadata": {},
   "outputs": [
    {
     "name": "stdout",
     "output_type": "stream",
     "text": [
      "[9, 0, 7, 7, 4, 7]\n"
     ]
    }
   ],
   "source": [
    "print([9,0,7,7,4,7])  "
   ]
  },
  {
   "cell_type": "markdown",
   "id": "36851db8",
   "metadata": {},
   "source": [
    "### TUPLE "
   ]
  },
  {
   "cell_type": "code",
   "execution_count": 16,
   "id": "ce52c62f",
   "metadata": {},
   "outputs": [
    {
     "name": "stdout",
     "output_type": "stream",
     "text": [
      "(9, 0, 7, 7, 4, 7)\n"
     ]
    }
   ],
   "source": [
    "print((9,0,7,7,4,7)) "
   ]
  },
  {
   "cell_type": "markdown",
   "id": "83899213",
   "metadata": {},
   "source": [
    "### SET"
   ]
  },
  {
   "cell_type": "code",
   "execution_count": 17,
   "id": "1a4605b7",
   "metadata": {},
   "outputs": [
    {
     "name": "stdout",
     "output_type": "stream",
     "text": [
      "{0, 9, 4, 7}\n"
     ]
    }
   ],
   "source": [
    "print({9,0,7,7,4,7})"
   ]
  },
  {
   "cell_type": "markdown",
   "id": "35920d04",
   "metadata": {},
   "source": [
    "### DICTIONARY"
   ]
  },
  {
   "cell_type": "code",
   "execution_count": 18,
   "id": "cd6ac9c3",
   "metadata": {},
   "outputs": [
    {
     "name": "stdout",
     "output_type": "stream",
     "text": [
      "{'name': 'bibek', 'age': '20', 'sex': 'male'}\n"
     ]
    }
   ],
   "source": [
    "print({\"name\":\"bibek\",\"age\":\"20\",\"sex\":\"male\"}) "
   ]
  },
  {
   "cell_type": "markdown",
   "id": "d60f7ace",
   "metadata": {},
   "source": [
    "## type(): it  is a built-in function that returns the type of the objects/data elements stored in any data type or returns a new type object depending on the arguments passed to the function."
   ]
  },
  {
   "cell_type": "code",
   "execution_count": 19,
   "id": "f4259e2a",
   "metadata": {},
   "outputs": [
    {
     "data": {
      "text/plain": [
       "float"
      ]
     },
     "execution_count": 19,
     "metadata": {},
     "output_type": "execute_result"
    }
   ],
   "source": [
    "type(7.7)"
   ]
  },
  {
   "cell_type": "markdown",
   "id": "92ad594b",
   "metadata": {},
   "source": [
    "# VARIABLE"
   ]
  },
  {
   "cell_type": "markdown",
   "id": "afb6d827",
   "metadata": {},
   "source": [
    "### 1.variable is a location of memory used to store some data \n",
    "### 2.It unique names to difference between different location\n",
    "### 3.The rules of writing variable same as the rules of writing of identifier in Python\n",
    "### 4.We don't have need to declare the variable before using it. You can simply assign  a value of a variable and its exist \n",
    "### 5.We  don't even the declaration types of variable in handle internally according to the value is assigned\n",
    "### 6.Dynamic typing:the type of variable is determined the run time \n",
    "### 7.static typing: the type of variable is determined in declear time.\n",
    "### 8.Dynamic binding: it is not possible to decide which piece of code will be executed as a result of a method call at compile-time.\n",
    "### 9.static binding:Binding that takes place at compile time is known as static binding."
   ]
  },
  {
   "cell_type": "code",
   "execution_count": 20,
   "id": "74f019ba",
   "metadata": {},
   "outputs": [
    {
     "name": "stdout",
     "output_type": "stream",
     "text": [
      "5\n"
     ]
    }
   ],
   "source": [
    "# Dynamic Typing\n",
    "a = 5\n",
    "# Static Typing\n",
    "#int a = 5\n",
    "# Dynamic Binding\n",
    "#a = 5\n",
    "print(a)\n",
    "# Static Binding\n",
    "#int a = 5"
   ]
  },
  {
   "cell_type": "code",
   "execution_count": 21,
   "id": "72df27c2",
   "metadata": {},
   "outputs": [
    {
     "name": "stdout",
     "output_type": "stream",
     "text": [
      "Bibek\n"
     ]
    }
   ],
   "source": [
    "name=\"Bibek\"\n",
    "print(name)"
   ]
  },
  {
   "cell_type": "code",
   "execution_count": 22,
   "id": "fab53d6e",
   "metadata": {},
   "outputs": [
    {
     "name": "stdout",
     "output_type": "stream",
     "text": [
      "4\n"
     ]
    }
   ],
   "source": [
    "name=\"4\"\n",
    "print(name)"
   ]
  },
  {
   "cell_type": "code",
   "execution_count": 23,
   "id": "e6005e69",
   "metadata": {},
   "outputs": [
    {
     "name": "stdout",
     "output_type": "stream",
     "text": [
      "true\n"
     ]
    }
   ],
   "source": [
    "name=\"true\"\n",
    "print(name)"
   ]
  },
  {
   "cell_type": "code",
   "execution_count": 24,
   "id": "2892fd91",
   "metadata": {},
   "outputs": [
    {
     "name": "stdout",
     "output_type": "stream",
     "text": [
      "4\n",
      "5\n",
      "6\n"
     ]
    }
   ],
   "source": [
    "a,b,c=4,5,6\n",
    "print(a)\n",
    "print(b)\n",
    "print(c)"
   ]
  },
  {
   "cell_type": "code",
   "execution_count": 25,
   "id": "96c93bb5",
   "metadata": {},
   "outputs": [
    {
     "name": "stdout",
     "output_type": "stream",
     "text": [
      "5\n",
      "6\n",
      "7\n"
     ]
    }
   ],
   "source": [
    "a=5;b=6;c=7;\n",
    "print(a)\n",
    "print(b)\n",
    "print(c)"
   ]
  },
  {
   "cell_type": "code",
   "execution_count": 26,
   "id": "cb180220",
   "metadata": {},
   "outputs": [
    {
     "name": "stdout",
     "output_type": "stream",
     "text": [
      "6\n",
      "6\n",
      "6\n"
     ]
    }
   ],
   "source": [
    "#Dynamic binding\n",
    "a=b=c=6\n",
    "print(a)\n",
    "print(b)\n",
    "print(c)"
   ]
  },
  {
   "cell_type": "markdown",
   "id": "93e18340",
   "metadata": {},
   "source": [
    "## KEYWORD AND IDENTIFIERS "
   ]
  },
  {
   "cell_type": "markdown",
   "id": "e85f2651",
   "metadata": {},
   "source": [
    "### Keyword constant reserve word and you can not used them as Or Variable or any othere identifiers name.The total numbert of keyword in python is 33."
   ]
  },
  {
   "cell_type": "code",
   "execution_count": 27,
   "id": "610cdb88",
   "metadata": {},
   "outputs": [
    {
     "name": "stdout",
     "output_type": "stream",
     "text": [
      "['False', 'None', 'True', '__peg_parser__', 'and', 'as', 'assert', 'async', 'await', 'break', 'class', 'continue', 'def', 'del', 'elif', 'else', 'except', 'finally', 'for', 'from', 'global', 'if', 'import', 'in', 'is', 'lambda', 'nonlocal', 'not', 'or', 'pass', 'raise', 'return', 'try', 'while', 'with', 'yield']\n"
     ]
    }
   ],
   "source": [
    "import keyword\n",
    "print(keyword.kwlist)"
   ]
  },
  {
   "cell_type": "markdown",
   "id": "001da1e5",
   "metadata": {},
   "source": [
    "### 1.A Python identifiers is a name used to identify a variable, function class, module or other object.\n",
    "### 2.An identifier's starets with letter (A-Z,a-z) or an undere score (-) followed by zero or more letters.\n",
    "### 3.underscore and digits (o to 9)\n",
    "## The follwing are naming convention for python identifiers\n",
    "### 1.Class name start with an upper case letter. All other identifiers in staret with a lower case letter.\n",
    "### 2.Starting an identifier with a single leading under scoreindicates that the identifieres is Private\n",
    "### 3.start an identifier with two leading under score indicating a strongly private identifiers.\n",
    "### 4.The identifier also ends with two trailing under ·Score (_) the identifier is a language - defined special name "
   ]
  },
  {
   "cell_type": "code",
   "execution_count": 28,
   "id": "91e2768d",
   "metadata": {},
   "outputs": [
    {
     "name": "stdout",
     "output_type": "stream",
     "text": [
      "bibek\n"
     ]
    }
   ],
   "source": [
    "name='bibek'\n",
    "print(name)"
   ]
  },
  {
   "cell_type": "code",
   "execution_count": 29,
   "id": "caacdcc9",
   "metadata": {},
   "outputs": [
    {
     "name": "stdout",
     "output_type": "stream",
     "text": [
      "bibek\n"
     ]
    }
   ],
   "source": [
    "_='bibek'\n",
    "print(_)"
   ]
  },
  {
   "cell_type": "code",
   "execution_count": 30,
   "id": "6c911c0a",
   "metadata": {},
   "outputs": [
    {
     "name": "stdout",
     "output_type": "stream",
     "text": [
      "bibek\n"
     ]
    }
   ],
   "source": [
    "first_name='bibek'\n",
    "print(first_name)"
   ]
  },
  {
   "cell_type": "markdown",
   "id": "049f44ab",
   "metadata": {},
   "source": [
    "## Type conversion"
   ]
  },
  {
   "cell_type": "code",
   "execution_count": 31,
   "id": "4a97a0f1",
   "metadata": {},
   "outputs": [
    {
     "name": "stdout",
     "output_type": "stream",
     "text": [
      "enter the first number:21\n",
      "enter the second number:29\n",
      "50\n"
     ]
    }
   ],
   "source": [
    "#Type conversion is not a permanent operation\n",
    "first_num= input(\"enter the first number:\")\n",
    "second_num= input(\"enter the second number:\")\n",
    "result=int(first_num)+int(second_num)\n",
    "print (result)"
   ]
  },
  {
   "cell_type": "code",
   "execution_count": 32,
   "id": "e0adcac0",
   "metadata": {},
   "outputs": [
    {
     "name": "stdout",
     "output_type": "stream",
     "text": [
      "enter the first number:30\n",
      "enter the second number:32\n",
      "62\n"
     ]
    }
   ],
   "source": [
    "#Another way to write ✍ this program \n",
    "first_num=int(input(\"enter the first number:\"))\n",
    "second_num=int(input(\"enter the second number:\"))\n",
    "result=first_num+second_num\n",
    "print(result)"
   ]
  },
  {
   "cell_type": "markdown",
   "id": "e0ab4225",
   "metadata": {},
   "source": [
    "# LITERALS "
   ]
  },
  {
   "cell_type": "markdown",
   "id": "150e3bd2",
   "metadata": {},
   "source": [
    "## 01.NUMERIC LITERALS"
   ]
  },
  {
   "cell_type": "code",
   "execution_count": 33,
   "id": "d4533c50",
   "metadata": {},
   "outputs": [
    {
     "name": "stdout",
     "output_type": "stream",
     "text": [
      "10 100 0.31 300\n"
     ]
    }
   ],
   "source": [
    "a=0b1010 #binaryLITERALS\n",
    "b=100 #decimalLITERALS\n",
    "c=0.310 #ocralLITERALS\n",
    "d=0x12c #hexaLITERALS\n",
    "print(a,b,c,d)"
   ]
  },
  {
   "cell_type": "markdown",
   "id": "3e26960b",
   "metadata": {},
   "source": [
    "## 02.FLOAT LITERALS"
   ]
  },
  {
   "cell_type": "code",
   "execution_count": 34,
   "id": "dc5bc08a",
   "metadata": {},
   "outputs": [
    {
     "name": "stdout",
     "output_type": "stream",
     "text": [
      "10.5 150.0 0.0015\n"
     ]
    }
   ],
   "source": [
    "Float_1=10.5\n",
    "Float_2=1.5e2\n",
    "Float_3=1.5e-3\n",
    "print(Float_1,Float_2,Float_3)"
   ]
  },
  {
   "cell_type": "markdown",
   "id": "c15bb288",
   "metadata": {},
   "source": [
    "## 03.COMPLEX LITERALS"
   ]
  },
  {
   "cell_type": "code",
   "execution_count": 35,
   "id": "6ec1ff5f",
   "metadata": {},
   "outputs": [
    {
     "name": "stdout",
     "output_type": "stream",
     "text": [
      "3.14j 3.14 0.0\n"
     ]
    }
   ],
   "source": [
    "X=3.14j\n",
    "print(X,X.imag,X.real)"
   ]
  },
  {
   "cell_type": "markdown",
   "id": "b6897455",
   "metadata": {},
   "source": [
    "## 04.STRING LITERALS"
   ]
  },
  {
   "cell_type": "code",
   "execution_count": 36,
   "id": "af11b41a",
   "metadata": {},
   "outputs": [
    {
     "name": "stdout",
     "output_type": "stream",
     "text": [
      "this is a python\n",
      "this is a python\n",
      "c\n"
     ]
    }
   ],
   "source": [
    "string='this is a python'\n",
    "string=\"this is a python\"\n",
    "char=\"c\"\n",
    "print(string)\n",
    "print(string)\n",
    "print(char)"
   ]
  },
  {
   "cell_type": "markdown",
   "id": "24040226",
   "metadata": {},
   "source": [
    "## 05.BOOLEN LITERALS"
   ]
  },
  {
   "cell_type": "code",
   "execution_count": 37,
   "id": "6fc6ba76",
   "metadata": {},
   "outputs": [
    {
     "name": "stdout",
     "output_type": "stream",
     "text": [
      "a; 5\n",
      "b; 10\n"
     ]
    }
   ],
   "source": [
    "a=True+4\n",
    "b=False+10\n",
    "print(\"a;\",a)\n",
    "print(\"b;\",b)"
   ]
  },
  {
   "cell_type": "markdown",
   "id": "ccd7e9a7",
   "metadata": {},
   "source": [
    "## 06. SPECIAL  LITERALS"
   ]
  },
  {
   "cell_type": "code",
   "execution_count": 38,
   "id": "8db48cc1",
   "metadata": {},
   "outputs": [
    {
     "name": "stdout",
     "output_type": "stream",
     "text": [
      "None\n"
     ]
    }
   ],
   "source": [
    "a=None\n",
    "print(a)"
   ]
  },
  {
   "cell_type": "markdown",
   "id": "60fd9784",
   "metadata": {},
   "source": [
    "## 07.UNICODE"
   ]
  },
  {
   "cell_type": "code",
   "execution_count": 39,
   "id": "4e22ad83",
   "metadata": {},
   "outputs": [
    {
     "name": "stdout",
     "output_type": "stream",
     "text": [
      "😀😆🤣\n"
     ]
    }
   ],
   "source": [
    "unicode=u\"\\U0001f600\\U0001F606\\U0001F923\"\n",
    "print(unicode)"
   ]
  }
 ],
 "metadata": {
  "kernelspec": {
   "display_name": "Python 3 (ipykernel)",
   "language": "python",
   "name": "python3"
  },
  "language_info": {
   "codemirror_mode": {
    "name": "ipython",
    "version": 3
   },
   "file_extension": ".py",
   "mimetype": "text/x-python",
   "name": "python",
   "nbconvert_exporter": "python",
   "pygments_lexer": "ipython3",
   "version": "3.9.13"
  }
 },
 "nbformat": 4,
 "nbformat_minor": 5
}
