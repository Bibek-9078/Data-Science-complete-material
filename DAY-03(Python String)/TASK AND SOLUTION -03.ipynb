{
 "cells": [
  {
   "cell_type": "markdown",
   "id": "fef0563f",
   "metadata": {},
   "source": [
    "### 01. Print the following pattern. Write a program to use for loop to print the following reverse number pattern.\n",
    "#### 5 4 3 2 1 \n",
    "#### 4 3 2 1 \n",
    "#### 3 2 1 \n",
    "#### 2 1 \n",
    "#### 1"
   ]
  },
  {
   "cell_type": "code",
   "execution_count": 1,
   "id": "43dea5c3",
   "metadata": {},
   "outputs": [
    {
     "name": "stdout",
     "output_type": "stream",
     "text": [
      "enter the rows:2\n",
      "2 1 \n",
      "1 \n"
     ]
    }
   ],
   "source": [
    "rows = int(input('enter the rows:'))\n",
    "for i in range(0,rows):\n",
    "  for j in range(rows-i,0,-1):\n",
    "    print(j,end=' ')\n",
    "  print()"
   ]
  },
  {
   "cell_type": "markdown",
   "id": "281ce7a3",
   "metadata": {},
   "source": [
    "### 02.Print the following pattern.\n",
    "### * \n",
    "### * * \n",
    "### * * * \n",
    "### * * * * \n",
    "### * * * * * \n",
    "### * * * * \n",
    "### * * * \n",
    "### * * \n",
    "### *"
   ]
  },
  {
   "cell_type": "code",
   "execution_count": 2,
   "id": "bd066bec",
   "metadata": {},
   "outputs": [
    {
     "name": "stdout",
     "output_type": "stream",
     "text": [
      "enter the rows:9\n",
      "* \n",
      "* * \n",
      "* * * \n",
      "* * * * \n",
      "* * * * * \n",
      "* * * * * * \n",
      "* * * * * * * \n",
      "* * * * * * * * \n",
      "* * * * * * * * * \n",
      "* * * * * * * * \n",
      "* * * * * * * \n",
      "* * * * * * \n",
      "* * * * * \n",
      "* * * * \n",
      "* * * \n",
      "* * \n",
      "* \n"
     ]
    }
   ],
   "source": [
    "rows = int(input('enter the rows:'))\n",
    "for i in range(1,rows+1):\n",
    "  for j in range(0,i):\n",
    "    print('*',end=' ')\n",
    "  print()\n",
    "for i in range(1,rows):\n",
    "  for j in range(rows-i,0,-1):\n",
    "    print('*',end=' ')\n",
    "  print()"
   ]
  },
  {
   "cell_type": "markdown",
   "id": "a7931025",
   "metadata": {},
   "source": [
    "### 03.Write a program to pring the following pattern\n",
    "###    *\n",
    "###   * *\n",
    "###  * * *"
   ]
  },
  {
   "cell_type": "code",
   "execution_count": 3,
   "id": "a8f5a3ba",
   "metadata": {},
   "outputs": [
    {
     "name": "stdout",
     "output_type": "stream",
     "text": [
      "      * \n",
      "     * * \n",
      "    * * * \n",
      "   * * * * \n",
      "  * * * * * \n",
      " * * * * * * \n"
     ]
    }
   ],
   "source": [
    "rows = 6\n",
    "for i in range(1,rows+1):\n",
    "  print(' '*rows,end='')\n",
    "  print('* '*i)\n",
    "  rows = rows - 1"
   ]
  },
  {
   "cell_type": "raw",
   "id": "a76e5a11",
   "metadata": {},
   "source": [
    "04.Write a program to print the following pattern\n",
    "1\n",
    "2 1\n",
    "3 2 1\n",
    "4 3 2 1\n",
    "5 4 3 2 1"
   ]
  },
  {
   "cell_type": "code",
   "execution_count": 4,
   "id": "4d52a35f",
   "metadata": {},
   "outputs": [
    {
     "name": "stdout",
     "output_type": "stream",
     "text": [
      "1 \n",
      "2 1 \n",
      "3 2 1 \n",
      "4 3 2 1 \n",
      "5 4 3 2 1 \n"
     ]
    }
   ],
   "source": [
    "rows = 5\n",
    "for i in range(1,rows+1):\n",
    "  for j in range(i,0,-1):\n",
    "    print(j,end=' ')\n",
    "  print()"
   ]
  },
  {
   "cell_type": "markdown",
   "id": "accf8c2c",
   "metadata": {},
   "source": [
    "### 05.Write a Python Program to Find the Sum of the Series till the nth term:1 + x^2/2 + x^3/3 + … x^n/n  n will be provided by the user."
   ]
  },
  {
   "cell_type": "code",
   "execution_count": 5,
   "id": "83899797",
   "metadata": {},
   "outputs": [
    {
     "name": "stdout",
     "output_type": "stream",
     "text": [
      "1 + x^2/2 +x^3/3 +x^4/4 +x^5/5 \n",
      "22884.333333333332\n"
     ]
    }
   ],
   "source": [
    "x = 10\n",
    "n = 5\n",
    "sum = 1\n",
    "s = ''\n",
    "print('1 + ',end='')\n",
    "for i in range(2,n+1):\n",
    "  sum = sum + x**i/i\n",
    "  s = s + 'x^{}/{} +'.format(i,i)\n",
    "print(s[:-1])\n",
    "print(sum)"
   ]
  },
  {
   "cell_type": "markdown",
   "id": "3b73e1cc",
   "metadata": {},
   "source": [
    "### 06.The natural logarithm can be approximated by the following series\n",
    "### (1/1)*((x-1)/x)^1 +(1/2)*((x-1)/x)^2 +(1/3)*((x-1)/x)^3 +(1/4)*((x-1)/x)^4 +(1/5)*((x-1)/x)^5.............(1/n)*((x-1)/x)^n\n",
    "### If x is input through the keyboard, write a program to calculate the sum of the first seven terms of this series."
   ]
  },
  {
   "cell_type": "code",
   "execution_count": 6,
   "id": "f0735978",
   "metadata": {},
   "outputs": [
    {
     "name": "stdout",
     "output_type": "stream",
     "text": [
      "(1/1)*((x-1)/x)^1 +(1/2)*((x-1)/x)^2 +(1/3)*((x-1)/x)^3 +(1/4)*((x-1)/x)^4 +(1/5)*((x-1)/x)^5 \n",
      "1.8301230000000004\n"
     ]
    }
   ],
   "source": [
    "x = 10\n",
    "n = 5\n",
    "sum = 0\n",
    "s = ''\n",
    "for i in range(1,n+1):\n",
    "  sum = sum + (1/i)*((x-1)/x)**i\n",
    "  s = s + '(1/{})*((x-1)/x)^{} +'.format(i,i)\n",
    "print(s[:-1])\n",
    "print(sum)"
   ]
  },
  {
   "cell_type": "markdown",
   "id": "99ecb1dc",
   "metadata": {},
   "source": [
    "### 07.Write a program to calculate the sum of series up to n term. Take the user input and then calculate. And the output style should match which is given in the  example. Input:5 Output:2+22+222+2222+22222  Sum of above series is: 24690"
   ]
  },
  {
   "cell_type": "code",
   "execution_count": 7,
   "id": "27e764fc",
   "metadata": {},
   "outputs": [
    {
     "name": "stdout",
     "output_type": "stream",
     "text": [
      "enter the number of terms8\n",
      "2+22+222+2222+22222+222222+2222222+22222222\n",
      "24691356\n"
     ]
    }
   ],
   "source": [
    "n = int(input('enter the number of terms'))\n",
    "start = 2\n",
    "sum = 0\n",
    "for i in range(0,n):\n",
    "  if i < n-1:\n",
    "    print(start,end='+')\n",
    "  else:\n",
    "    print(start)\n",
    "  sum = sum + start\n",
    "  start = start*10 + 2\n",
    "print(sum)"
   ]
  },
  {
   "cell_type": "markdown",
   "id": "3953fe9e",
   "metadata": {},
   "source": [
    "### 08.Write a program to print all the unique combinations of 1,2,3 and 4."
   ]
  },
  {
   "cell_type": "code",
   "execution_count": 8,
   "id": "53afb088",
   "metadata": {},
   "outputs": [
    {
     "name": "stdout",
     "output_type": "stream",
     "text": [
      "1 1 1 1\n",
      "1 1 1 2\n",
      "1 1 1 3\n",
      "1 1 1 4\n",
      "1 1 2 1\n",
      "1 1 2 2\n",
      "1 1 2 3\n",
      "1 1 2 4\n",
      "1 1 3 1\n",
      "1 1 3 2\n",
      "1 1 3 3\n",
      "1 1 3 4\n",
      "1 1 4 1\n",
      "1 1 4 2\n",
      "1 1 4 3\n",
      "1 1 4 4\n",
      "1 2 1 1\n",
      "1 2 1 2\n",
      "1 2 1 3\n",
      "1 2 1 4\n",
      "1 2 2 1\n",
      "1 2 2 2\n",
      "1 2 2 3\n",
      "1 2 2 4\n",
      "1 2 3 1\n",
      "1 2 3 2\n",
      "1 2 3 3\n",
      "1 2 3 4\n",
      "1 2 4 1\n",
      "1 2 4 2\n",
      "1 2 4 3\n",
      "1 2 4 4\n",
      "1 3 1 1\n",
      "1 3 1 2\n",
      "1 3 1 3\n",
      "1 3 1 4\n",
      "1 3 2 1\n",
      "1 3 2 2\n",
      "1 3 2 3\n",
      "1 3 2 4\n",
      "1 3 3 1\n",
      "1 3 3 2\n",
      "1 3 3 3\n",
      "1 3 3 4\n",
      "1 3 4 1\n",
      "1 3 4 2\n",
      "1 3 4 3\n",
      "1 3 4 4\n",
      "1 4 1 1\n",
      "1 4 1 2\n",
      "1 4 1 3\n",
      "1 4 1 4\n",
      "1 4 2 1\n",
      "1 4 2 2\n",
      "1 4 2 3\n",
      "1 4 2 4\n",
      "1 4 3 1\n",
      "1 4 3 2\n",
      "1 4 3 3\n",
      "1 4 3 4\n",
      "1 4 4 1\n",
      "1 4 4 2\n",
      "1 4 4 3\n",
      "1 4 4 4\n",
      "2 1 1 1\n",
      "2 1 1 2\n",
      "2 1 1 3\n",
      "2 1 1 4\n",
      "2 1 2 1\n",
      "2 1 2 2\n",
      "2 1 2 3\n",
      "2 1 2 4\n",
      "2 1 3 1\n",
      "2 1 3 2\n",
      "2 1 3 3\n",
      "2 1 3 4\n",
      "2 1 4 1\n",
      "2 1 4 2\n",
      "2 1 4 3\n",
      "2 1 4 4\n",
      "2 2 1 1\n",
      "2 2 1 2\n",
      "2 2 1 3\n",
      "2 2 1 4\n",
      "2 2 2 1\n",
      "2 2 2 2\n",
      "2 2 2 3\n",
      "2 2 2 4\n",
      "2 2 3 1\n",
      "2 2 3 2\n",
      "2 2 3 3\n",
      "2 2 3 4\n",
      "2 2 4 1\n",
      "2 2 4 2\n",
      "2 2 4 3\n",
      "2 2 4 4\n",
      "2 3 1 1\n",
      "2 3 1 2\n",
      "2 3 1 3\n",
      "2 3 1 4\n",
      "2 3 2 1\n",
      "2 3 2 2\n",
      "2 3 2 3\n",
      "2 3 2 4\n",
      "2 3 3 1\n",
      "2 3 3 2\n",
      "2 3 3 3\n",
      "2 3 3 4\n",
      "2 3 4 1\n",
      "2 3 4 2\n",
      "2 3 4 3\n",
      "2 3 4 4\n",
      "2 4 1 1\n",
      "2 4 1 2\n",
      "2 4 1 3\n",
      "2 4 1 4\n",
      "2 4 2 1\n",
      "2 4 2 2\n",
      "2 4 2 3\n",
      "2 4 2 4\n",
      "2 4 3 1\n",
      "2 4 3 2\n",
      "2 4 3 3\n",
      "2 4 3 4\n",
      "2 4 4 1\n",
      "2 4 4 2\n",
      "2 4 4 3\n",
      "2 4 4 4\n",
      "3 1 1 1\n",
      "3 1 1 2\n",
      "3 1 1 3\n",
      "3 1 1 4\n",
      "3 1 2 1\n",
      "3 1 2 2\n",
      "3 1 2 3\n",
      "3 1 2 4\n",
      "3 1 3 1\n",
      "3 1 3 2\n",
      "3 1 3 3\n",
      "3 1 3 4\n",
      "3 1 4 1\n",
      "3 1 4 2\n",
      "3 1 4 3\n",
      "3 1 4 4\n",
      "3 2 1 1\n",
      "3 2 1 2\n",
      "3 2 1 3\n",
      "3 2 1 4\n",
      "3 2 2 1\n",
      "3 2 2 2\n",
      "3 2 2 3\n",
      "3 2 2 4\n",
      "3 2 3 1\n",
      "3 2 3 2\n",
      "3 2 3 3\n",
      "3 2 3 4\n",
      "3 2 4 1\n",
      "3 2 4 2\n",
      "3 2 4 3\n",
      "3 2 4 4\n",
      "3 3 1 1\n",
      "3 3 1 2\n",
      "3 3 1 3\n",
      "3 3 1 4\n",
      "3 3 2 1\n",
      "3 3 2 2\n",
      "3 3 2 3\n",
      "3 3 2 4\n",
      "3 3 3 1\n",
      "3 3 3 2\n",
      "3 3 3 3\n",
      "3 3 3 4\n",
      "3 3 4 1\n",
      "3 3 4 2\n",
      "3 3 4 3\n",
      "3 3 4 4\n",
      "3 4 1 1\n",
      "3 4 1 2\n",
      "3 4 1 3\n",
      "3 4 1 4\n",
      "3 4 2 1\n",
      "3 4 2 2\n",
      "3 4 2 3\n",
      "3 4 2 4\n",
      "3 4 3 1\n",
      "3 4 3 2\n",
      "3 4 3 3\n",
      "3 4 3 4\n",
      "3 4 4 1\n",
      "3 4 4 2\n",
      "3 4 4 3\n",
      "3 4 4 4\n",
      "4 1 1 1\n",
      "4 1 1 2\n",
      "4 1 1 3\n",
      "4 1 1 4\n",
      "4 1 2 1\n",
      "4 1 2 2\n",
      "4 1 2 3\n",
      "4 1 2 4\n",
      "4 1 3 1\n",
      "4 1 3 2\n",
      "4 1 3 3\n",
      "4 1 3 4\n",
      "4 1 4 1\n",
      "4 1 4 2\n",
      "4 1 4 3\n",
      "4 1 4 4\n",
      "4 2 1 1\n",
      "4 2 1 2\n",
      "4 2 1 3\n",
      "4 2 1 4\n",
      "4 2 2 1\n",
      "4 2 2 2\n",
      "4 2 2 3\n",
      "4 2 2 4\n",
      "4 2 3 1\n",
      "4 2 3 2\n",
      "4 2 3 3\n",
      "4 2 3 4\n",
      "4 2 4 1\n",
      "4 2 4 2\n",
      "4 2 4 3\n",
      "4 2 4 4\n",
      "4 3 1 1\n",
      "4 3 1 2\n",
      "4 3 1 3\n",
      "4 3 1 4\n",
      "4 3 2 1\n",
      "4 3 2 2\n",
      "4 3 2 3\n",
      "4 3 2 4\n",
      "4 3 3 1\n",
      "4 3 3 2\n",
      "4 3 3 3\n",
      "4 3 3 4\n",
      "4 3 4 1\n",
      "4 3 4 2\n",
      "4 3 4 3\n",
      "4 3 4 4\n",
      "4 4 1 1\n",
      "4 4 1 2\n",
      "4 4 1 3\n",
      "4 4 1 4\n",
      "4 4 2 1\n",
      "4 4 2 2\n",
      "4 4 2 3\n",
      "4 4 2 4\n",
      "4 4 3 1\n",
      "4 4 3 2\n",
      "4 4 3 3\n",
      "4 4 3 4\n",
      "4 4 4 1\n",
      "4 4 4 2\n",
      "4 4 4 3\n",
      "4 4 4 4\n"
     ]
    }
   ],
   "source": [
    "for i in range(1,5):\n",
    "  for j in range(1,5):\n",
    "    for k in range(1,5):\n",
    "      for m in range(1,5):\n",
    "        print(i,j,k,m)"
   ]
  },
  {
   "cell_type": "markdown",
   "id": "c6902227",
   "metadata": {},
   "source": [
    "### 09.Write a program that will take a decimal number as input and prints out the binary equivalent of the number."
   ]
  },
  {
   "cell_type": "code",
   "execution_count": 9,
   "id": "24273dec",
   "metadata": {},
   "outputs": [
    {
     "name": "stdout",
     "output_type": "stream",
     "text": [
      "enter the number8\n",
      "1000"
     ]
    }
   ],
   "source": [
    "n = int(input('enter the number'))\n",
    "binary = []\n",
    "while n > 0:\n",
    "  binary.append(n%2)\n",
    "  n = n//2\n",
    "for i in binary[::-1]:\n",
    "  print(i,end='')"
   ]
  },
  {
   "cell_type": "markdown",
   "id": "8411f531",
   "metadata": {},
   "source": [
    "### 10. Write a program that will take 2 numbers as input and prints the LCM and HCF of those 2 numbers."
   ]
  },
  {
   "cell_type": "code",
   "execution_count": 11,
   "id": "991952e0",
   "metadata": {},
   "outputs": [
    {
     "name": "stdout",
     "output_type": "stream",
     "text": [
      "enter 1st number9\n",
      "enter 2nd number8\n",
      "72\n"
     ]
    }
   ],
   "source": [
    "x = int(input('enter 1st number'))\n",
    "y = int(input('enter 2nd number'))\n",
    "if x>y:\n",
    "  greater = x\n",
    "else:\n",
    "  greater = y\n",
    "while True:\n",
    "  if (greater % x == 0) and (greater % y == 0):\n",
    "    lcm = greater\n",
    "    break\n",
    "  \n",
    "  greater = greater + 1\n",
    "print(lcm)"
   ]
  },
  {
   "cell_type": "code",
   "execution_count": 12,
   "id": "2766916b",
   "metadata": {},
   "outputs": [
    {
     "name": "stdout",
     "output_type": "stream",
     "text": [
      "enter 1st number:7\n",
      "enter 2nd number:8\n",
      "1\n"
     ]
    }
   ],
   "source": [
    "x = int(input('enter 1st number:'))\n",
    "y = int(input('enter 2nd number:'))\n",
    "if x<y:\n",
    "  smaller = x\n",
    "else:\n",
    "  smaller = y\n",
    "for i in range(1,smaller+1):\n",
    "  if (x % i == 0) and (y % i == 0):\n",
    "    hcf = i\n",
    "print(hcf)"
   ]
  },
  {
   "cell_type": "markdown",
   "id": "23381add",
   "metadata": {},
   "source": [
    "### 11.Create Short Form from initial character.Given a string create short form ofthe string from Initial character. \n",
    "### Short form should be capitalised. Example: Input:Data science mentorship program  Output:DSMP"
   ]
  },
  {
   "cell_type": "code",
   "execution_count": 13,
   "id": "1662793c",
   "metadata": {},
   "outputs": [
    {
     "name": "stdout",
     "output_type": "stream",
     "text": [
      "DSMP\n"
     ]
    }
   ],
   "source": [
    "inp = 'Data science Mentorship Program'\n",
    "res = ''\n",
    "for i in inp.split():\n",
    "  res = res + i[0].upper()\n",
    "print(res)"
   ]
  },
  {
   "cell_type": "markdown",
   "id": "6a4c5072",
   "metadata": {},
   "source": [
    "### 12.Append second string in the middle of first string\n",
    "### Input:campusx\n",
    "###       data\n",
    "### Output:camdatapusx"
   ]
  },
  {
   "cell_type": "code",
   "execution_count": 14,
   "id": "0b95c4cf",
   "metadata": {},
   "outputs": [
    {
     "name": "stdout",
     "output_type": "stream",
     "text": [
      "enter the 1st stringcampusx\n",
      "enter the 2nd stringdata\n",
      "camdatapusx\n"
     ]
    }
   ],
   "source": [
    "s1 = input('enter the 1st string')\n",
    "s2 = input('enter the 2nd string')\n",
    "print(s1[0:int(len(s1)/2)] + s2 + s1[int(len(s1)/2):])"
   ]
  },
  {
   "cell_type": "markdown",
   "id": "2acf16e2",
   "metadata": {},
   "source": [
    "### 13.Given string contains a combination of the lower and upper case letters. Write a program to arrange the characters of a string so that all lowercase letters should come first.\n",
    "### Given: str1 = PyNaTive   Expected Output: yaivePNT"
   ]
  },
  {
   "cell_type": "code",
   "execution_count": 15,
   "id": "9d4d28f7",
   "metadata": {},
   "outputs": [
    {
     "name": "stdout",
     "output_type": "stream",
     "text": [
      "yaivePNT\n"
     ]
    }
   ],
   "source": [
    "s = 'PyNaTive'\n",
    "upper = ''\n",
    "lower = ''\n",
    "for i in s:\n",
    "  if i.islower():\n",
    "    lower = lower + i\n",
    "  else:\n",
    "    upper = upper + i\n",
    "print(lower + upper)"
   ]
  },
  {
   "cell_type": "markdown",
   "id": "c91f6bbb",
   "metadata": {},
   "source": [
    "### 14.Take a alphanumeric string input and print the sum and average of the digits that appear in the string, ignoring all other characters.\n",
    "### Input: hel123O4every093 Output: Sum: 22   Avg: 2.75  count:7"
   ]
  },
  {
   "cell_type": "code",
   "execution_count": 16,
   "id": "af45c6d7",
   "metadata": {},
   "outputs": [
    {
     "name": "stdout",
     "output_type": "stream",
     "text": [
      "22\n",
      "3.142857142857143\n",
      "7\n"
     ]
    }
   ],
   "source": [
    "s = 'hel123O4every093'\n",
    "sum = 0\n",
    "count = 0\n",
    "for i in s:\n",
    "  if i.isdigit():\n",
    "    sum = sum + int(i)\n",
    "    count += 1\n",
    "print(sum)\n",
    "print(sum/count)\n",
    "print(count)"
   ]
  },
  {
   "cell_type": "markdown",
   "id": "344599a1",
   "metadata": {},
   "source": [
    "### 15.Removal of all characters from a string except integers Given: str1 = 'I am 25 years and 10 months old' Expected Output: 2510"
   ]
  },
  {
   "cell_type": "code",
   "execution_count": 17,
   "id": "a8106efe",
   "metadata": {},
   "outputs": [
    {
     "name": "stdout",
     "output_type": "stream",
     "text": [
      "2510\n"
     ]
    }
   ],
   "source": [
    "s = 'I am 25 years and 10 months old'\n",
    "res = ''\n",
    "for i in s:\n",
    "  if i.isdigit():\n",
    "    res = res + i\n",
    "print(res)"
   ]
  },
  {
   "cell_type": "markdown",
   "id": "1e835e1e",
   "metadata": {},
   "source": [
    "###  16. Check whether the string is Symmetrical.\n",
    "### Statement: Given a string. the task is to check if the string is symmetrical or not. A string is said to be symmetrical if both the halves of the string are the same. Example 1: Input:khokho   Output:The entered string is symmetrical"
   ]
  },
  {
   "cell_type": "code",
   "execution_count": 18,
   "id": "6949b60e",
   "metadata": {},
   "outputs": [
    {
     "name": "stdout",
     "output_type": "stream",
     "text": [
      "enter the stringkokokololki\n",
      "not symmetrical\n"
     ]
    }
   ],
   "source": [
    "s = input('enter the string')\n",
    "if len(s)%2 == 0:\n",
    "  s1 = s[0:len(s)//2]\n",
    "  s2 = s[len(s)//2:]\n",
    "else:\n",
    "  s1 = s[0:len(s)//2]\n",
    "  s2 = s[len(s)//2 + 1:]\n",
    "if s1 == s2:\n",
    "  print('symmetrical')\n",
    "else:\n",
    "  print('not symmetrical')"
   ]
  },
  {
   "cell_type": "markdown",
   "id": "622c2e59",
   "metadata": {},
   "source": [
    "### 17.Reverse words in a given String.Statement: We are given a string and we need to reverse words of a given string.\n",
    "### Example:Input: geeks quiz practice code  Output: code practice quiz geeks"
   ]
  },
  {
   "cell_type": "code",
   "execution_count": 19,
   "id": "faac4692",
   "metadata": {},
   "outputs": [
    {
     "name": "stdout",
     "output_type": "stream",
     "text": [
      "geeks quiz practice code\n"
     ]
    }
   ],
   "source": [
    "# Code here\n",
    "s = 'code practice quiz geeks'\n",
    "L = []\n",
    "for i in s.split():\n",
    "  L.append(i)\n",
    "L = L[::-1]\n",
    "print(\" \".join(L))"
   ]
  },
  {
   "cell_type": "markdown",
   "id": "85c125a0",
   "metadata": {},
   "source": [
    "### 18.Find uncommon words from two Strings.\n",
    "### Statement: Given two sentences as strings A and B. The task is to return a list of all uncommon words. A word is uncommon if it appears exactly once in any one of the sentences, and does not appear in the other sentence. Note: A sentence is a string of space-separated words. Each word consists only of lowercase letters."
   ]
  },
  {
   "cell_type": "code",
   "execution_count": 18,
   "id": "63152ef9",
   "metadata": {},
   "outputs": [
    {
     "name": "stdout",
     "output_type": "stream",
     "text": [
      "['apple', 'fruits']\n"
     ]
    }
   ],
   "source": [
    "A = \"apple banana mango\" \n",
    "B = \"banana fruits mango\"\n",
    "L = []\n",
    "for i in A.split():\n",
    "  if i not in B and i not in L:\n",
    "    L.append(i)\n",
    "for j in B.split():\n",
    "  if j not in A and j not in L:\n",
    "    L.append(j)\n",
    "print(L)"
   ]
  },
  {
   "cell_type": "markdown",
   "id": "0a7fc90f",
   "metadata": {},
   "source": [
    "### 19.Word location in String.\n",
    "### Statement: Find a location of a word in a given sentence.Example 1: Input:Sentence: We can learn data science through campusx mentorship program. word: campusx Output:Location of the word is 7. Note- Don't use index/find functions"
   ]
  },
  {
   "cell_type": "code",
   "execution_count": 17,
   "id": "fd5839e2",
   "metadata": {},
   "outputs": [
    {
     "name": "stdout",
     "output_type": "stream",
     "text": [
      "7\n"
     ]
    }
   ],
   "source": [
    "s = 'We can learn data science through campusx mentorship program.'\n",
    "word = 'campusx'\n",
    "pos = 0\n",
    "for i in s.split():\n",
    "  pos += 1\n",
    "  if i == word:\n",
    "    break\n",
    "  \n",
    "print(pos)"
   ]
  },
  {
   "cell_type": "markdown",
   "id": "b4e28407",
   "metadata": {},
   "source": [
    "### 20.Write a program that can remove all the duplicate characters from a string. User will provide the input."
   ]
  },
  {
   "cell_type": "code",
   "execution_count": 16,
   "id": "64b83dd2",
   "metadata": {},
   "outputs": [
    {
     "name": "stdout",
     "output_type": "stream",
     "text": [
      "abcdef\n"
     ]
    }
   ],
   "source": [
    "s = 'aaaabbbbbccccdddeeeeffff'\n",
    "res = ''\n",
    "for i in s:\n",
    "  if i not in res:\n",
    "    res = res + i\n",
    "print(res)"
   ]
  },
  {
   "cell_type": "code",
   "execution_count": null,
   "id": "721fb202",
   "metadata": {},
   "outputs": [],
   "source": []
  }
 ],
 "metadata": {
  "kernelspec": {
   "display_name": "Python 3 (ipykernel)",
   "language": "python",
   "name": "python3"
  },
  "language_info": {
   "codemirror_mode": {
    "name": "ipython",
    "version": 3
   },
   "file_extension": ".py",
   "mimetype": "text/x-python",
   "name": "python",
   "nbconvert_exporter": "python",
   "pygments_lexer": "ipython3",
   "version": "3.9.13"
  }
 },
 "nbformat": 4,
 "nbformat_minor": 5
}
