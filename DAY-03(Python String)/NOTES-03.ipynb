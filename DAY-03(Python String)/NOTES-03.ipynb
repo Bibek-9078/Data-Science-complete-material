{
 "cells": [
  {
   "cell_type": "markdown",
   "id": "c79d36a5",
   "metadata": {},
   "source": [
    "# STRING "
   ]
  },
  {
   "cell_type": "markdown",
   "id": "67f7d976",
   "metadata": {},
   "source": [
    "### 1.Strings are sequence of Characters.\n",
    "### 2.In Python specifically, strings are a sequence of Unicode Characters."
   ]
  },
  {
   "cell_type": "markdown",
   "id": "8c02017b",
   "metadata": {},
   "source": [
    "## 1.CREATE A STRING "
   ]
  },
  {
   "cell_type": "markdown",
   "id": "2e2a6168",
   "metadata": {},
   "source": [
    "### * String can be created by enclosing characters inside a single or double quotes.\n",
    "### * tripple quote can be represented as multiline string."
   ]
  },
  {
   "cell_type": "code",
   "execution_count": 1,
   "id": "fcd8e12a",
   "metadata": {},
   "outputs": [
    {
     "name": "stdout",
     "output_type": "stream",
     "text": [
      "Hello\n"
     ]
    }
   ],
   "source": [
    "c = 'Hello' # single line strings\n",
    "print(c)"
   ]
  },
  {
   "cell_type": "code",
   "execution_count": 2,
   "id": "603bf462",
   "metadata": {},
   "outputs": [
    {
     "name": "stdout",
     "output_type": "stream",
     "text": [
      "Hello\n"
     ]
    }
   ],
   "source": [
    "c = \"Hello\"  # double line strings\n",
    "print(c)"
   ]
  },
  {
   "cell_type": "code",
   "execution_count": 3,
   "id": "39f7639b",
   "metadata": {},
   "outputs": [
    {
     "name": "stdout",
     "output_type": "stream",
     "text": [
      "Hello\n"
     ]
    }
   ],
   "source": [
    "c = '''Hello'''\n",
    "print(c)  # multi line strings"
   ]
  },
  {
   "cell_type": "markdown",
   "id": "33fd3679",
   "metadata": {},
   "source": [
    "## 2.ACCESS SUBSTRING FROM STRING "
   ]
  },
  {
   "cell_type": "markdown",
   "id": "d189cd2e",
   "metadata": {},
   "source": [
    "### 1.We can access individual characters useing indexing and a  range of character useing slicing.\n",
    "### 2. index starts from zeros.\n",
    "### 3. trying o access a character out of index range will be raise a error.\n",
    "### 4. The index must be an integer we can not use float or other types ,this will result into type error.\n",
    "### 5. python allows negative index for its sequence."
   ]
  },
  {
   "cell_type": "markdown",
   "id": "77ddeed0",
   "metadata": {},
   "source": [
    "## Concept of Indexing:The indexing  are two types \n",
    "## 1.Positive Indexing(left to right)\n",
    "## 2.Negative Indexing(right to left)"
   ]
  },
  {
   "cell_type": "code",
   "execution_count": 4,
   "id": "f9f3954a",
   "metadata": {},
   "outputs": [
    {
     "name": "stdout",
     "output_type": "stream",
     "text": [
      "h\n"
     ]
    }
   ],
   "source": [
    "c = \"hello\"\n",
    "print(c[0])          # Positive Indexing"
   ]
  },
  {
   "cell_type": "code",
   "execution_count": 5,
   "id": "89a55733",
   "metadata": {},
   "outputs": [
    {
     "name": "stdout",
     "output_type": "stream",
     "text": [
      "o\n"
     ]
    }
   ],
   "source": [
    "c = \"hello\"\n",
    "print(c[-1])         #Negative Indexing"
   ]
  },
  {
   "cell_type": "markdown",
   "id": "b7fe6a85",
   "metadata": {},
   "source": [
    "### Concept Slicing"
   ]
  },
  {
   "cell_type": "code",
   "execution_count": 6,
   "id": "a424ca8f",
   "metadata": {},
   "outputs": [],
   "source": [
    "c = \"Hello World\""
   ]
  },
  {
   "cell_type": "code",
   "execution_count": 7,
   "id": "db0de08d",
   "metadata": {},
   "outputs": [
    {
     "name": "stdout",
     "output_type": "stream",
     "text": [
      "Hello World\n"
     ]
    }
   ],
   "source": [
    "print(c)"
   ]
  },
  {
   "cell_type": "code",
   "execution_count": 8,
   "id": "45e091b4",
   "metadata": {},
   "outputs": [
    {
     "name": "stdout",
     "output_type": "stream",
     "text": [
      "Hello\n"
     ]
    }
   ],
   "source": [
    "print(c[0:5])"
   ]
  },
  {
   "cell_type": "code",
   "execution_count": 9,
   "id": "dd4596db",
   "metadata": {},
   "outputs": [
    {
     "name": "stdout",
     "output_type": "stream",
     "text": [
      "Hello\n"
     ]
    }
   ],
   "source": [
    "print(c[0:5])"
   ]
  },
  {
   "cell_type": "code",
   "execution_count": 10,
   "id": "d263a3e4",
   "metadata": {},
   "outputs": [
    {
     "name": "stdout",
     "output_type": "stream",
     "text": [
      "llo World\n"
     ]
    }
   ],
   "source": [
    "print(c[2:])"
   ]
  },
  {
   "cell_type": "code",
   "execution_count": 11,
   "id": "44ad7b05",
   "metadata": {},
   "outputs": [
    {
     "name": "stdout",
     "output_type": "stream",
     "text": [
      "Hell\n"
     ]
    }
   ],
   "source": [
    "print(c[:4])"
   ]
  },
  {
   "cell_type": "code",
   "execution_count": 12,
   "id": "3165b520",
   "metadata": {},
   "outputs": [
    {
     "name": "stdout",
     "output_type": "stream",
     "text": [
      "Hello World\n"
     ]
    }
   ],
   "source": [
    "print(c[:])"
   ]
  },
  {
   "cell_type": "code",
   "execution_count": 13,
   "id": "9f0ce328",
   "metadata": {},
   "outputs": [
    {
     "name": "stdout",
     "output_type": "stream",
     "text": [
      "HlW\n"
     ]
    }
   ],
   "source": [
    "print(c[0:8:3])"
   ]
  },
  {
   "cell_type": "code",
   "execution_count": 14,
   "id": "95a8c7f2",
   "metadata": {},
   "outputs": [
    {
     "name": "stdout",
     "output_type": "stream",
     "text": [
      "\n"
     ]
    }
   ],
   "source": [
    "print(c[0:6:-1])"
   ]
  },
  {
   "cell_type": "code",
   "execution_count": 15,
   "id": "12788adf",
   "metadata": {},
   "outputs": [
    {
     "name": "stdout",
     "output_type": "stream",
     "text": [
      "Wr\n"
     ]
    }
   ],
   "source": [
    "print(c[-5:-1:2])"
   ]
  },
  {
   "cell_type": "code",
   "execution_count": 16,
   "id": "863e3228",
   "metadata": {},
   "outputs": [
    {
     "name": "stdout",
     "output_type": "stream",
     "text": [
      "dlroW olleH\n"
     ]
    }
   ],
   "source": [
    "print(c[::-1])"
   ]
  },
  {
   "cell_type": "code",
   "execution_count": 17,
   "id": "79a65eda",
   "metadata": {},
   "outputs": [
    {
     "name": "stdout",
     "output_type": "stream",
     "text": [
      "dlro\n"
     ]
    }
   ],
   "source": [
    "print(c[-1:-5:-1])"
   ]
  },
  {
   "cell_type": "markdown",
   "id": "47bc5b13",
   "metadata": {},
   "source": [
    "## EDITIG AND DELETEING "
   ]
  },
  {
   "cell_type": "markdown",
   "id": "e063481f",
   "metadata": {},
   "source": [
    "### * Python strings are immutable.\n",
    "### * String are not deleted partially.But deleted complitely.\n",
    "### * String are not edit but re-assign it. "
   ]
  },
  {
   "cell_type": "markdown",
   "id": "e2fcb6cc",
   "metadata": {},
   "source": [
    "## OPERATION ON STRING "
   ]
  },
  {
   "cell_type": "markdown",
   "id": "71e7ad21",
   "metadata": {},
   "source": [
    "### Arithmetic Operations"
   ]
  },
  {
   "cell_type": "code",
   "execution_count": 18,
   "id": "93864f5f",
   "metadata": {},
   "outputs": [
    {
     "name": "stdout",
     "output_type": "stream",
     "text": [
      "Hello-world\n"
     ]
    }
   ],
   "source": [
    "print(\"Hello\" + \"-\" + \"world\")"
   ]
  },
  {
   "cell_type": "code",
   "execution_count": 19,
   "id": "a5fb7c0e",
   "metadata": {},
   "outputs": [
    {
     "name": "stdout",
     "output_type": "stream",
     "text": [
      "*****\n"
     ]
    }
   ],
   "source": [
    "print(\"*\"*5)"
   ]
  },
  {
   "cell_type": "code",
   "execution_count": 20,
   "id": "0f3418e8",
   "metadata": {},
   "outputs": [
    {
     "name": "stdout",
     "output_type": "stream",
     "text": [
      "False\n"
     ]
    }
   ],
   "source": [
    "print(\"hello\"== \"world\")"
   ]
  },
  {
   "cell_type": "markdown",
   "id": "e4a97a98",
   "metadata": {},
   "source": [
    "### Relational Operations"
   ]
  },
  {
   "cell_type": "code",
   "execution_count": 21,
   "id": "d21e80bd",
   "metadata": {},
   "outputs": [
    {
     "name": "stdout",
     "output_type": "stream",
     "text": [
      "False\n"
     ]
    }
   ],
   "source": [
    "print(\"Hello\" == \"World\")"
   ]
  },
  {
   "cell_type": "code",
   "execution_count": 22,
   "id": "9df1707c",
   "metadata": {},
   "outputs": [
    {
     "name": "stdout",
     "output_type": "stream",
     "text": [
      "True\n"
     ]
    }
   ],
   "source": [
    "print(\"Hello\" != \"World\")"
   ]
  },
  {
   "cell_type": "code",
   "execution_count": 23,
   "id": "d8dc1fbf",
   "metadata": {},
   "outputs": [
    {
     "name": "stdout",
     "output_type": "stream",
     "text": [
      "False\n"
     ]
    }
   ],
   "source": [
    "print(\"Mumbai\" > \"Pune\")# Lexicographically "
   ]
  },
  {
   "cell_type": "code",
   "execution_count": 24,
   "id": "c1d9b825",
   "metadata": {},
   "outputs": [
    {
     "name": "stdout",
     "output_type": "stream",
     "text": [
      "True\n"
     ]
    }
   ],
   "source": [
    "print(\"Goa\" < \"Kolkata\")"
   ]
  },
  {
   "cell_type": "code",
   "execution_count": 25,
   "id": "a17b79ec",
   "metadata": {},
   "outputs": [
    {
     "name": "stdout",
     "output_type": "stream",
     "text": [
      "False\n"
     ]
    }
   ],
   "source": [
    "print(\"kol\" < \"Kol\")"
   ]
  },
  {
   "cell_type": "markdown",
   "id": "d0472a81",
   "metadata": {},
   "source": [
    "### Logical Operations"
   ]
  },
  {
   "cell_type": "markdown",
   "id": "754af245",
   "metadata": {},
   "source": [
    "### *  \" \" -> False \"wreghr\" -> True"
   ]
  },
  {
   "cell_type": "code",
   "execution_count": 26,
   "id": "ea77fe99",
   "metadata": {},
   "outputs": [
    {
     "name": "stdout",
     "output_type": "stream",
     "text": [
      "world\n"
     ]
    }
   ],
   "source": [
    "print(\"hello\" and \"world\")"
   ]
  },
  {
   "cell_type": "code",
   "execution_count": 27,
   "id": "ce41dad8",
   "metadata": {},
   "outputs": [
    {
     "name": "stdout",
     "output_type": "stream",
     "text": [
      "Hello\n"
     ]
    }
   ],
   "source": [
    "print(\" \" and \"Hello\")"
   ]
  },
  {
   "cell_type": "code",
   "execution_count": 28,
   "id": "c5e95614",
   "metadata": {},
   "outputs": [
    {
     "name": "stdout",
     "output_type": "stream",
     "text": [
      " \n"
     ]
    }
   ],
   "source": [
    "print(\" \" or \"world\")"
   ]
  },
  {
   "cell_type": "code",
   "execution_count": 29,
   "id": "d00e96a5",
   "metadata": {},
   "outputs": [
    {
     "name": "stdout",
     "output_type": "stream",
     "text": [
      "hello\n"
     ]
    }
   ],
   "source": [
    "print(\"hello\" or \"world\")"
   ]
  },
  {
   "cell_type": "code",
   "execution_count": 30,
   "id": "1391e68c",
   "metadata": {},
   "outputs": [
    {
     "name": "stdout",
     "output_type": "stream",
     "text": [
      "world\n"
     ]
    }
   ],
   "source": [
    "print(\"hello\" and \"world\")"
   ]
  },
  {
   "cell_type": "code",
   "execution_count": 31,
   "id": "279d9b34",
   "metadata": {},
   "outputs": [
    {
     "name": "stdout",
     "output_type": "stream",
     "text": [
      "False\n"
     ]
    }
   ],
   "source": [
    "print(not \"hello\")"
   ]
  },
  {
   "cell_type": "code",
   "execution_count": 32,
   "id": "b1239030",
   "metadata": {},
   "outputs": [
    {
     "name": "stdout",
     "output_type": "stream",
     "text": [
      "True\n"
     ]
    }
   ],
   "source": [
    "print(not \"\")"
   ]
  },
  {
   "cell_type": "markdown",
   "id": "b9885917",
   "metadata": {},
   "source": [
    "### Membership Operations"
   ]
  },
  {
   "cell_type": "code",
   "execution_count": 33,
   "id": "3c6b8afb",
   "metadata": {},
   "outputs": [
    {
     "name": "stdout",
     "output_type": "stream",
     "text": [
      "True\n"
     ]
    }
   ],
   "source": [
    "print(\"D\" in \"Delhi\")"
   ]
  },
  {
   "cell_type": "code",
   "execution_count": 34,
   "id": "4aa9a897",
   "metadata": {},
   "outputs": [
    {
     "ename": "NameError",
     "evalue": "name 'Delhi' is not defined",
     "output_type": "error",
     "traceback": [
      "\u001b[1;31m---------------------------------------------------------------------------\u001b[0m",
      "\u001b[1;31mNameError\u001b[0m                                 Traceback (most recent call last)",
      "\u001b[1;32m~\\AppData\\Local\\Temp\\ipykernel_19172\\2459576480.py\u001b[0m in \u001b[0;36m<module>\u001b[1;34m\u001b[0m\n\u001b[1;32m----> 1\u001b[1;33m \u001b[0mprint\u001b[0m\u001b[1;33m(\u001b[0m\u001b[1;34m\"d\"\u001b[0m \u001b[1;32min\u001b[0m \u001b[0mDelhi\u001b[0m\u001b[1;33m)\u001b[0m\u001b[1;33m\u001b[0m\u001b[1;33m\u001b[0m\u001b[0m\n\u001b[0m",
      "\u001b[1;31mNameError\u001b[0m: name 'Delhi' is not defined"
     ]
    }
   ],
   "source": [
    "print(\"d\" in Delhi)"
   ]
  },
  {
   "cell_type": "markdown",
   "id": "ea90aaf4",
   "metadata": {},
   "source": [
    "## LOOPS ON STRING "
   ]
  },
  {
   "cell_type": "code",
   "execution_count": 63,
   "id": "475befb2",
   "metadata": {},
   "outputs": [
    {
     "name": "stdout",
     "output_type": "stream",
     "text": [
      "h\n",
      "e\n",
      "l\n",
      "l\n",
      "o\n"
     ]
    }
   ],
   "source": [
    "for i in 'hello':\n",
    "  print(i)"
   ]
  },
  {
   "cell_type": "code",
   "execution_count": 64,
   "id": "25687227",
   "metadata": {},
   "outputs": [
    {
     "name": "stdout",
     "output_type": "stream",
     "text": [
      "pune\n",
      "pune\n",
      "pune\n",
      "pune\n",
      "pune\n"
     ]
    }
   ],
   "source": [
    "for i in 'delhi':\n",
    "  print('pune')"
   ]
  },
  {
   "cell_type": "markdown",
   "id": "30023948",
   "metadata": {},
   "source": [
    "## String common function  "
   ]
  },
  {
   "cell_type": "code",
   "execution_count": 65,
   "id": "546ea6fc",
   "metadata": {},
   "outputs": [],
   "source": [
    "c = \"kolkata\""
   ]
  },
  {
   "cell_type": "markdown",
   "id": "34f1e7a6",
   "metadata": {},
   "source": [
    "### len:It is a function retunes number of items in an object"
   ]
  },
  {
   "cell_type": "code",
   "execution_count": 35,
   "id": "92eac910",
   "metadata": {},
   "outputs": [
    {
     "name": "stdout",
     "output_type": "stream",
     "text": [
      "11\n"
     ]
    }
   ],
   "source": [
    "print(len(c))"
   ]
  },
  {
   "cell_type": "markdown",
   "id": "787579d7",
   "metadata": {},
   "source": [
    "### max:It is a function retunes the items with heighest value "
   ]
  },
  {
   "cell_type": "code",
   "execution_count": 36,
   "id": "bfcfb027",
   "metadata": {},
   "outputs": [
    {
     "name": "stdout",
     "output_type": "stream",
     "text": [
      "r\n"
     ]
    }
   ],
   "source": [
    "print(max(c))"
   ]
  },
  {
   "cell_type": "markdown",
   "id": "9ab5b382",
   "metadata": {},
   "source": [
    "### min:It is a function retunes the items with lowest value "
   ]
  },
  {
   "cell_type": "code",
   "execution_count": 37,
   "id": "639c951f",
   "metadata": {},
   "outputs": [
    {
     "name": "stdout",
     "output_type": "stream",
     "text": [
      " \n"
     ]
    }
   ],
   "source": [
    "print(min(c))"
   ]
  },
  {
   "cell_type": "markdown",
   "id": "c5a67fae",
   "metadata": {},
   "source": [
    "### sorted:It is a function retunes the sorted list of the specified iterable object "
   ]
  },
  {
   "cell_type": "code",
   "execution_count": 38,
   "id": "b9e8ba37",
   "metadata": {},
   "outputs": [
    {
     "name": "stdout",
     "output_type": "stream",
     "text": [
      "['r', 'o', 'o', 'l', 'l', 'l', 'e', 'd', 'W', 'H', ' ']\n"
     ]
    }
   ],
   "source": [
    "print(sorted(c,reverse=True))"
   ]
  },
  {
   "cell_type": "markdown",
   "id": "2ebd518d",
   "metadata": {},
   "source": [
    "### 1. Capitalize:Converts the first character to upper case"
   ]
  },
  {
   "cell_type": "code",
   "execution_count": 39,
   "id": "9ba47013",
   "metadata": {},
   "outputs": [
    {
     "name": "stdout",
     "output_type": "stream",
     "text": [
      "It is raining today\n"
     ]
    }
   ],
   "source": [
    "c = \"kolkata\"\n",
    "print(\"it is raining today\".capitalize())"
   ]
  },
  {
   "cell_type": "markdown",
   "id": "1d40860e",
   "metadata": {},
   "source": [
    "### Title:Converts the first character of each word to upper case"
   ]
  },
  {
   "cell_type": "code",
   "execution_count": 40,
   "id": "07e90c06",
   "metadata": {},
   "outputs": [
    {
     "name": "stdout",
     "output_type": "stream",
     "text": [
      "It Is Raining Today\n"
     ]
    }
   ],
   "source": [
    "c = \"kolkata\"\n",
    "print(\"it is raining today\".title())"
   ]
  },
  {
   "cell_type": "markdown",
   "id": "785a1d07",
   "metadata": {},
   "source": [
    "### Upper:Converts a string into upper case"
   ]
  },
  {
   "cell_type": "code",
   "execution_count": 41,
   "id": "86ee264d",
   "metadata": {},
   "outputs": [
    {
     "name": "stdout",
     "output_type": "stream",
     "text": [
      "KOLKATA\n"
     ]
    }
   ],
   "source": [
    "print(c.upper())"
   ]
  },
  {
   "cell_type": "markdown",
   "id": "3aeef007",
   "metadata": {},
   "source": [
    "### Lower:Converts a string into lower case"
   ]
  },
  {
   "cell_type": "code",
   "execution_count": 42,
   "id": "0907116b",
   "metadata": {},
   "outputs": [
    {
     "name": "stdout",
     "output_type": "stream",
     "text": [
      "kolkata\n"
     ]
    }
   ],
   "source": [
    "print(c.lower())"
   ]
  },
  {
   "cell_type": "markdown",
   "id": "28d0be3f",
   "metadata": {},
   "source": [
    "### Swapcase:Swaps cases, lower case becomes upper case and vice versa"
   ]
  },
  {
   "cell_type": "code",
   "execution_count": 43,
   "id": "7dd9832c",
   "metadata": {},
   "outputs": [
    {
     "name": "stdout",
     "output_type": "stream",
     "text": [
      "kOlKaTa\n"
     ]
    }
   ],
   "source": [
    "print(\"KoLkAtA\".swapcase())"
   ]
  },
  {
   "cell_type": "markdown",
   "id": "de3dc21e",
   "metadata": {},
   "source": [
    "### 2. Count:Returns the number of times a specified value occurs in a string"
   ]
  },
  {
   "cell_type": "code",
   "execution_count": 44,
   "id": "b36961d4",
   "metadata": {},
   "outputs": [
    {
     "name": "stdout",
     "output_type": "stream",
     "text": [
      "0\n"
     ]
    }
   ],
   "source": [
    "print(\"it is raining\".count(\"x\"))"
   ]
  },
  {
   "cell_type": "markdown",
   "id": "f008fbe3",
   "metadata": {},
   "source": [
    "### 3. Find:Searches the string for a specified value and returns the position of where it was found"
   ]
  },
  {
   "cell_type": "code",
   "execution_count": 45,
   "id": "bf466807",
   "metadata": {},
   "outputs": [
    {
     "name": "stdout",
     "output_type": "stream",
     "text": [
      "-1\n"
     ]
    }
   ],
   "source": [
    "print(\"it is raining\".find(\"x\"))"
   ]
  },
  {
   "cell_type": "markdown",
   "id": "79b1a348",
   "metadata": {},
   "source": [
    "### 3. index:Searches the string for a specified value and returns the position of where it was found"
   ]
  },
  {
   "cell_type": "code",
   "execution_count": 46,
   "id": "68e02205",
   "metadata": {},
   "outputs": [
    {
     "name": "stdout",
     "output_type": "stream",
     "text": [
      "-1\n"
     ]
    }
   ],
   "source": [
    "print(\"it is raining\".find(\"x\"))"
   ]
  },
  {
   "cell_type": "markdown",
   "id": "94026889",
   "metadata": {},
   "source": [
    "###  4. endswith:Returns true if the string ends with the specified value"
   ]
  },
  {
   "cell_type": "code",
   "execution_count": 47,
   "id": "47f56521",
   "metadata": {},
   "outputs": [
    {
     "name": "stdout",
     "output_type": "stream",
     "text": [
      "False\n"
     ]
    }
   ],
   "source": [
    "print(\"it is raining\".endswith(\"ingef\"))"
   ]
  },
  {
   "cell_type": "markdown",
   "id": "1594ae74",
   "metadata": {},
   "source": [
    "### 4 startswith:Returns true if the string starts with the specified value"
   ]
  },
  {
   "cell_type": "code",
   "execution_count": 48,
   "id": "3ebe9fad",
   "metadata": {},
   "outputs": [
    {
     "name": "stdout",
     "output_type": "stream",
     "text": [
      "True\n"
     ]
    }
   ],
   "source": [
    "print(\"it is raining\".startswith(\"it\"))"
   ]
  },
  {
   "cell_type": "markdown",
   "id": "e9b10735",
   "metadata": {},
   "source": [
    "### 5. format:formats specified values in a string"
   ]
  },
  {
   "cell_type": "code",
   "execution_count": 49,
   "id": "9835de6e",
   "metadata": {},
   "outputs": [
    {
     "name": "stdout",
     "output_type": "stream",
     "text": [
      "Hello my name is Bibek and I am 23\n"
     ]
    }
   ],
   "source": [
    "print(\"Hello my name is {} and I am {}\".format(\"Bibek\",23))"
   ]
  },
  {
   "cell_type": "code",
   "execution_count": 50,
   "id": "9ff2792b",
   "metadata": {},
   "outputs": [
    {
     "name": "stdout",
     "output_type": "stream",
     "text": [
      "Hello my name is Bibek and I am 23\n"
     ]
    }
   ],
   "source": [
    "print(\"Hello my name is {1} and I am {0}\".format(23,\"Bibek\"))"
   ]
  },
  {
   "cell_type": "code",
   "execution_count": 51,
   "id": "dea2e766",
   "metadata": {},
   "outputs": [
    {
     "name": "stdout",
     "output_type": "stream",
     "text": [
      "Hello my name is 25 and I am bibek\n"
     ]
    }
   ],
   "source": [
    "print(\"Hello my name is {age} and I am {name}\".format(name = \"bibek\",age = 25))"
   ]
  },
  {
   "cell_type": "code",
   "execution_count": 52,
   "id": "7d54eeb6",
   "metadata": {},
   "outputs": [
    {
     "name": "stdout",
     "output_type": "stream",
     "text": [
      "Hello my name is bibek and I am bibek\n"
     ]
    }
   ],
   "source": [
    "print(\"Hello my name is {name} and I am {name}\".format(name = \"bibek\",age = 25, weight = 60))"
   ]
  },
  {
   "cell_type": "markdown",
   "id": "8ad0a82c",
   "metadata": {},
   "source": [
    "### 6.isalnum:Returns True if all characters in the string are alphanumeric"
   ]
  },
  {
   "cell_type": "code",
   "execution_count": 53,
   "id": "ff55807e",
   "metadata": {},
   "outputs": [
    {
     "name": "stdout",
     "output_type": "stream",
     "text": [
      "False\n"
     ]
    }
   ],
   "source": [
    "print(\"FLAT20&\".isalnum())"
   ]
  },
  {
   "cell_type": "markdown",
   "id": "a19146e4",
   "metadata": {},
   "source": [
    "### 6. isalpha:Returns True if all characters in the string are in the alphabet "
   ]
  },
  {
   "cell_type": "code",
   "execution_count": 54,
   "id": "d5e586d5",
   "metadata": {},
   "outputs": [
    {
     "name": "stdout",
     "output_type": "stream",
     "text": [
      "False\n"
     ]
    }
   ],
   "source": [
    "print(\"FLAT20\".isalpha())"
   ]
  },
  {
   "cell_type": "markdown",
   "id": "a58c9628",
   "metadata": {},
   "source": [
    "### 6. isdigit :Returns True if all characters in the string are digits"
   ]
  },
  {
   "cell_type": "code",
   "execution_count": 55,
   "id": "38e6508f",
   "metadata": {},
   "outputs": [
    {
     "name": "stdout",
     "output_type": "stream",
     "text": [
      "False\n"
     ]
    }
   ],
   "source": [
    "print(\"20A\".isdigit())"
   ]
  },
  {
   "cell_type": "markdown",
   "id": "a68b14e4",
   "metadata": {},
   "source": [
    "### 6.isidentifier:Returns True if the string is an identifier"
   ]
  },
  {
   "cell_type": "code",
   "execution_count": 56,
   "id": "8f5fab76",
   "metadata": {},
   "outputs": [
    {
     "name": "stdout",
     "output_type": "stream",
     "text": [
      "True\n"
     ]
    }
   ],
   "source": [
    "print(\"hello_world\".isidentifier())"
   ]
  },
  {
   "cell_type": "markdown",
   "id": "3c56d6ff",
   "metadata": {},
   "source": [
    "### 7.Split:Splits the string at the specified separator, and returns a list"
   ]
  },
  {
   "cell_type": "code",
   "execution_count": 57,
   "id": "0b409cf2",
   "metadata": {},
   "outputs": [
    {
     "name": "stdout",
     "output_type": "stream",
     "text": [
      "['who', 'is', 'the', 'pm', 'of', 'india']\n"
     ]
    }
   ],
   "source": [
    "print(\"who is the pm of india\".split())"
   ]
  },
  {
   "cell_type": "code",
   "execution_count": 58,
   "id": "bf82324c",
   "metadata": {},
   "outputs": [
    {
     "name": "stdout",
     "output_type": "stream",
     "text": [
      "['who is the pm of india']\n"
     ]
    }
   ],
   "source": [
    "print(\"who is the pm of india\".split(\"x\"))"
   ]
  },
  {
   "cell_type": "markdown",
   "id": "6288ed56",
   "metadata": {},
   "source": [
    "### 8. Join:Converts the elements of an iterable into a string"
   ]
  },
  {
   "cell_type": "code",
   "execution_count": 59,
   "id": "200dc1b6",
   "metadata": {},
   "outputs": [
    {
     "name": "stdout",
     "output_type": "stream",
     "text": [
      "who is the pm of india\n"
     ]
    }
   ],
   "source": [
    "print(\" \".join(['who', 'is', 'the', 'pm', 'of', 'india']))"
   ]
  },
  {
   "cell_type": "code",
   "execution_count": 60,
   "id": "bd8c0900",
   "metadata": {},
   "outputs": [
    {
     "name": "stdout",
     "output_type": "stream",
     "text": [
      "who-is-the-pm-of-india\n"
     ]
    }
   ],
   "source": [
    "print(\"-\".join(['who', 'is', 'the', 'pm', 'of', 'india']))"
   ]
  },
  {
   "cell_type": "markdown",
   "id": "8fc14348",
   "metadata": {},
   "source": [
    "### 9. Replace:Returns a string where a specified value is replaced with a specified value"
   ]
  },
  {
   "cell_type": "code",
   "execution_count": 61,
   "id": "6ef46ce1",
   "metadata": {},
   "outputs": [
    {
     "name": "stdout",
     "output_type": "stream",
     "text": [
      "Hi my name is Amit\n"
     ]
    }
   ],
   "source": [
    "print(\"Hi my name is Nitish\".replace(\"Nitish\",\"Amit\"))"
   ]
  },
  {
   "cell_type": "markdown",
   "id": "c11e1eaa",
   "metadata": {},
   "source": [
    "### 10. Strip:Returns a trimmed version of the string"
   ]
  },
  {
   "cell_type": "code",
   "execution_count": 62,
   "id": "c8bb8ba1",
   "metadata": {},
   "outputs": [
    {
     "name": "stdout",
     "output_type": "stream",
     "text": [
      "nitish\n"
     ]
    }
   ],
   "source": [
    "name = \"               nitish              \"\n",
    "print(name.strip())"
   ]
  },
  {
   "cell_type": "code",
   "execution_count": null,
   "id": "5219bbde",
   "metadata": {},
   "outputs": [],
   "source": []
  }
 ],
 "metadata": {
  "kernelspec": {
   "display_name": "Python 3 (ipykernel)",
   "language": "python",
   "name": "python3"
  },
  "language_info": {
   "codemirror_mode": {
    "name": "ipython",
    "version": 3
   },
   "file_extension": ".py",
   "mimetype": "text/x-python",
   "name": "python",
   "nbconvert_exporter": "python",
   "pygments_lexer": "ipython3",
   "version": "3.9.13"
  }
 },
 "nbformat": 4,
 "nbformat_minor": 5
}
