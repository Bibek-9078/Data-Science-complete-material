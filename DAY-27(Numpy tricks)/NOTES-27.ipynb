{
 "cells": [
  {
   "cell_type": "markdown",
   "id": "1d006137",
   "metadata": {},
   "source": [
    "# numpy tricks"
   ]
  },
  {
   "cell_type": "markdown",
   "id": "5342a315",
   "metadata": {},
   "source": [
    "### 1. np.sort:Return a sorted copy of an array."
   ]
  },
  {
   "cell_type": "code",
   "execution_count": 1,
   "id": "96c97716",
   "metadata": {},
   "outputs": [],
   "source": [
    "import numpy as np\n",
    "import warnings \n",
    "warnings. filterwarnings('ignore')"
   ]
  },
  {
   "cell_type": "code",
   "execution_count": 2,
   "id": "a1e50983",
   "metadata": {},
   "outputs": [],
   "source": [
    "a = np.random.randint(1,100,15)"
   ]
  },
  {
   "cell_type": "code",
   "execution_count": 3,
   "id": "68478117",
   "metadata": {},
   "outputs": [
    {
     "data": {
      "text/plain": [
       "array([ 3, 24, 98, 96,  1, 46, 64, 40,  6, 18, 49, 80, 40, 70, 21])"
      ]
     },
     "execution_count": 3,
     "metadata": {},
     "output_type": "execute_result"
    }
   ],
   "source": [
    "a"
   ]
  },
  {
   "cell_type": "code",
   "execution_count": 4,
   "id": "392cb947",
   "metadata": {},
   "outputs": [],
   "source": [
    "b = np.random.randint(1,100,24).reshape(6,4)"
   ]
  },
  {
   "cell_type": "code",
   "execution_count": 5,
   "id": "c6c7a6c6",
   "metadata": {},
   "outputs": [
    {
     "data": {
      "text/plain": [
       "array([[99, 64, 62, 91],\n",
       "       [30, 35, 85, 22],\n",
       "       [72, 90, 61, 32],\n",
       "       [91, 48, 26, 99],\n",
       "       [34, 54, 23, 79],\n",
       "       [37, 24, 88, 34]])"
      ]
     },
     "execution_count": 5,
     "metadata": {},
     "output_type": "execute_result"
    }
   ],
   "source": [
    "b"
   ]
  },
  {
   "cell_type": "code",
   "execution_count": 6,
   "id": "58ac5546",
   "metadata": {},
   "outputs": [
    {
     "data": {
      "text/plain": [
       "array([98, 96, 80, 70, 64, 49, 46, 40, 40, 24, 21, 18,  6,  3,  1])"
      ]
     },
     "execution_count": 6,
     "metadata": {},
     "output_type": "execute_result"
    }
   ],
   "source": [
    "np.sort(a)[::-1]"
   ]
  },
  {
   "cell_type": "code",
   "execution_count": 7,
   "id": "7a5a529f",
   "metadata": {},
   "outputs": [
    {
     "data": {
      "text/plain": [
       "array([[30, 24, 23, 22],\n",
       "       [34, 35, 26, 32],\n",
       "       [37, 48, 61, 34],\n",
       "       [72, 54, 62, 79],\n",
       "       [91, 64, 85, 91],\n",
       "       [99, 90, 88, 99]])"
      ]
     },
     "execution_count": 7,
     "metadata": {},
     "output_type": "execute_result"
    }
   ],
   "source": [
    "np.sort(b,axis=0)"
   ]
  },
  {
   "cell_type": "markdown",
   "id": "2c0d6c93",
   "metadata": {},
   "source": [
    "### 2. np.append:The numpy.append() appends values along the mentioned axis at the end of the array"
   ]
  },
  {
   "cell_type": "code",
   "execution_count": 8,
   "id": "4a8b3bca",
   "metadata": {},
   "outputs": [
    {
     "data": {
      "text/plain": [
       "array([  3,  24,  98,  96,   1,  46,  64,  40,   6,  18,  49,  80,  40,\n",
       "        70,  21, 200])"
      ]
     },
     "execution_count": 8,
     "metadata": {},
     "output_type": "execute_result"
    }
   ],
   "source": [
    "np.append(a,200)"
   ]
  },
  {
   "cell_type": "code",
   "execution_count": 9,
   "id": "34fca393",
   "metadata": {},
   "outputs": [
    {
     "data": {
      "text/plain": [
       "array([[99, 64, 62, 91],\n",
       "       [30, 35, 85, 22],\n",
       "       [72, 90, 61, 32],\n",
       "       [91, 48, 26, 99],\n",
       "       [34, 54, 23, 79],\n",
       "       [37, 24, 88, 34]])"
      ]
     },
     "execution_count": 9,
     "metadata": {},
     "output_type": "execute_result"
    }
   ],
   "source": [
    "b"
   ]
  },
  {
   "cell_type": "code",
   "execution_count": 10,
   "id": "9b6818cb",
   "metadata": {},
   "outputs": [
    {
     "data": {
      "text/plain": [
       "array([[99.        , 64.        , 62.        , 91.        ,  0.96137981],\n",
       "       [30.        , 35.        , 85.        , 22.        ,  0.45866205],\n",
       "       [72.        , 90.        , 61.        , 32.        ,  0.20519085],\n",
       "       [91.        , 48.        , 26.        , 99.        ,  0.98736427],\n",
       "       [34.        , 54.        , 23.        , 79.        ,  0.6368904 ],\n",
       "       [37.        , 24.        , 88.        , 34.        ,  0.61971829]])"
      ]
     },
     "execution_count": 10,
     "metadata": {},
     "output_type": "execute_result"
    }
   ],
   "source": [
    "np.append(b,np.random.random((b.shape[0],1)),axis=1)"
   ]
  },
  {
   "cell_type": "markdown",
   "id": "34bb7f3f",
   "metadata": {},
   "source": [
    "### 3. np.concatenate:numpy.concatenate() function concatenate a sequence of arrays along an existing axis."
   ]
  },
  {
   "cell_type": "code",
   "execution_count": 11,
   "id": "9d68c313",
   "metadata": {},
   "outputs": [],
   "source": [
    "c = np.arange(6).reshape(2,3)\n",
    "d = np.arange(6,12).reshape(2,3)"
   ]
  },
  {
   "cell_type": "code",
   "execution_count": 12,
   "id": "a195d9c1",
   "metadata": {},
   "outputs": [
    {
     "name": "stdout",
     "output_type": "stream",
     "text": [
      "[[0 1 2]\n",
      " [3 4 5]]\n"
     ]
    }
   ],
   "source": [
    "print(c)"
   ]
  },
  {
   "cell_type": "code",
   "execution_count": 13,
   "id": "f70cd41c",
   "metadata": {},
   "outputs": [
    {
     "name": "stdout",
     "output_type": "stream",
     "text": [
      "[[ 6  7  8]\n",
      " [ 9 10 11]]\n"
     ]
    }
   ],
   "source": [
    "print(d)"
   ]
  },
  {
   "cell_type": "code",
   "execution_count": 14,
   "id": "9bc42154",
   "metadata": {},
   "outputs": [
    {
     "data": {
      "text/plain": [
       "array([[ 0,  1,  2],\n",
       "       [ 3,  4,  5],\n",
       "       [ 6,  7,  8],\n",
       "       [ 9, 10, 11]])"
      ]
     },
     "execution_count": 14,
     "metadata": {},
     "output_type": "execute_result"
    }
   ],
   "source": [
    "np.concatenate((c,d),axis=0)"
   ]
  },
  {
   "cell_type": "code",
   "execution_count": 15,
   "id": "9aa68f24",
   "metadata": {},
   "outputs": [
    {
     "data": {
      "text/plain": [
       "array([[ 0,  1,  2,  6,  7,  8],\n",
       "       [ 3,  4,  5,  9, 10, 11]])"
      ]
     },
     "execution_count": 15,
     "metadata": {},
     "output_type": "execute_result"
    }
   ],
   "source": [
    "np.concatenate((c,d),axis=1)"
   ]
  },
  {
   "cell_type": "markdown",
   "id": "56b2269a",
   "metadata": {},
   "source": [
    "### 4. np.unique:With the help of np.unique() method, we can get the unique values from an array given as parameter in np.unique() method."
   ]
  },
  {
   "cell_type": "code",
   "execution_count": 16,
   "id": "322a8e09",
   "metadata": {},
   "outputs": [
    {
     "data": {
      "text/plain": [
       "array([1, 2, 3, 4, 5, 6])"
      ]
     },
     "execution_count": 16,
     "metadata": {},
     "output_type": "execute_result"
    }
   ],
   "source": [
    "e = np.array([1,1,2,2,3,3,4,4,5,5,6,6])\n",
    "np.unique(e)"
   ]
  },
  {
   "cell_type": "markdown",
   "id": "1805e8bb",
   "metadata": {},
   "source": [
    "### 5. np.expand_dims:With the help of Numpy.expand_dims() method, we can get the expanded dimensions of an array"
   ]
  },
  {
   "cell_type": "code",
   "execution_count": 17,
   "id": "ca779cc8",
   "metadata": {},
   "outputs": [
    {
     "data": {
      "text/plain": [
       "(15,)"
      ]
     },
     "execution_count": 17,
     "metadata": {},
     "output_type": "execute_result"
    }
   ],
   "source": [
    "a.shape"
   ]
  },
  {
   "cell_type": "code",
   "execution_count": 18,
   "id": "9aed4734",
   "metadata": {},
   "outputs": [
    {
     "data": {
      "text/plain": [
       "(1, 15)"
      ]
     },
     "execution_count": 18,
     "metadata": {},
     "output_type": "execute_result"
    }
   ],
   "source": [
    "np.expand_dims(a,axis=0).shape"
   ]
  },
  {
   "cell_type": "code",
   "execution_count": 19,
   "id": "b5315c7e",
   "metadata": {},
   "outputs": [
    {
     "data": {
      "text/plain": [
       "array([[ 3],\n",
       "       [24],\n",
       "       [98],\n",
       "       [96],\n",
       "       [ 1],\n",
       "       [46],\n",
       "       [64],\n",
       "       [40],\n",
       "       [ 6],\n",
       "       [18],\n",
       "       [49],\n",
       "       [80],\n",
       "       [40],\n",
       "       [70],\n",
       "       [21]])"
      ]
     },
     "execution_count": 19,
     "metadata": {},
     "output_type": "execute_result"
    }
   ],
   "source": [
    "np.expand_dims(a,axis=1)"
   ]
  },
  {
   "cell_type": "markdown",
   "id": "94b23b2b",
   "metadata": {},
   "source": [
    "### 6.np.where:The numpy.where() function returns the indices of elements in an input array where the given condition is satisfied."
   ]
  },
  {
   "cell_type": "code",
   "execution_count": 20,
   "id": "37a3b768",
   "metadata": {},
   "outputs": [
    {
     "data": {
      "text/plain": [
       "array([ 3, 24, 98, 96,  1, 46, 64, 40,  6, 18, 49, 80, 40, 70, 21])"
      ]
     },
     "execution_count": 20,
     "metadata": {},
     "output_type": "execute_result"
    }
   ],
   "source": [
    "a"
   ]
  },
  {
   "cell_type": "markdown",
   "id": "fa58b83f",
   "metadata": {},
   "source": [
    "#### find all indices with value greater than 50"
   ]
  },
  {
   "cell_type": "code",
   "execution_count": 21,
   "id": "91569b79",
   "metadata": {},
   "outputs": [
    {
     "data": {
      "text/plain": [
       "(array([ 2,  3,  6, 11, 13], dtype=int64),)"
      ]
     },
     "execution_count": 21,
     "metadata": {},
     "output_type": "execute_result"
    }
   ],
   "source": [
    "np.where(a>50)"
   ]
  },
  {
   "cell_type": "markdown",
   "id": "80804b8f",
   "metadata": {},
   "source": [
    "#### replace all values > 50 with "
   ]
  },
  {
   "cell_type": "code",
   "execution_count": 22,
   "id": "166dff18",
   "metadata": {},
   "outputs": [
    {
     "data": {
      "text/plain": [
       "array([ 3, 24,  0,  0,  1, 46,  0, 40,  6, 18, 49,  0, 40,  0, 21])"
      ]
     },
     "execution_count": 22,
     "metadata": {},
     "output_type": "execute_result"
    }
   ],
   "source": [
    "np.where(a>50,0,a)"
   ]
  },
  {
   "cell_type": "code",
   "execution_count": 23,
   "id": "196807d8",
   "metadata": {},
   "outputs": [
    {
     "data": {
      "text/plain": [
       "array([ 3,  0,  0,  0,  1,  0,  0,  0,  0,  0, 49,  0,  0,  0, 21])"
      ]
     },
     "execution_count": 23,
     "metadata": {},
     "output_type": "execute_result"
    }
   ],
   "source": [
    "np.where(a%2 == 0,0,a)"
   ]
  },
  {
   "cell_type": "markdown",
   "id": "1472ad97",
   "metadata": {},
   "source": [
    "### 7.np.argmax:The numpy.argmax() function returns indices of the max element of the array in a particular axis."
   ]
  },
  {
   "cell_type": "code",
   "execution_count": 24,
   "id": "87213a73",
   "metadata": {},
   "outputs": [
    {
     "data": {
      "text/plain": [
       "2"
      ]
     },
     "execution_count": 24,
     "metadata": {},
     "output_type": "execute_result"
    }
   ],
   "source": [
    "np.argmax(a)"
   ]
  },
  {
   "cell_type": "code",
   "execution_count": 25,
   "id": "ca8176a2",
   "metadata": {},
   "outputs": [
    {
     "data": {
      "text/plain": [
       "array([[99, 64, 62, 91],\n",
       "       [30, 35, 85, 22],\n",
       "       [72, 90, 61, 32],\n",
       "       [91, 48, 26, 99],\n",
       "       [34, 54, 23, 79],\n",
       "       [37, 24, 88, 34]])"
      ]
     },
     "execution_count": 25,
     "metadata": {},
     "output_type": "execute_result"
    }
   ],
   "source": [
    "b"
   ]
  },
  {
   "cell_type": "code",
   "execution_count": 26,
   "id": "3ff09205",
   "metadata": {},
   "outputs": [
    {
     "data": {
      "text/plain": [
       "array([0, 2, 5, 3], dtype=int64)"
      ]
     },
     "execution_count": 26,
     "metadata": {},
     "output_type": "execute_result"
    }
   ],
   "source": [
    "np.argmax(b,axis=0)"
   ]
  },
  {
   "cell_type": "code",
   "execution_count": 27,
   "id": "63f57789",
   "metadata": {},
   "outputs": [
    {
     "data": {
      "text/plain": [
       "array([0, 2, 1, 3, 3, 2], dtype=int64)"
      ]
     },
     "execution_count": 27,
     "metadata": {},
     "output_type": "execute_result"
    }
   ],
   "source": [
    "np.argmax(b,axis=1)"
   ]
  },
  {
   "cell_type": "code",
   "execution_count": 28,
   "id": "fd38a141",
   "metadata": {},
   "outputs": [
    {
     "data": {
      "text/plain": [
       "4"
      ]
     },
     "execution_count": 28,
     "metadata": {},
     "output_type": "execute_result"
    }
   ],
   "source": [
    "# np.argmin\n",
    "np.argmin(a)"
   ]
  },
  {
   "cell_type": "markdown",
   "id": "04c9c3b6",
   "metadata": {},
   "source": [
    "### 8.np.cumsum:numpy.cumsum() function is used when we want to compute the cumulative sum of array elements over a given axis."
   ]
  },
  {
   "cell_type": "code",
   "execution_count": 29,
   "id": "63f716b9",
   "metadata": {},
   "outputs": [
    {
     "data": {
      "text/plain": [
       "array([  3,  27, 125, 221, 222, 268, 332, 372, 378, 396, 445, 525, 565,\n",
       "       635, 656], dtype=int32)"
      ]
     },
     "execution_count": 29,
     "metadata": {},
     "output_type": "execute_result"
    }
   ],
   "source": [
    "np.cumsum(a)"
   ]
  },
  {
   "cell_type": "code",
   "execution_count": 30,
   "id": "dddfb750",
   "metadata": {},
   "outputs": [
    {
     "data": {
      "text/plain": [
       "array([[ 99, 163, 225, 316],\n",
       "       [ 30,  65, 150, 172],\n",
       "       [ 72, 162, 223, 255],\n",
       "       [ 91, 139, 165, 264],\n",
       "       [ 34,  88, 111, 190],\n",
       "       [ 37,  61, 149, 183]], dtype=int32)"
      ]
     },
     "execution_count": 30,
     "metadata": {},
     "output_type": "execute_result"
    }
   ],
   "source": [
    "np.cumsum(b,axis=1)"
   ]
  },
  {
   "cell_type": "code",
   "execution_count": 31,
   "id": "b368143b",
   "metadata": {},
   "outputs": [
    {
     "data": {
      "text/plain": [
       "array([  99,  163,  225,  316,  346,  381,  466,  488,  560,  650,  711,\n",
       "        743,  834,  882,  908, 1007, 1041, 1095, 1118, 1197, 1234, 1258,\n",
       "       1346, 1380], dtype=int32)"
      ]
     },
     "execution_count": 31,
     "metadata": {},
     "output_type": "execute_result"
    }
   ],
   "source": [
    "np.cumsum(b)"
   ]
  },
  {
   "cell_type": "code",
   "execution_count": 32,
   "id": "9c5a5e3b",
   "metadata": {},
   "outputs": [
    {
     "data": {
      "text/plain": [
       "array([          3,          72,        7056,      677376,      677376,\n",
       "          31159296,  1994194944, -1836580864,  1865416704,  -782237696,\n",
       "         325058560,   234881024,   805306368,   536870912, -1610612736],\n",
       "      dtype=int32)"
      ]
     },
     "execution_count": 32,
     "metadata": {},
     "output_type": "execute_result"
    }
   ],
   "source": [
    "# np.cumprod\n",
    "np.cumprod(a)"
   ]
  },
  {
   "cell_type": "markdown",
   "id": "5ad5b2f1",
   "metadata": {},
   "source": [
    "### 9.np.percentile:numpy.percentile()function used to compute the nth percentile of the given data (array elements) along the specified axis"
   ]
  },
  {
   "cell_type": "code",
   "execution_count": 33,
   "id": "a61b9a41",
   "metadata": {},
   "outputs": [
    {
     "data": {
      "text/plain": [
       "40.0"
      ]
     },
     "execution_count": 33,
     "metadata": {},
     "output_type": "execute_result"
    }
   ],
   "source": [
    "np.percentile(a,50)"
   ]
  },
  {
   "cell_type": "code",
   "execution_count": 34,
   "id": "10e9533d",
   "metadata": {},
   "outputs": [
    {
     "data": {
      "text/plain": [
       "40.0"
      ]
     },
     "execution_count": 34,
     "metadata": {},
     "output_type": "execute_result"
    }
   ],
   "source": [
    "np.median(a)"
   ]
  },
  {
   "cell_type": "markdown",
   "id": "bb3f6a33",
   "metadata": {},
   "source": [
    "### 10.np.histogram:Numpy has a built-in numpy.histogram() function which represents the frequency of data distribution in the graphical form."
   ]
  },
  {
   "cell_type": "code",
   "execution_count": 35,
   "id": "f2064351",
   "metadata": {},
   "outputs": [
    {
     "data": {
      "text/plain": [
       "array([ 3, 24, 98, 96,  1, 46, 64, 40,  6, 18, 49, 80, 40, 70, 21])"
      ]
     },
     "execution_count": 35,
     "metadata": {},
     "output_type": "execute_result"
    }
   ],
   "source": [
    "a"
   ]
  },
  {
   "cell_type": "code",
   "execution_count": 36,
   "id": "c499689f",
   "metadata": {},
   "outputs": [
    {
     "data": {
      "text/plain": [
       "(array([10,  5], dtype=int64), array([  0,  50, 100]))"
      ]
     },
     "execution_count": 36,
     "metadata": {},
     "output_type": "execute_result"
    }
   ],
   "source": [
    "np.histogram(a,bins=[0,50,100])"
   ]
  },
  {
   "cell_type": "markdown",
   "id": "5758b492",
   "metadata": {},
   "source": [
    "### 11.np.corrcoef:Return Pearson product-moment correlation coefficients."
   ]
  },
  {
   "cell_type": "code",
   "execution_count": 37,
   "id": "96b05036",
   "metadata": {},
   "outputs": [
    {
     "data": {
      "text/plain": [
       "array([[1.        , 0.25344572],\n",
       "       [0.25344572, 1.        ]])"
      ]
     },
     "execution_count": 37,
     "metadata": {},
     "output_type": "execute_result"
    }
   ],
   "source": [
    "salary = np.array([20000,40000,25000,35000,60000])\n",
    "experience = np.array([1,3,2,4,2])\n",
    "np.corrcoef(salary,experience)"
   ]
  },
  {
   "cell_type": "markdown",
   "id": "61f2f9c3",
   "metadata": {},
   "source": [
    "### 12.np.isin:With the help of numpy.isin() method, we can see that one array having values are checked in a different numpy array having different elements with different sizes."
   ]
  },
  {
   "cell_type": "code",
   "execution_count": 38,
   "id": "0ad6a312",
   "metadata": {},
   "outputs": [
    {
     "data": {
      "text/plain": [
       "array([ 3, 24, 98, 96,  1, 46, 64, 40,  6, 18, 49, 80, 40, 70, 21])"
      ]
     },
     "execution_count": 38,
     "metadata": {},
     "output_type": "execute_result"
    }
   ],
   "source": [
    "a"
   ]
  },
  {
   "cell_type": "code",
   "execution_count": 39,
   "id": "70db97b6",
   "metadata": {},
   "outputs": [
    {
     "data": {
      "text/plain": [
       "array([40, 80, 40, 70])"
      ]
     },
     "execution_count": 39,
     "metadata": {},
     "output_type": "execute_result"
    }
   ],
   "source": [
    "items = [10,20,30,40,50,60,70,80,90,100]\n",
    "a[np.isin(a,items)]"
   ]
  },
  {
   "cell_type": "markdown",
   "id": "e158e43f",
   "metadata": {},
   "source": [
    "### 13.np.flip:The numpy.flip() function reverses the order of array elements along the specified axis, preserving the shape of the array"
   ]
  },
  {
   "cell_type": "code",
   "execution_count": 40,
   "id": "0e049326",
   "metadata": {},
   "outputs": [
    {
     "data": {
      "text/plain": [
       "array([ 3, 24, 98, 96,  1, 46, 64, 40,  6, 18, 49, 80, 40, 70, 21])"
      ]
     },
     "execution_count": 40,
     "metadata": {},
     "output_type": "execute_result"
    }
   ],
   "source": [
    "a"
   ]
  },
  {
   "cell_type": "code",
   "execution_count": 41,
   "id": "c6a32015",
   "metadata": {},
   "outputs": [
    {
     "data": {
      "text/plain": [
       "array([21, 70, 40, 80, 49, 18,  6, 40, 64, 46,  1, 96, 98, 24,  3])"
      ]
     },
     "execution_count": 41,
     "metadata": {},
     "output_type": "execute_result"
    }
   ],
   "source": [
    "np.flip(a)"
   ]
  },
  {
   "cell_type": "code",
   "execution_count": 42,
   "id": "f9fd0915",
   "metadata": {},
   "outputs": [
    {
     "data": {
      "text/plain": [
       "array([[99, 64, 62, 91],\n",
       "       [30, 35, 85, 22],\n",
       "       [72, 90, 61, 32],\n",
       "       [91, 48, 26, 99],\n",
       "       [34, 54, 23, 79],\n",
       "       [37, 24, 88, 34]])"
      ]
     },
     "execution_count": 42,
     "metadata": {},
     "output_type": "execute_result"
    }
   ],
   "source": [
    "b"
   ]
  },
  {
   "cell_type": "code",
   "execution_count": 43,
   "id": "03c5ad50",
   "metadata": {},
   "outputs": [
    {
     "data": {
      "text/plain": [
       "array([[91, 62, 64, 99],\n",
       "       [22, 85, 35, 30],\n",
       "       [32, 61, 90, 72],\n",
       "       [99, 26, 48, 91],\n",
       "       [79, 23, 54, 34],\n",
       "       [34, 88, 24, 37]])"
      ]
     },
     "execution_count": 43,
     "metadata": {},
     "output_type": "execute_result"
    }
   ],
   "source": [
    "np.flip(b,axis=1)"
   ]
  },
  {
   "cell_type": "markdown",
   "id": "3a7bdddb",
   "metadata": {},
   "source": [
    "### 14.np.put:The numpy.put() function replaces specific elements of an array with given values of p_array. Array indexed works on flattened array."
   ]
  },
  {
   "cell_type": "code",
   "execution_count": 44,
   "id": "66bf4eff",
   "metadata": {},
   "outputs": [
    {
     "data": {
      "text/plain": [
       "array([ 3, 24, 98, 96,  1, 46, 64, 40,  6, 18, 49, 80, 40, 70, 21])"
      ]
     },
     "execution_count": 44,
     "metadata": {},
     "output_type": "execute_result"
    }
   ],
   "source": [
    "a"
   ]
  },
  {
   "cell_type": "code",
   "execution_count": 45,
   "id": "a6b12cda",
   "metadata": {},
   "outputs": [],
   "source": [
    "np.put(a,[0,1],[110,530])"
   ]
  },
  {
   "cell_type": "markdown",
   "id": "4868a83f",
   "metadata": {},
   "source": [
    "### 15.np.delete:The numpy.delete() function returns a new array with the deletion of sub-arrays along with the mentioned axis"
   ]
  },
  {
   "cell_type": "code",
   "execution_count": 46,
   "id": "fb8db3ca",
   "metadata": {},
   "outputs": [
    {
     "data": {
      "text/plain": [
       "array([110, 530,  98,  96,   1,  46,  64,  40,   6,  18,  49,  80,  40,\n",
       "        70,  21])"
      ]
     },
     "execution_count": 46,
     "metadata": {},
     "output_type": "execute_result"
    }
   ],
   "source": [
    "a"
   ]
  },
  {
   "cell_type": "code",
   "execution_count": 47,
   "id": "04c4ba56",
   "metadata": {},
   "outputs": [
    {
     "data": {
      "text/plain": [
       "array([530,  96,  46,  64,  40,   6,  18,  49,  80,  40,  70,  21])"
      ]
     },
     "execution_count": 47,
     "metadata": {},
     "output_type": "execute_result"
    }
   ],
   "source": [
    "np.delete(a,[0,2,4])"
   ]
  },
  {
   "cell_type": "markdown",
   "id": "06e23183",
   "metadata": {},
   "source": [
    "## 16. Set functions"
   ]
  },
  {
   "cell_type": "code",
   "execution_count": 48,
   "id": "b0647c81",
   "metadata": {},
   "outputs": [],
   "source": [
    "m = np.array([1,2,3,4,5])\n",
    "n = np.array([3,4,5,6,7])"
   ]
  },
  {
   "cell_type": "code",
   "execution_count": 49,
   "id": "dc40d89b",
   "metadata": {},
   "outputs": [
    {
     "data": {
      "text/plain": [
       "array([1, 2, 3, 4, 5, 6, 7])"
      ]
     },
     "execution_count": 49,
     "metadata": {},
     "output_type": "execute_result"
    }
   ],
   "source": [
    "np.union1d(m,n)"
   ]
  },
  {
   "cell_type": "code",
   "execution_count": 50,
   "id": "24611c3b",
   "metadata": {},
   "outputs": [
    {
     "data": {
      "text/plain": [
       "array([3, 4, 5])"
      ]
     },
     "execution_count": 50,
     "metadata": {},
     "output_type": "execute_result"
    }
   ],
   "source": [
    "np.intersect1d(m,n)"
   ]
  },
  {
   "cell_type": "code",
   "execution_count": 51,
   "id": "3c347eb1",
   "metadata": {},
   "outputs": [
    {
     "data": {
      "text/plain": [
       "array([6, 7])"
      ]
     },
     "execution_count": 51,
     "metadata": {},
     "output_type": "execute_result"
    }
   ],
   "source": [
    "np.setdiff1d(n,m)"
   ]
  },
  {
   "cell_type": "code",
   "execution_count": 52,
   "id": "d14d34bd",
   "metadata": {},
   "outputs": [
    {
     "data": {
      "text/plain": [
       "array([1, 2, 6, 7])"
      ]
     },
     "execution_count": 52,
     "metadata": {},
     "output_type": "execute_result"
    }
   ],
   "source": [
    "np.setxor1d(m,n)"
   ]
  },
  {
   "cell_type": "code",
   "execution_count": 53,
   "id": "1bde5a00",
   "metadata": {},
   "outputs": [
    {
     "data": {
      "text/plain": [
       "array([1])"
      ]
     },
     "execution_count": 53,
     "metadata": {},
     "output_type": "execute_result"
    }
   ],
   "source": [
    "m[np.in1d(m,1)]"
   ]
  },
  {
   "cell_type": "markdown",
   "id": "f80892ca",
   "metadata": {},
   "source": [
    "### 17.np.clip:numpy.clip() function is used to Clip (limit) the values in an array."
   ]
  },
  {
   "cell_type": "code",
   "execution_count": 54,
   "id": "16562198",
   "metadata": {},
   "outputs": [
    {
     "data": {
      "text/plain": [
       "array([110, 530,  98,  96,   1,  46,  64,  40,   6,  18,  49,  80,  40,\n",
       "        70,  21])"
      ]
     },
     "execution_count": 54,
     "metadata": {},
     "output_type": "execute_result"
    }
   ],
   "source": [
    "a"
   ]
  },
  {
   "cell_type": "code",
   "execution_count": 55,
   "id": "18a6a23e",
   "metadata": {},
   "outputs": [
    {
     "data": {
      "text/plain": [
       "array([75, 75, 75, 75, 25, 46, 64, 40, 25, 25, 49, 75, 40, 70, 25])"
      ]
     },
     "execution_count": 55,
     "metadata": {},
     "output_type": "execute_result"
    }
   ],
   "source": [
    "np.clip(a,a_min=25,a_max=75)"
   ]
  },
  {
   "cell_type": "code",
   "execution_count": null,
   "id": "51c3da4e",
   "metadata": {},
   "outputs": [],
   "source": []
  }
 ],
 "metadata": {
  "kernelspec": {
   "display_name": "Python 3 (ipykernel)",
   "language": "python",
   "name": "python3"
  },
  "language_info": {
   "codemirror_mode": {
    "name": "ipython",
    "version": 3
   },
   "file_extension": ".py",
   "mimetype": "text/x-python",
   "name": "python",
   "nbconvert_exporter": "python",
   "pygments_lexer": "ipython3",
   "version": "3.9.13"
  }
 },
 "nbformat": 4,
 "nbformat_minor": 5
}
